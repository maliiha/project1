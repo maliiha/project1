{
  "nbformat": 4,
  "nbformat_minor": 0,
  "metadata": {
    "colab": {
      "provenance": [],
      "authorship_tag": "ABX9TyNek1h2ppCK2Pkwz8v0i0i/",
      "include_colab_link": true
    },
    "kernelspec": {
      "name": "python3",
      "display_name": "Python 3"
    },
    "language_info": {
      "name": "python"
    }
  },
  "cells": [
    {
      "cell_type": "markdown",
      "metadata": {
        "id": "view-in-github",
        "colab_type": "text"
      },
      "source": [
        "<a href=\"https://colab.research.google.com/github/maliiha/project1/blob/main/Practice.ipynb\" target=\"_parent\"><img src=\"https://colab.research.google.com/assets/colab-badge.svg\" alt=\"Open In Colab\"/></a>"
      ]
    },
    {
      "cell_type": "markdown",
      "source": [
        "Implement a recursive algorithm to find factorial of n.   "
      ],
      "metadata": {
        "id": "MG7oBHNVwRIC"
      }
    },
    {
      "cell_type": "code",
      "execution_count": null,
      "metadata": {
        "colab": {
          "base_uri": "https://localhost:8080/"
        },
        "id": "rVurT4xyvUp7",
        "outputId": "3daed67d-a2d8-4b4e-c1a5-0df2b762a085"
      },
      "outputs": [
        {
          "output_type": "execute_result",
          "data": {
            "text/plain": [
              "362880"
            ]
          },
          "metadata": {},
          "execution_count": 3
        }
      ],
      "source": [
        "def factorial(n):\n",
        "  if(n==2):\n",
        "    return n\n",
        "  else:\n",
        "    return n * factorial(n-1)\n",
        "factorial(9)"
      ]
    },
    {
      "cell_type": "markdown",
      "source": [
        "Implement a recursive algorithm to find the n-th Fibonacci number."
      ],
      "metadata": {
        "id": "zGDvmdrBwU-W"
      }
    },
    {
      "cell_type": "code",
      "source": [
        "def fibonacci(n):\n",
        "  if(0<=n<=1):\n",
        "    return n\n",
        "  else:\n",
        "    return fibonacci(n-1) + fibonacci(n-2)\n",
        "fibonacci(3)"
      ],
      "metadata": {
        "colab": {
          "base_uri": "https://localhost:8080/"
        },
        "id": "SMhRNzBawWOj",
        "outputId": "8241077b-5602-4cce-bdda-56c8e3d84f98"
      },
      "execution_count": 6,
      "outputs": [
        {
          "output_type": "execute_result",
          "data": {
            "text/plain": [
              "2"
            ]
          },
          "metadata": {},
          "execution_count": 6
        }
      ]
    },
    {
      "cell_type": "markdown",
      "source": [
        "Print all the elements of a given array recursively."
      ],
      "metadata": {
        "id": "yYc4HElHwz5t"
      }
    },
    {
      "cell_type": "code",
      "source": [
        "def printt(arr,i):\n",
        "  if(len(arr)==i):\n",
        "    return \n",
        "  else:\n",
        "    print(arr[i])\n",
        "    return printt(arr,i+1)\n",
        "printt([10,20,30,40],0)"
      ],
      "metadata": {
        "colab": {
          "base_uri": "https://localhost:8080/"
        },
        "id": "DkShhNl2w0wO",
        "outputId": "1b04603f-c963-4d75-9316-73ff0405e9f4"
      },
      "execution_count": 7,
      "outputs": [
        {
          "output_type": "stream",
          "name": "stdout",
          "text": [
            "10\n",
            "20\n",
            "30\n",
            "40\n"
          ]
        }
      ]
    },
    {
      "cell_type": "markdown",
      "source": [
        "Given base and n that are both 1 or more, compute recursively (no loops) the value of base  to the n power, so powerN(3, 2) is 9 (3 squared). \n",
        "powerN(3, 1) → 3 \n",
        "powerN(3, 2) → 9 \n",
        "powerN(3, 3) → 27 \n",
        "\n",
        "\n",
        "\n",
        "\n"
      ],
      "metadata": {
        "id": "1ALGkWWtxTdA"
      }
    },
    {
      "cell_type": "code",
      "source": [
        "def pow(base,n):\n",
        "  if(n==1):\n",
        "    return base\n",
        "  else:\n",
        "    return n * pow(base,n-1)\n",
        "pow(3,2)"
      ],
      "metadata": {
        "colab": {
          "base_uri": "https://localhost:8080/"
        },
        "id": "w4SqicQDxT_x",
        "outputId": "dbb890ff-933d-4b8c-912b-ce78667de523"
      },
      "execution_count": 13,
      "outputs": [
        {
          "output_type": "execute_result",
          "data": {
            "text/plain": [
              "6"
            ]
          },
          "metadata": {},
          "execution_count": 13
        }
      ]
    },
    {
      "cell_type": "markdown",
      "source": [
        "Implement a recursive algorithm that takes a decimal number n and converts n to its corresponding (you may return as a string) binary number."
      ],
      "metadata": {
        "id": "_p58ndpCx6EK"
      }
    },
    {
      "cell_type": "code",
      "source": [
        "def dectobin(dec,i):\n",
        "  store=\"\"\n",
        "  if(len(dec)-1 == i):\n",
        "    return store\n",
        "  else:\n",
        "    store = store + str(int(dec%10)) + str(int(dectobin(dec//10),i+1))\n",
        "    return store\n",
        "dectobin(\"2\",0)"
      ],
      "metadata": {
        "colab": {
          "base_uri": "https://localhost:8080/",
          "height": 36
        },
        "id": "M7NipuL9x9L5",
        "outputId": "50c34d9a-388f-42c5-acdc-e6925ee089ba"
      },
      "execution_count": 24,
      "outputs": [
        {
          "output_type": "execute_result",
          "data": {
            "text/plain": [
              "''"
            ],
            "application/vnd.google.colaboratory.intrinsic+json": {
              "type": "string"
            }
          },
          "metadata": {},
          "execution_count": 24
        }
      ]
    }
  ]
}