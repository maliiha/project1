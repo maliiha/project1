{
  "nbformat": 4,
  "nbformat_minor": 0,
  "metadata": {
    "colab": {
      "provenance": [],
      "authorship_tag": "ABX9TyPPXMLwaqH98WcAigInpCHg",
      "include_colab_link": true
    },
    "kernelspec": {
      "name": "python3",
      "display_name": "Python 3"
    },
    "language_info": {
      "name": "python"
    }
  },
  "cells": [
    {
      "cell_type": "markdown",
      "metadata": {
        "id": "view-in-github",
        "colab_type": "text"
      },
      "source": [
        "<a href=\"https://colab.research.google.com/github/maliiha/project1/blob/main/Practice.ipynb\" target=\"_parent\"><img src=\"https://colab.research.google.com/assets/colab-badge.svg\" alt=\"Open In Colab\"/></a>"
      ]
    },
    {
      "cell_type": "markdown",
      "source": [
        "Implement a recursive algorithm to find factorial of n.   "
      ],
      "metadata": {
        "id": "MG7oBHNVwRIC"
      }
    },
    {
      "cell_type": "code",
      "execution_count": null,
      "metadata": {
        "colab": {
          "base_uri": "https://localhost:8080/"
        },
        "id": "rVurT4xyvUp7",
        "outputId": "3daed67d-a2d8-4b4e-c1a5-0df2b762a085"
      },
      "outputs": [
        {
          "output_type": "execute_result",
          "data": {
            "text/plain": [
              "362880"
            ]
          },
          "metadata": {},
          "execution_count": 3
        }
      ],
      "source": [
        "def factorial(n):\n",
        "  if(n==2):\n",
        "    return n\n",
        "  else:\n",
        "    return n * factorial(n-1)\n",
        "factorial(9)"
      ]
    },
    {
      "cell_type": "markdown",
      "source": [
        "Implement a recursive algorithm to find the n-th Fibonacci number."
      ],
      "metadata": {
        "id": "zGDvmdrBwU-W"
      }
    },
    {
      "cell_type": "code",
      "source": [
        "def fibonacci(n):\n",
        "  if(0<=n<=1):\n",
        "    return n\n",
        "  else:\n",
        "    return fibonacci(n-1) + fibonacci(n-2)\n",
        "fibonacci(3)"
      ],
      "metadata": {
        "colab": {
          "base_uri": "https://localhost:8080/"
        },
        "id": "SMhRNzBawWOj",
        "outputId": "8241077b-5602-4cce-bdda-56c8e3d84f98"
      },
      "execution_count": null,
      "outputs": [
        {
          "output_type": "execute_result",
          "data": {
            "text/plain": [
              "2"
            ]
          },
          "metadata": {},
          "execution_count": 6
        }
      ]
    },
    {
      "cell_type": "markdown",
      "source": [
        "Print all the elements of a given array recursively."
      ],
      "metadata": {
        "id": "yYc4HElHwz5t"
      }
    },
    {
      "cell_type": "code",
      "source": [
        "def printt(arr,i):\n",
        "  if(len(arr)==i):\n",
        "    return \n",
        "  else:\n",
        "    print(arr[i])\n",
        "    return printt(arr,i+1)\n",
        "printt([10,20,30,40],0)"
      ],
      "metadata": {
        "colab": {
          "base_uri": "https://localhost:8080/"
        },
        "id": "DkShhNl2w0wO",
        "outputId": "1b04603f-c963-4d75-9316-73ff0405e9f4"
      },
      "execution_count": null,
      "outputs": [
        {
          "output_type": "stream",
          "name": "stdout",
          "text": [
            "10\n",
            "20\n",
            "30\n",
            "40\n"
          ]
        }
      ]
    },
    {
      "cell_type": "markdown",
      "source": [
        "Given base and n that are both 1 or more, compute recursively (no loops) the value of base  to the n power, so powerN(3, 2) is 9 (3 squared). \n",
        "powerN(3, 1) → 3 \n",
        "powerN(3, 2) → 9 \n",
        "powerN(3, 3) → 27 \n",
        "\n",
        "\n",
        "\n",
        "\n"
      ],
      "metadata": {
        "id": "1ALGkWWtxTdA"
      }
    },
    {
      "cell_type": "code",
      "source": [
        "def pow(base,n):\n",
        "  if(n==1):\n",
        "    return base\n",
        "  else:\n",
        "    return n * pow(base,n-1)\n",
        "pow(3,2)"
      ],
      "metadata": {
        "colab": {
          "base_uri": "https://localhost:8080/"
        },
        "id": "w4SqicQDxT_x",
        "outputId": "dbb890ff-933d-4b8c-912b-ce78667de523"
      },
      "execution_count": null,
      "outputs": [
        {
          "output_type": "execute_result",
          "data": {
            "text/plain": [
              "6"
            ]
          },
          "metadata": {},
          "execution_count": 13
        }
      ]
    },
    {
      "cell_type": "markdown",
      "source": [
        "Implement a recursive algorithm that takes a decimal number n and converts n to its corresponding (you may return as a string) binary number."
      ],
      "metadata": {
        "id": "_p58ndpCx6EK"
      }
    },
    {
      "cell_type": "code",
      "source": [
        "def dectobin(dec):\n",
        "  if(dec==0):\n",
        "    return 0\n",
        "  else:\n",
        "    return int(str(dectobin(dec//2))+str(dec%2))\n",
        "dectobin(15)"
      ],
      "metadata": {
        "colab": {
          "base_uri": "https://localhost:8080/"
        },
        "id": "M7NipuL9x9L5",
        "outputId": "55e782f5-dad4-49db-bcaa-4bd4ebb0ba68"
      },
      "execution_count": null,
      "outputs": [
        {
          "output_type": "execute_result",
          "data": {
            "text/plain": [
              "1111"
            ]
          },
          "metadata": {},
          "execution_count": 6
        }
      ]
    },
    {
      "cell_type": "markdown",
      "source": [
        "Binary to decimal"
      ],
      "metadata": {
        "id": "Vyb25AOfJlZB"
      }
    },
    {
      "cell_type": "code",
      "source": [
        "def bintodec(bin,i,dec):\n",
        "  if(len(bin)==i):\n",
        "    return dec\n",
        "  elif(bin[i]==\"0\"):\n",
        "    return bintodec(bin,i+1,dec*2)\n",
        "  else:\n",
        "    return bintodec(bin,i+1,dec*2+1)\n",
        "bintodec(\"1111\",0,0)"
      ],
      "metadata": {
        "colab": {
          "base_uri": "https://localhost:8080/"
        },
        "id": "rBdwaQ_-JnM2",
        "outputId": "20ba092b-b5c8-450d-a848-fc23563fc738"
      },
      "execution_count": null,
      "outputs": [
        {
          "output_type": "execute_result",
          "data": {
            "text/plain": [
              "15"
            ]
          },
          "metadata": {},
          "execution_count": 19
        }
      ]
    },
    {
      "cell_type": "markdown",
      "source": [
        "Implement a recursive algorithm to add all the elements of a non-dummy headed singly linked linear list. Only head of the list will be given as parameter where you may assume every node can contain only integer as its element.\n",
        "Note: you’ll need a Singly Node class for this code."
      ],
      "metadata": {
        "id": "8vw-A0dBUjex"
      }
    },
    {
      "cell_type": "code",
      "source": [
        "class Node:\n",
        "  def __init__(self,value):\n",
        "    self.value=value\n",
        "    self.next=None\n",
        "class Linkedlist:\n",
        "  def __init__(self,list1):\n",
        "    self.head=Node(list1[0])\n",
        "    self.head.next = None\n",
        "    h=self.head\n",
        "    for i in range(1,len(list1)):\n",
        "      new=Node(list1[i])\n",
        "      new.next=None\n",
        "      h.next=new\n",
        "      h=new\n",
        "def adder(head):\n",
        "  if(head==None):\n",
        "    return 0\n",
        "  else:\n",
        "    return head.value + adder(head.next)\n",
        "l1=Linkedlist([10,20,30,40])\n",
        "adder(l1.head)"
      ],
      "metadata": {
        "colab": {
          "base_uri": "https://localhost:8080/"
        },
        "id": "NTKa9o-lUma4",
        "outputId": "b6b86747-55b4-452f-98a6-fdbf9fdc1742"
      },
      "execution_count": null,
      "outputs": [
        {
          "output_type": "execute_result",
          "data": {
            "text/plain": [
              "100"
            ]
          },
          "metadata": {},
          "execution_count": 42
        }
      ]
    },
    {
      "cell_type": "markdown",
      "source": [
        "Implement a recursive algorithm which will print all the elements of a non-dummy headed singly linked linear list in reversed order.\n",
        "Example: if the linked list contains 10, 20, 30 and 40, the method will print\n",
        "40\n",
        "30\n",
        "20\n",
        "10\n",
        "Note: you’ll need a Singly Node class for this code.\n"
      ],
      "metadata": {
        "id": "fvEmXbNiZn1f"
      }
    },
    {
      "cell_type": "code",
      "source": [
        "class Node:\n",
        "  def __init__(self,value):\n",
        "    self.value=value\n",
        "    self.next= None\n",
        "class Linkedlist:\n",
        "  def __init__(self,list1):\n",
        "    self.head = Node(list1[0])\n",
        "    self.head.next = None\n",
        "    head=self.head\n",
        "    for i in range(1,len(list1)):\n",
        "      new=Node(list1[i])\n",
        "      new.next = None\n",
        "      head.next = new\n",
        "      head = new\n",
        "def reverse(head):\n",
        "  if(head == None):\n",
        "    return 0\n",
        "  else:\n",
        "    reverse(head.next)\n",
        "    print(head.value)\n",
        "a2=Linkedlist([10,20,30,40])\n",
        "reverse(a2.head)"
      ],
      "metadata": {
        "colab": {
          "base_uri": "https://localhost:8080/"
        },
        "id": "fq3t5yDkZtPi",
        "outputId": "4c777c7e-ede9-4350-bb3c-69f3969f817b"
      },
      "execution_count": 2,
      "outputs": [
        {
          "output_type": "stream",
          "name": "stdout",
          "text": [
            "40\n",
            "30\n",
            "20\n",
            "10\n"
          ]
        }
      ]
    },
    {
      "cell_type": "markdown",
      "source": [
        "Suppose, you have been given a non-negative integer which is the height of a ‘house of  cards’. To build such a house you at-least require 8 cards. To increase the level (or height)  of that house, you would require four sides and a base for each level. Therefore, for the top  level, you would require 8 cards and for each of the rest of the levels below you would  require 5 extra cards. If you were asked to build level one only, you would require just 8 cards. Of course, the input can be zero; in that case, you do not build a house at all.  Complete the recursive method below to calculate the number of cards required to build  a ‘house of cards’ of specific height given by the parameter. \n"
      ],
      "metadata": {
        "id": "-oX3sOvZfIR_"
      }
    },
    {
      "cell_type": "code",
      "source": [
        "def hocBuilder(height):\n",
        "  if(height==0):\n",
        "    return f\"The house can't be built.\"\n",
        "  elif(height==1):\n",
        "    return 8\n",
        "  else:\n",
        "    return 5 + hocBuilder(height-1)\n",
        "hocBuilder(3)"
      ],
      "metadata": {
        "id": "yuyf3LdTfKcJ",
        "outputId": "85dc56af-966b-4dc4-ad03-5320e110d5a2",
        "colab": {
          "base_uri": "https://localhost:8080/"
        }
      },
      "execution_count": 7,
      "outputs": [
        {
          "output_type": "execute_result",
          "data": {
            "text/plain": [
              "18"
            ]
          },
          "metadata": {},
          "execution_count": 7
        }
      ]
    },
    {
      "cell_type": "markdown",
      "source": [
        "Print the following pattern for the given input (you must use recursion): Sample Input: 5 \n",
        "\n",
        "\n",
        "\n",
        "\n",
        "Sample Output:\n",
        "\n",
        "1\n",
        "\n",
        "\n",
        "\n",
        "\n",
        "\n",
        "\n",
        "\n",
        "\n",
        "1 \n",
        "2\n",
        "\n",
        "\n",
        "\n",
        "\n",
        "\n",
        "\n",
        "1 \n",
        "2 \n",
        "3\n",
        "\n",
        "\n",
        "\n",
        "\n",
        "1 \n",
        "2 \n",
        "3 \n",
        "4\n",
        "\n",
        "\n",
        "1 \n",
        "2 \n",
        "3 \n",
        "4 \n",
        "5\n",
        "\n",
        "\n"
      ],
      "metadata": {
        "id": "I-c5ENPTgUKI"
      }
    },
    {
      "cell_type": "code",
      "source": [
        "def pattern(first,last):\n",
        "  if(first==last+1):\n",
        "    return \n",
        "  else:\n",
        "    print(first,end=\" \")\n",
        "    return pattern(first+1,last)\n",
        "def generate(one,two):\n",
        "  if(one==two+1):\n",
        "    return \n",
        "  else:\n",
        "    pattern(1,one)\n",
        "    print()\n",
        "    return(generate(one+1,two))\n",
        "generate(1,5)"
      ],
      "metadata": {
        "id": "429HAY4RgYEK",
        "outputId": "055374c9-bb02-460f-ac6b-a644cdbc034b",
        "colab": {
          "base_uri": "https://localhost:8080/"
        }
      },
      "execution_count": 8,
      "outputs": [
        {
          "output_type": "stream",
          "name": "stdout",
          "text": [
            "1 \n",
            "1 2 \n",
            "1 2 3 \n",
            "1 2 3 4 \n",
            "1 2 3 4 5 \n"
          ]
        }
      ]
    },
    {
      "cell_type": "markdown",
      "source": [
        " Print the following pattern for the given input (you must use recursion): Sample Input: 5 \n",
        "Sample Output: \n",
        "\n",
        "\n",
        "\n",
        "\n",
        "\n",
        "\n",
        "\n",
        "\n",
        "1\n",
        "\n",
        "\n",
        "\n",
        "\n",
        "\n",
        "\n",
        "1 \n",
        "2\n",
        "\n",
        "\n",
        "\n",
        "\n",
        "1 \n",
        "2 \n",
        "3\n",
        "\n",
        "\n",
        "1 \n",
        "2 \n",
        "3 \n",
        "4\n",
        "\n",
        "1 \n",
        "2 \n",
        "3 \n",
        "4 \n",
        "5\n",
        "\n"
      ],
      "metadata": {
        "id": "uxRQpyYhhTh_"
      }
    },
    {
      "cell_type": "code",
      "source": [
        "def pattern(start,end):\n",
        "  if(start==end+1):\n",
        "    return\n",
        "  else:\n",
        "    print(start,end=\" \")\n",
        "    return(pattern(start+1,end))\n",
        "def generator(first,last):\n",
        "  if(first==last+1):\n",
        "    return\n",
        "  else:\n",
        "    print(\" \", end=\" \")\n",
        "    return(generator(first+1,last))\n",
        "def lastly(shuru,sesh):\n",
        "  if(shuru==sesh+1):\n",
        "    return\n",
        "  else:\n",
        "    generator(1,sesh-shuru)\n",
        "    pattern(1,shuru)\n",
        "    print()\n",
        "    return(lastly(shuru+1,sesh))\n",
        "lastly(1,5)"
      ],
      "metadata": {
        "id": "QXN_PhmyhUzx",
        "outputId": "f531e9f3-5951-4b99-c555-41d79e7f67a6",
        "colab": {
          "base_uri": "https://localhost:8080/"
        }
      },
      "execution_count": 9,
      "outputs": [
        {
          "output_type": "stream",
          "name": "stdout",
          "text": [
            "        1 \n",
            "      1 2 \n",
            "    1 2 3 \n",
            "  1 2 3 4 \n",
            "1 2 3 4 5 \n"
          ]
        }
      ]
    },
    {
      "cell_type": "markdown",
      "source": [
        " Suppose, you are working in a company ‘X’ where your job is to calculate the profit based  on their investment.  \n",
        "If the company invests 100,000 USD or less, their profit will be based on 75,000 USD as  first 25,000 USD goes to set up the business in the first place. For the first 100,000 USD,  the profit margin is low: 4.5%. Therefore, for every 100 dollar they spend, they get a profit  of 4.5 dollar. \n",
        "For an investment greater than 100,000 USD, for the first 100,000 USD (actually on 75,000  USD as 25,000 is the setup cost), the profit margin is 4.5% where for the rest, it goes up to  8%. For example, if they invest 250,000 USD, they will get an 8% profit for the 150,000  USD. In addition, from the rest 100,000 USD, 25,000 is the setup cost and there will be a  4.5% profit on the rest 75,000. Investment will always be greater or equal to 25,000 and  multiple of 100. \n",
        "Complete the RECURSIVE methods below that take an array of integers (investments)  and an iterator (always sets to ZERO(‘0’) when the method is initially called) and prints  the profit for the corresponding investment. You must avoid loop and multiplication (‘*’)  operator. \n"
      ],
      "metadata": {
        "id": "Tc0RwPeii9D7"
      }
    },
    {
      "cell_type": "code",
      "source": [
        "class FinalQ: \n",
        " def print(self,array,idx): \n",
        "  if(idx<len(array)): \n",
        "    profit = self.calcProfit(array[idx])  \n",
        "    print(\"Investment: \",array[idx],\"; Profit: \",float(profit))\n",
        "    return self.print(array,idx+1)\n",
        " def calcProfit(self,investment): \n",
        "  if(investment==25000):\n",
        "    return 0\n",
        "  elif(investment<=100000):\n",
        "    return 45 + self.calcProfit(investment-1000)\n",
        "  else:\n",
        "    return 80 + self.calcProfit(investment-1000)\n",
        "array=[25000,100000,250000,350000] \n",
        "f = FinalQ() \n",
        "f.print(array,0)"
      ],
      "metadata": {
        "id": "kyIjnASojATX",
        "outputId": "f16b7aaf-98c4-4c1f-dce6-765af45db9b1",
        "colab": {
          "base_uri": "https://localhost:8080/"
        }
      },
      "execution_count": 17,
      "outputs": [
        {
          "output_type": "stream",
          "name": "stdout",
          "text": [
            "Investment:  25000 ; Profit:  0.0\n",
            "Investment:  100000 ; Profit:  3375.0\n",
            "Investment:  250000 ; Profit:  15375.0\n",
            "Investment:  350000 ; Profit:  23375.0\n"
          ]
        }
      ]
    }
  ]
}