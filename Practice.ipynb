{
  "nbformat": 4,
  "nbformat_minor": 0,
  "metadata": {
    "colab": {
      "provenance": [],
      "authorship_tag": "ABX9TyMEd7amFNuZB8a2Nojb+Rda",
      "include_colab_link": true
    },
    "kernelspec": {
      "name": "python3",
      "display_name": "Python 3"
    },
    "language_info": {
      "name": "python"
    }
  },
  "cells": [
    {
      "cell_type": "markdown",
      "metadata": {
        "id": "view-in-github",
        "colab_type": "text"
      },
      "source": [
        "<a href=\"https://colab.research.google.com/github/maliiha/project1/blob/main/Practice.ipynb\" target=\"_parent\"><img src=\"https://colab.research.google.com/assets/colab-badge.svg\" alt=\"Open In Colab\"/></a>"
      ]
    },
    {
      "cell_type": "markdown",
      "source": [
        "Implement a recursive algorithm to find factorial of n.   "
      ],
      "metadata": {
        "id": "MG7oBHNVwRIC"
      }
    },
    {
      "cell_type": "code",
      "execution_count": null,
      "metadata": {
        "colab": {
          "base_uri": "https://localhost:8080/"
        },
        "id": "rVurT4xyvUp7",
        "outputId": "3daed67d-a2d8-4b4e-c1a5-0df2b762a085"
      },
      "outputs": [
        {
          "output_type": "execute_result",
          "data": {
            "text/plain": [
              "362880"
            ]
          },
          "metadata": {},
          "execution_count": 3
        }
      ],
      "source": [
        "def factorial(n):\n",
        "  if(n==2):\n",
        "    return n\n",
        "  else:\n",
        "    return n * factorial(n-1)\n",
        "factorial(9)"
      ]
    },
    {
      "cell_type": "markdown",
      "source": [
        "Implement a recursive algorithm to find the n-th Fibonacci number."
      ],
      "metadata": {
        "id": "zGDvmdrBwU-W"
      }
    },
    {
      "cell_type": "code",
      "source": [
        "def fibonacci(n):\n",
        "  if(0<=n<=1):\n",
        "    return n\n",
        "  else:\n",
        "    return fibonacci(n-1) + fibonacci(n-2)\n",
        "fibonacci(3)"
      ],
      "metadata": {
        "colab": {
          "base_uri": "https://localhost:8080/"
        },
        "id": "SMhRNzBawWOj",
        "outputId": "8241077b-5602-4cce-bdda-56c8e3d84f98"
      },
      "execution_count": null,
      "outputs": [
        {
          "output_type": "execute_result",
          "data": {
            "text/plain": [
              "2"
            ]
          },
          "metadata": {},
          "execution_count": 6
        }
      ]
    },
    {
      "cell_type": "markdown",
      "source": [
        "Print all the elements of a given array recursively."
      ],
      "metadata": {
        "id": "yYc4HElHwz5t"
      }
    },
    {
      "cell_type": "code",
      "source": [
        "def printt(arr,i):\n",
        "  if(len(arr)==i):\n",
        "    return \n",
        "  else:\n",
        "    print(arr[i])\n",
        "    return printt(arr,i+1)\n",
        "printt([10,20,30,40],0)"
      ],
      "metadata": {
        "colab": {
          "base_uri": "https://localhost:8080/"
        },
        "id": "DkShhNl2w0wO",
        "outputId": "1b04603f-c963-4d75-9316-73ff0405e9f4"
      },
      "execution_count": null,
      "outputs": [
        {
          "output_type": "stream",
          "name": "stdout",
          "text": [
            "10\n",
            "20\n",
            "30\n",
            "40\n"
          ]
        }
      ]
    },
    {
      "cell_type": "markdown",
      "source": [
        "Given base and n that are both 1 or more, compute recursively (no loops) the value of base  to the n power, so powerN(3, 2) is 9 (3 squared). \n",
        "powerN(3, 1) → 3 \n",
        "powerN(3, 2) → 9 \n",
        "powerN(3, 3) → 27 \n",
        "\n",
        "\n",
        "\n",
        "\n"
      ],
      "metadata": {
        "id": "1ALGkWWtxTdA"
      }
    },
    {
      "cell_type": "code",
      "source": [
        "def pow(base,n):\n",
        "  if(n==1):\n",
        "    return base\n",
        "  else:\n",
        "    return n * pow(base,n-1)\n",
        "pow(3,2)"
      ],
      "metadata": {
        "colab": {
          "base_uri": "https://localhost:8080/"
        },
        "id": "w4SqicQDxT_x",
        "outputId": "dbb890ff-933d-4b8c-912b-ce78667de523"
      },
      "execution_count": null,
      "outputs": [
        {
          "output_type": "execute_result",
          "data": {
            "text/plain": [
              "6"
            ]
          },
          "metadata": {},
          "execution_count": 13
        }
      ]
    },
    {
      "cell_type": "markdown",
      "source": [
        "Implement a recursive algorithm that takes a decimal number n and converts n to its corresponding (you may return as a string) binary number."
      ],
      "metadata": {
        "id": "_p58ndpCx6EK"
      }
    },
    {
      "cell_type": "code",
      "source": [
        "def dectobin(dec):\n",
        "  if(dec==0):\n",
        "    return 0\n",
        "  else:\n",
        "    return int(str(dectobin(dec//2))+str(dec%2))\n",
        "dectobin(15)"
      ],
      "metadata": {
        "colab": {
          "base_uri": "https://localhost:8080/"
        },
        "id": "M7NipuL9x9L5",
        "outputId": "55e782f5-dad4-49db-bcaa-4bd4ebb0ba68"
      },
      "execution_count": 6,
      "outputs": [
        {
          "output_type": "execute_result",
          "data": {
            "text/plain": [
              "1111"
            ]
          },
          "metadata": {},
          "execution_count": 6
        }
      ]
    },
    {
      "cell_type": "markdown",
      "source": [
        "Binary to decimal"
      ],
      "metadata": {
        "id": "Vyb25AOfJlZB"
      }
    },
    {
      "cell_type": "code",
      "source": [
        "def bintodec(bin,i,dec):\n",
        "  if(len(bin)==i):\n",
        "    return dec\n",
        "  elif(bin[i]==\"0\"):\n",
        "    return bintodec(bin,i+1,dec*2)\n",
        "  else:\n",
        "    return bintodec(bin,i+1,dec*2+1)\n",
        "bintodec(\"1111\",0,0)"
      ],
      "metadata": {
        "colab": {
          "base_uri": "https://localhost:8080/"
        },
        "id": "rBdwaQ_-JnM2",
        "outputId": "20ba092b-b5c8-450d-a848-fc23563fc738"
      },
      "execution_count": 19,
      "outputs": [
        {
          "output_type": "execute_result",
          "data": {
            "text/plain": [
              "15"
            ]
          },
          "metadata": {},
          "execution_count": 19
        }
      ]
    },
    {
      "cell_type": "markdown",
      "source": [
        "Implement a recursive algorithm to add all the elements of a non-dummy headed singly linked linear list. Only head of the list will be given as parameter where you may assume every node can contain only integer as its element.\n",
        "Note: you’ll need a Singly Node class for this code."
      ],
      "metadata": {
        "id": "8vw-A0dBUjex"
      }
    },
    {
      "cell_type": "code",
      "source": [
        "class Node:\n",
        "  def __init__(self,value):\n",
        "    self.value=value\n",
        "    self.next=None\n",
        "class Linkedlist:\n",
        "  def __init__(self,list1):\n",
        "    self.head=Node(list1[0])\n",
        "    self.head.next = None\n",
        "    h=self.head\n",
        "    for i in range(1,len(list1)):\n",
        "      new=Node(list1[i])\n",
        "      new.next=None\n",
        "      h.next=new\n",
        "      h=new\n",
        "def adder(head):\n",
        "  if(head==None):\n",
        "    return 0\n",
        "  else:\n",
        "    return head.value + adder(head.next)\n",
        "l1=Linkedlist([10,20,30,40])\n",
        "adder(l1.head)"
      ],
      "metadata": {
        "colab": {
          "base_uri": "https://localhost:8080/"
        },
        "id": "NTKa9o-lUma4",
        "outputId": "b6b86747-55b4-452f-98a6-fdbf9fdc1742"
      },
      "execution_count": 42,
      "outputs": [
        {
          "output_type": "execute_result",
          "data": {
            "text/plain": [
              "100"
            ]
          },
          "metadata": {},
          "execution_count": 42
        }
      ]
    },
    {
      "cell_type": "markdown",
      "source": [
        "Implement a recursive algorithm which will print all the elements of a non-dummy headed singly linked linear list in reversed order.\n",
        "Example: if the linked list contains 10, 20, 30 and 40, the method will print\n",
        "40\n",
        "30\n",
        "20\n",
        "10\n",
        "Note: you’ll need a Singly Node class for this code.\n"
      ],
      "metadata": {
        "id": "fvEmXbNiZn1f"
      }
    },
    {
      "cell_type": "code",
      "source": [
        "class Node:\n",
        "  def __init__(self,value):\n",
        "    self.value=value\n",
        "    self.next= None\n",
        "class Linkedlist:\n",
        "  def __init__(self,list1):\n",
        "    self.head = Node(list1[0])\n",
        "    self.head.next = None\n",
        "    head=self.head\n",
        "    for i in range(1,len(list1)):\n",
        "      new=Node(list1[i])\n",
        "      new.next = None\n",
        "      head.next = new\n",
        "      head = new\n",
        "def reverse(head):\n",
        "  if(head == None):\n",
        "    return 0\n",
        "  else:\n",
        "    reverse(head.next)\n",
        "    print(head.value)\n",
        "a2=Linkedlist([10,20,30,40])\n",
        "reverse(a2.head)"
      ],
      "metadata": {
        "colab": {
          "base_uri": "https://localhost:8080/"
        },
        "id": "fq3t5yDkZtPi",
        "outputId": "774d7131-5b47-445b-afb5-19a24b1b55d3"
      },
      "execution_count": 44,
      "outputs": [
        {
          "output_type": "stream",
          "name": "stdout",
          "text": [
            "40\n",
            "30\n",
            "20\n",
            "10\n"
          ]
        }
      ]
    }
  ]
}