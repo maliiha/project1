{
  "nbformat": 4,
  "nbformat_minor": 0,
  "metadata": {
    "colab": {
      "name": "Assignment5",
      "provenance": [],
      "collapsed_sections": []
    },
    "kernelspec": {
      "display_name": "Python 3",
      "language": "python",
      "name": "python3"
    },
    "language_info": {
      "codemirror_mode": {
        "name": "ipython",
        "version": 3
      },
      "file_extension": ".py",
      "mimetype": "text/x-python",
      "name": "python",
      "nbconvert_exporter": "python",
      "pygments_lexer": "ipython3",
      "version": "3.8.8"
    }
  },
  "cells": [
    {
      "cell_type": "markdown",
      "metadata": {
        "id": "U4PRkuyUtDRw"
      },
      "source": [
        "# CSE110 Lab Assignment 5\n",
        "\n",
        "This Assignment is to help you develop your concept of Tuples and Dictionaries in Python.\n",
        "\n",
        "Write your name, student ID and CSE110 theory section number below:\n"
      ]
    },
    {
      "cell_type": "code",
      "metadata": {
        "id": "wl7fu2qrggWI"
      },
   
      "execution_count": null,
      "outputs": []
    },
    {
      "cell_type": "markdown",
      "metadata": {
        "id": "PD425BrvtDRy"
      },
      "source": [
        "## Write the code in Python to do the following tasks:\n",
        "\n",
        "**<font color='red'>[MUST MAINTAIN VARIABLE NAMING CONVENTIONS FOR ALL THE TASKS]</font>**\n",
        "\n",
        "## Part 1: Tuple"
      ]
    },
    {
      "cell_type": "markdown",
      "metadata": {
        "id": "FNOorLYXtDRz"
      },
      "source": [
        "### Task 1\n",
        "\n",
        "Assume, you have been given a tuple.\n",
        "\n",
        "a_tuple = (\"The Institute\",\\\n",
        "        (\"Best Mystery & Thriller\", \"The Silent Patient\", 68821),\\\n",
        "        75717,\\\n",
        "        [1, 2, 3, 400, 5, 6, 7],\\\n",
        "        (\"Best Fiction\", \"The Testaments\", 98291)\\\n",
        ")\n",
        "\n",
        "Write **one line** of Python code to access and print the value 400.\n",
        "\n",
        "===================================================================\n",
        "\n",
        "Output: 400\n",
        "\n",
        "===================================================================\n"
      ]
    },
    {
      "cell_type": "code",
      "source": [
        "a_tuple = (\"The Institute\",(\"Best Mystery & Thriller\", \"The Silent Patient\", 68821),75717,[1, 2, 3, 400, 5, 6, 7],(\"Best Fiction\", \"The Testaments\", 98291))\n",
        "print(a_tuple[3][3])"
      ],
      "metadata": {
        "colab": {
          "base_uri": "https://localhost:8080/"
        },
        "id": "MyiPAZv0akvi",
        "outputId": "9fa94ad7-5c36-4d6c-a4e8-3609712f29ab"
      },
      "execution_count": null,
      "outputs": [
        {
          "output_type": "stream",
          "name": "stdout",
          "text": [
            "400\n"
          ]
        }
      ]
    },
    {
      "cell_type": "code",
      "metadata": {
        "id": "NDKB1cIMtDR0",
        "outputId": "040fc839-1fcb-40f6-8864-57dff11dce33"
      },
      "source": [
        "#to do\n",
        "a_tuple = (\"The Institute\",(\"Best Mystery & Thriller\", \"The Silent Patient\", 68821),75717,[1, 2, 3, 400, 5, 6, 7],(\"Best Fiction\", \"The Testaments\", 98291))\n",
        "print(a_tuple[3][3])"
      ],
      "execution_count": null,
      "outputs": [
        {
          "name": "stdout",
          "output_type": "stream",
          "text": [
            "400\n"
          ]
        }
      ]
    },
    {
      "cell_type": "markdown",
      "metadata": {
        "id": "BXlIw1svtDR-"
      },
      "source": [
        "### Task 2\n",
        "\n",
        "Assume, you have been given a tuple. Write a Python program that creates a **new tuple** excluding the first and last two elements of the given tuple and prints the new tuple. \n",
        "\n",
        "**Hint:** You may use tuple slicing.\n",
        "\n",
        "===================================================================\n",
        "\n",
        "**Sample Input 1:**\\\n",
        "(10, 20, 24, 25, 26, 35, 70)\n",
        "\n",
        "\n",
        "**Sample Output 1:**\\\n",
        "(24, 25, 26)\n",
        "\n",
        "===================================================================\n",
        "\n",
        "**Sample Input 2:**\\\n",
        "(-10, 20, 30, 40)\n",
        "\n",
        "\n",
        "**Sample Output 2:**\\\n",
        "()\n",
        "\n",
        "===================================================================\n",
        "9\n",
        "**Sample Input 3:**\\\n",
        "(-10, 20, 25, 30, 40)\n",
        "\n",
        "\n",
        "**Sample Output 3:**\\\n",
        "(25,)\n",
        "\n",
        "===================================================================\n"
      ]
    },
    {
      "cell_type": "code",
      "source": [
        "x=input(\"Enter the elements you want to store: \")\n",
        "list1=[]\n",
        "for i in x:\n",
        "  list1.append(i)\n",
        "a= tuple(list1)\n",
        "print(a)"
      ],
      "metadata": {
        "colab": {
          "base_uri": "https://localhost:8080/"
        },
        "id": "wMJgdC_cbZpi",
        "outputId": "9b6d704b-b684-419f-d696-e09b5485c318"
      },
      "execution_count": null,
      "outputs": [
        {
          "output_type": "stream",
          "name": "stdout",
          "text": [
            "Enter the number of elements you want to store: 123457\n",
            "('1', '2', '3', '4', '5', '7')\n"
          ]
        }
      ]
    },
    {
      "cell_type": "code",
      "metadata": {
        "id": "FTJ-5AmNtDR_",
        "colab": {
          "base_uri": "https://localhost:8080/"
        },
        "outputId": "bc34db4d-cd00-4473-cdad-60ed7fe56248"
      },
      "source": [
        "#to do\n",
        "x=input(\"enter numbers(use comma): \").split(\",\")\n",
        "list=x\n",
        "for i in range(len(list)):\n",
        "    list[i]=int(list[i])\n",
        "tupl=tuple(list[2:-2])\n",
        "print(tupl)"
      ],
      "execution_count": null,
      "outputs": [
        {
          "output_type": "stream",
          "name": "stdout",
          "text": [
            "enter numbers(use comma): 10, 20, 24, 25, 26, 35, 70\n",
            "(24, 25, 26)\n"
          ]
        }
      ]
    },
    {
      "cell_type": "markdown",
      "metadata": {
        "id": "Z3GS2TE6tDSG"
      },
      "source": [
        "### Task 3\n",
        "\n",
        "Assume, you have been given a tuple. \n",
        "\n",
        "\n",
        "book_info = (\\\n",
        "    (\"Best Mystery & Thriller\",\"The Silent Patient\",68,821),\\\n",
        "    (\"Best Horror\",\"The Institute\",75,717),\\\n",
        "    (\"Best History & Biography\",\"The five\",31,783 ),\\\n",
        "    (\"Best Fiction\",\"The Testaments\",98,291)\\\n",
        ")\n",
        "\n",
        "Write a Python program that prints the size of the tuple and all its elements as shown below.\n",
        "\n",
        "===================================================================\n",
        "\n",
        "**Output:**\\\n",
        "Size of the tuple is: 4\\\n",
        "('Best Mystery & Thriller', 'The Silent Patient', 68, 821)\\\n",
        "('Best Horror', 'The Institute', 75, 717)\\\n",
        "('Best History & Biography', 'The five', 31, 783)\\\n",
        "('Best Fiction', 'The Testaments', 98, 291)\n",
        "\n",
        "==================================================================="
      ]
    },
    {
      "cell_type": "code",
      "metadata": {
        "id": "RPFYcAjntDSG",
        "outputId": "a37954c4-404c-4b1d-d6b8-b7b5131f039c"
      },
      "source": [
        "#to do\n",
        "book_info = ((\"Best Mystery & Thriller\",\"The Silent Patient\",68,821),(\"Best Horror\",\"The Institute\",75,717),(\"Best History & Biography\",\"The five\",31,783 ),(\"Best Fiction\",\"The Testaments\",98,291))\n",
        "print(\"Size of the tuple is:\",len(book_info))\n",
        "a,b,c,d = book_info\n",
        "print(a)\n",
        "print(b)\n",
        "print(c)\n",
        "print(d)"
      ],
      "execution_count": null,
      "outputs": [
        {
          "name": "stdout",
          "output_type": "stream",
          "text": [
            "Size of the tuple is: 4\n",
            "('Best Mystery & Thriller', 'The Silent Patient', 68, 821)\n",
            "('Best Horror', 'The Institute', 75, 717)\n",
            "('Best History & Biography', 'The five', 31, 783)\n",
            "('Best Fiction', 'The Testaments', 98, 291)\n"
          ]
        }
      ]
    },
    {
      "cell_type": "markdown",
      "metadata": {
        "id": "glKgAPlGtDSK"
      },
      "source": [
        "### Task 4\n",
        "\n",
        "Assume, you have been given a tuple with details about books that won the Good Reads Choice Awards. \n",
        "\n",
        "book_info = (\\\n",
        "    (\"Best Mystery & Thriller\",\"The Silent Patient\",68821),\\\n",
        "    (\"Best Horror\",\"The Institute\",75717),\\\n",
        "    (\"Best History & Biography\",\"The five\",31783 ),\\\n",
        "    (\"Best Fiction\",\"The Testaments\",98291)\\\n",
        ")\n",
        "\n",
        "Write a Python program that prints the award category, the book name, and its total votes earned as shown below. \n",
        "\n",
        "**<font color='red'>[Must use Tuple unpacking for printing and need to handle the quotation marks as a part of the output]</font>**\n",
        "\n",
        "===================================================================\n",
        "\n",
        "**Output:**\\\n",
        "The Silent Patient won the 'Best Mystery & Thriller' category with 68821 votes\\\n",
        "The Institute won the 'Best Horror' category with 75717 votes\\\n",
        "The five won the 'Best History & Biography' category with 31783 votes\\\n",
        "The Testaments won the 'Best Fiction' category with 98291 votes\n",
        "\n",
        "==================================================================="
      ]
    },
    {
      "cell_type": "code",
      "metadata": {
        "id": "LgTKpSGatDSM",
        "colab": {
          "base_uri": "https://localhost:8080/"
        },
        "outputId": "658d5da6-f4c5-40ab-9496-6c65ed43b3c2"
      },
      "source": [
        "#to do\n",
        "book_info = ((\"Best Mystery & Thriller\",\"The Silent Patient\",68821),(\"Best Horror\",\"The Institute\",75717),(\"Best History & Biography\",\"The five\",31783 ),(\"Best Fiction\",\"The Testaments\",98291))\n",
        "a,b,c,d = book_info\n",
        "print(a[1],\"won the '\"+a[0]+\"' category with\",a[2],\"votes.\")\n",
        "print(b[1],\"won the '\"+b[0]+\"' category with\",b[2],\"votes.\")\n",
        "print(c[1],\"won the '\"+c[0]+\"' category with\",c[2],\"votes.\")\n",
        "print(d[1],\"won the '\"+d[0]+\"' category with\",d[2],\"votes.\")"
      ],
      "execution_count": null,
      "outputs": [
        {
          "output_type": "stream",
          "name": "stdout",
          "text": [
            "The Silent Patient won the 'Best Mystery & Thriller' category with 68821 votes.\n",
            "The Institute won the 'Best Horror' category with 75717 votes.\n",
            "The five won the 'Best History & Biography' category with 31783 votes.\n",
            "The Testaments won the 'Best Fiction' category with 98291 votes.\n"
          ]
        }
      ]
    },
    {
      "cell_type": "markdown",
      "metadata": {
        "id": "bRe9K_j55zpb"
      },
      "source": [
        "### Task 5\n",
        "Write a python program that takes an input from the user and finds the number of times that the input is present in a given tuple.\n",
        "\n",
        "===================================================================\n",
        "\n",
        "<b>Example 1: </b><br/>\n",
        "\n",
        "Given tuple: (10, 8, 5, 2, 10, 15, 10, 8, 5, 8, 8, 2) <br/>\n",
        "\n",
        "<b>Sample Input 1:</b> \n",
        "\n",
        "8<br/>\n",
        "\n",
        "<b>Sample Output 1: </b> <br/>\n",
        "\n",
        "8 appears 4 times in the tuple<br/>\n",
        "\n",
        "===================================================================\n",
        "\n",
        "<b> Example 2 </b><br/>\n",
        "\n",
        "Given tuple: (10, 8, 5, 2, 10, 15, 10, 8, 5, 8, 8, 2)<br/>\n",
        "\n",
        "<b>Sample Input 2:</b>\n",
        "\n",
        "1<br/>\n",
        "\n",
        "<b>Sample Output 2:</b><br/>\n",
        "\n",
        "1 appears 0 times in the tuple\n",
        "\n",
        "==================================================================="
      ]
    },
    {
      "cell_type": "code",
      "metadata": {
        "id": "mC-B1fpStDST",
        "outputId": "a268513c-0f2b-44c1-cb9f-35432e4c5a5a"
      },
      "source": [
        "#to do\n",
        "x=input(\"enter your numbers(using comma): \").split(\",\")\n",
        "list=x\n",
        "for i in range(len(list)):\n",
        "    list[i]=int(list[i])\n",
        "tupl=tuple(list)\n",
        "y=int(input(\"enter a number: \"))\n",
        "print(\"Given tuple: \",tupl)\n",
        "print(y,\"appears\",list.count(y),\"times in the tuple.\")"
      ],
      "execution_count": null,
      "outputs": [
        {
          "name": "stdout",
          "output_type": "stream",
          "text": [
            "enter your numbers(using comma): 10, 8, 5, 2, 10, 15, 10, 8, 5, 8, 8, 2\n",
            "enter a number: 8\n",
            "Given tuple:  (10, 8, 5, 2, 10, 15, 10, 8, 5, 8, 8, 2)\n",
            "8 appears 4 times in the tuple.\n"
          ]
        }
      ]
    },
    {
      "cell_type": "markdown",
      "metadata": {
        "id": "QWNi_JWr6AfC"
      },
      "source": [
        "### Task 6\n",
        "Write a Python program to reverse a given tuple. \n",
        "\n",
        " \n",
        "  <font color='red'>[You are not allowed to use tuple slicing]</font>\n",
        "  \n",
        "===================================================================\n",
        "\n",
        "<b>Note: </b>  Unlike lists, tuples are immutable. So, in order to reverse a tuple, we may need to convert it into a list first, then modify the list, and finally convert it back to a tuple. \n",
        "\n",
        "===================================================================\n",
        "\n",
        "<b>Example 1: </b><br/>\n",
        "\n",
        "Given tuple: ('a', 'b', 'c', 'd', 'e', 'f', 'g', 'h') <br/>\n",
        "\n",
        "<b> Output: </b> <br/>\n",
        "\n",
        "('h', 'g', 'f', 'e', 'd', 'c', 'b', 'a')<br/>\n",
        "\n",
        "\n",
        "===================================================================\n",
        "\n",
        "<b> Example 2: </b><br/>\n",
        "\n",
        "Given tuple: (10, 20, 30, 40, 50, 60)<br/>\n",
        "\n",
        "<b> Output: </b><br/>\n",
        "\n",
        "(60, 50, 40, 30, 20, 10)\n",
        "\n",
        "===================================================================\n"
      ]
    },
    {
      "cell_type": "code",
      "metadata": {
        "id": "CJrUcYAN6Bkx",
        "colab": {
          "base_uri": "https://localhost:8080/"
        },
        "outputId": "928fed16-a608-4ded-cc4e-9c635e81ba3d"
      },
      "source": [
        "#to do\n",
        "x=('a', 'b', 'c', 'd', 'e', 'f', 'g', 'h')\n",
        "y=reversed(x)\n",
        "print(tuple(y))"
      ],
      "execution_count": null,
      "outputs": [
        {
          "output_type": "stream",
          "name": "stdout",
          "text": [
            "('h', 'g', 'f', 'e', 'd', 'c', 'b', 'a')\n"
          ]
        }
      ]
    },
    {
      "cell_type": "markdown",
      "metadata": {
        "id": "km0QurTJtDSX"
      },
      "source": [
        "## Part 2: Dictionary"
      ]
    },
    {
      "cell_type": "markdown",
      "metadata": {
        "id": "kvV-HnCntDSc"
      },
      "source": [
        "### Task 7\n",
        "Suppose you are given two dictionaries.\\\n",
        "Now create a new dictionary \"marks\", merging the two dictionaries, **so that the original two dictionaries remain unchanged.**\n",
        "\n",
        "\n",
        "**Note:** You can use dictionary functions.\n",
        "\n",
        "===================================================================\n",
        "\n",
        "**Given:**\n",
        "\n",
        "{'Harry':15, 'Draco':8, 'Nevil':19}\n",
        "\n",
        "{'Ginie':18, 'Luna': 14}\n",
        "\n",
        "**Output:**\n",
        "\n",
        "{'Harry': 15, 'Draco': 8, 'Nevil': 19, 'Ginie': 18, 'Luna': 14}\n",
        "\n",
        "===================================================================\n",
        "\n",
        "**Given:**\n",
        "\n",
        "{'A':90, 'B': 0}\n",
        "\n",
        "{'C':50}\n",
        "\n",
        "**Output:**\n",
        "\n",
        "{'A': 90, 'B': 0, 'C': 50}\n",
        "\n",
        "===================================================================\n"
      ]
    },
    {
      "cell_type": "code",
      "metadata": {
        "id": "BGSyClBPtDSd",
        "colab": {
          "base_uri": "https://localhost:8080/"
        },
        "outputId": "c768f256-e167-41b6-f2df-a47efd18ac05"
      },
      "source": [
        "#to do\n",
        "x={'Harry':15, 'Draco':8, 'Nevil':19}\n",
        "y={'Ginie':18, 'Luna': 14}\n",
        "x.update(y)\n",
        "print(x)\n"
      ],
      "execution_count": null,
      "outputs": [
        {
          "output_type": "stream",
          "name": "stdout",
          "text": [
            "{'Harry': 15, 'Draco': 8, 'Nevil': 19, 'Ginie': 18, 'Luna': 14}\n"
          ]
        }
      ]
    },
    {
      "cell_type": "markdown",
      "metadata": {
        "id": "QRzP4HYStDSi"
      },
      "source": [
        "### Task 8\n",
        "Write a Python program that takes a dictionary as an input from the user and then prints the average of all the values in the dictionary.\n",
        "\n",
        " <font color='red'>[You are not allowed to use len() and sum()]</font>\n",
        "\n",
        "===================================================================\n",
        "\n",
        "**Hint (1): For taking dictionary input** \n",
        "\n",
        "Approach(1): For taking dictionary as an input from the user, you may take the whole dictionary as a string using the input() function. Then you can use the split(), strip() functions and conditions to get the keys and values from the string. Finally, you can make the dictionary using the obtained data.\n",
        "\n",
        "Approach(2): If the first approach seems too difficult you can create an empty dictionary and then just run a simple loop. For each iteration ask the user for a key and a value using the input() function and keep updating the dictionary with the key and value.\n",
        "\n",
        "\n",
        "**Hint (2):** After you have a dictionary, you can use dictionary functions to get all the values from it, run loop to calculate the sum and the total number of values in the dictionary in order to find out the average.\n",
        "\n",
        "===================================================================\n",
        "\n",
        "**Sample Input 1:**\n",
        "\n",
        "{'Jon': 100, 'Dan':200, 'Rob':300}\n",
        "\n",
        "**Sample Output 1:**\n",
        "\n",
        "Average is 200.\n",
        "\n",
        "===================================================================\n",
        "\n",
        "\n",
        "**Sample Input 2:**\n",
        "\n",
        "{'Jon': 100, 'Dan':200, 'Rob':30, 'Ned':110}\n",
        "\n",
        "**Sample Output 2:**\n",
        "\n",
        "Average is 110.\n",
        "\n",
        "===================================================================\n"
      ]
    },
    {
      "cell_type": "code",
      "metadata": {
        "id": "VMRLnA53tDSk",
        "colab": {
          "base_uri": "https://localhost:8080/"
        },
        "outputId": "51ce97dc-adf0-4889-a900-9905f20545c5"
      },
      "source": [
        "#to do\n",
        "x=int(input(\"Enter the number of elements: \"))\n",
        "dict={}\n",
        "y=0\n",
        "for i in range(x):\n",
        "  k=input(\"enter the key: \")\n",
        "  v=int(input(\"enter the value: \"))\n",
        "  dict.update({k:v})\n",
        "  y=y+v\n",
        "print(dict) \n",
        "print(\"Average is: \",y/x)"
      ],
      "execution_count": null,
      "outputs": [
        {
          "output_type": "stream",
          "name": "stdout",
          "text": [
            "Enter the number of elements: 4\n",
            "enter the key: Jon\n",
            "enter the value: 100\n",
            "enter the key: Dan\n",
            "enter the value: 200\n",
            "enter the key: Rob\n",
            "enter the value: 30\n",
            "enter the key: Ned\n",
            "enter the value: 110\n",
            "{'Jon': 100, 'Dan': 200, 'Rob': 30, 'Ned': 110}\n",
            "Average is:  110.0\n"
          ]
        }
      ]
    },
    {
      "cell_type": "markdown",
      "metadata": {
        "id": "le7fZ8XC9j_x"
      },
      "source": [
        "### Task 9\n",
        "Suppose there is a dictionary named exam_marks as given below.\n",
        "\n",
        "exam_marks = {'Cierra Vega': 175, 'Alden Cantrell': 200, 'Kierra Gentry': 165, 'Pierre Cox': 190}\n",
        "\n",
        "Write a Python program that takes an input from the user and creates a new dictionary with only those elements from 'exam_marks' whose keys have values higher than the user input (inclusive).\n",
        "\n",
        "===================================================================\n",
        "\n",
        "**Sample Input 1:**\n",
        "\n",
        "170\n",
        "\n",
        "**Sample Output 1:**\n",
        "\n",
        "{'Cierra Vega': 175, 'Alden Cantrell': 200, 'Pierre Cox': 190}\n",
        "\n",
        "===================================================================\n",
        "\n",
        "**Sample Input 2:**\n",
        "\n",
        "190\n",
        "\n",
        "**Sample Output 2:**\n",
        "\n",
        "{'Alden Cantrell': 200, 'Pierre Cox': 190}\n",
        "\n",
        "==================================================================="
      ]
    },
    {
      "cell_type": "code",
      "metadata": {
        "id": "qJWoUsLN9lBY",
        "colab": {
          "base_uri": "https://localhost:8080/"
        },
        "outputId": "81d11e3a-681c-4fe6-92d1-4e24864b86b1"
      },
      "source": [
        "#to do\n",
        "exam_marks = {'Cierra Vega': 175, 'Alden Cantrell': 200, 'Kierra Gentry': 165, 'Pierre Cox': 190}\n",
        "x=int(input(\"enter a number: \"))\n",
        "dict={}\n",
        "for k,v in exam_marks.items():\n",
        "  if(v>=x):\n",
        "    dict.update({k:v})\n",
        "print(dict)   "
      ],
      "execution_count": null,
      "outputs": [
        {
          "output_type": "stream",
          "name": "stdout",
          "text": [
            "enter a number: 190\n",
            "{'Alden Cantrell': 200, 'Pierre Cox': 190}\n"
          ]
        }
      ]
    },
    {
      "cell_type": "markdown",
      "metadata": {
        "id": "IsqFQpqKtDSs"
      },
      "source": [
        "### Task 10\n",
        "Write a Python program that finds the largest value with its key from a given dictionary.  \n",
        "\n",
        "<font color='red'>\n",
        "[You are not allowed to use the max() function for this task]</font> \n",
        "\n",
        "**Note:** You do not need to take the dictionaries as an input from the user but your code should work for any given dictionary. Also, you need to handle the quotation marks as a part of the output.\n",
        "\n",
        "**Hint:** Think of membership operators (in and not in). You can use dictionary functions to get the values.\n",
        "\n",
        "===================================================================\n",
        "\n",
        "Sample 1:\n",
        "\n",
        "**Given:**\n",
        "\n",
        "{'sci fi': 12, 'mystery': 15, 'horror': 8, 'mythology': 10, 'young_adult': 4, 'adventure':14}\n",
        "\n",
        "**Output:**\n",
        "\n",
        "The highest selling book genre is 'mystery' and the number of books sold are 15.\n",
        "\n",
        "===================================================================\n",
        "\n",
        "Sample 2:\n",
        "\n",
        "**Given:**\n",
        "\n",
        "{'sci fi': 5, 'mystery': 3, 'horror': 14,\n",
        "             'young_adult': 2, 'adventure':9}\n",
        "\n",
        "**Output:**\n",
        "\n",
        "The highest selling book genre is  'horror'  and the number of books sold are 14.\n",
        "\n",
        "===================================================================\n"
      ]
    },
    {
      "cell_type": "code",
      "metadata": {
        "id": "v9Kosgs4tDSt",
        "colab": {
          "base_uri": "https://localhost:8080/"
        },
        "outputId": "933221d7-d4d3-4dca-d235-a822e955aeec"
      },
      "source": [
        "#to do\n",
        "dict={'sci fi': 5, 'mystery': 3, 'horror': 14, 'young_adult': 2, 'adventure':9}\n",
        "value=0\n",
        "key=\"\"\n",
        "for k,v in dict.items():\n",
        "  if(v>value):\n",
        "    value=v\n",
        "    key=k\n",
        "print(\"The highest selling book genre is '\"+key+\"' and the number of books sold are\",value)      "
      ],
      "execution_count": null,
      "outputs": [
        {
          "output_type": "stream",
          "name": "stdout",
          "text": [
            "The highest selling book genre is 'horror' and the number of books sold are 14\n"
          ]
        }
      ]
    },
    {
      "cell_type": "markdown",
      "metadata": {
        "id": "hAqjgwGNtDS2"
      },
      "source": [
        "### Task 11\n",
        "Write a Python program that takes a String as an input from the user and counts the frequency of each character using a dictionary. For solving this problem, you may use each character as a key and its frequency as values. <font color='red'>[You are not allowed to use the count() function]</font> \n",
        "\n",
        "**Hint:** You can create a new dictionary to store the frequencies. You may ignore case for simplicity (i.e. may consider P and p to be the same).\n",
        "\n",
        "\n",
        "===================================================================\n",
        "\n",
        "**Sample Input:**\\\n",
        "\"Python programming is fun\"\n",
        "\n",
        "**Sample Output:**\\\n",
        "{'p': 2, 'y': 1, 't': 1, 'h': 1, 'o': 2, 'n': 3, 'r': 2, 'g': 2, 'a': 1, 'm': 2, 'i': 2, 's': 1, 'f': 1, 'u': 1}\n",
        "\n",
        "===================================================================\n",
        "\n"
      ]
    },
    {
      "cell_type": "code",
      "metadata": {
        "id": "-m2yPIT7tDS3",
        "colab": {
          "base_uri": "https://localhost:8080/"
        },
        "outputId": "fc2163f2-9b31-43e0-91fd-afba77385f76"
      },
      "source": [
        "#to do\n",
        "x=input(\"enter anything: \")\n",
        "y=x.lower()\n",
        "list=[]\n",
        "for i in y:\n",
        "  list.append(i) \n",
        "while \" \" in list:\n",
        "  list.remove(\" \") \n",
        "k=\" \"\n",
        "counter=0\n",
        "dict={}\n",
        "for j in list:\n",
        "  if(j not in k):\n",
        "    k=j \n",
        "    for a in list:\n",
        "      if(k==a):\n",
        "        counter+=1 \n",
        "    dict.update({k:counter}) \n",
        "    counter=0    \n",
        "print(dict)       "
      ],
      "execution_count": null,
      "outputs": [
        {
          "output_type": "stream",
          "name": "stdout",
          "text": [
            "enter anything: Python programming is fun\n",
            "{'p': 2, 'y': 1, 't': 1, 'h': 1, 'o': 2, 'n': 3, 'r': 2, 'g': 2, 'a': 1, 'm': 2, 'i': 2, 's': 1, 'f': 1, 'u': 1}\n"
          ]
        }
      ]
    },
    {
      "cell_type": "markdown",
      "metadata": {
        "id": "QWf1zsBctDS6"
      },
      "source": [
        "### Task 12\n",
        "Suppose you are given the following dictionary where the values are lists. \n",
        "\n",
        "dict = {'A': [1, 2, 3], 'b': ['1', '2'], \"c\": [4, 5, 6, 7]}\n",
        "\n",
        "Write a Python program that counts the total number of items in a dictionary’s values and prints it. <font color='red'>\n",
        "\n",
        "[without using sum(), len(), count() functions]</font> \n",
        "\n",
        "**Note:**  Make changes to the above dictionary and see if your code works properly for other dictionaries as well.\n",
        "\n",
        "===================================================================\n",
        "\n",
        "**Output:**\n",
        "\n",
        "9\n",
        "\n",
        "===================================================================\n",
        "\n"
      ]
    },
    {
      "cell_type": "code",
      "metadata": {
        "id": "atnD3A1utDS6",
        "colab": {
          "base_uri": "https://localhost:8080/"
        },
        "outputId": "573434ca-5f4d-4e50-bda8-148d927f4572"
      },
      "source": [
        "#to do\n",
        "dict = {'A': [1, 2, 3], 'b': ['1', '2'], \"c\": [4, 5, 6,7]}\n",
        "list1=[]\n",
        "for value in dict.values():\n",
        "  list1=list1+value\n",
        "x=\"' '\"  \n",
        "counter=0\n",
        "for i in list1:\n",
        "  x=i\n",
        "  counter+=1\n",
        "print(counter)  "
      ],
      "execution_count": null,
      "outputs": [
        {
          "output_type": "stream",
          "name": "stdout",
          "text": [
            "9\n"
          ]
        }
      ]
    },
    {
      "cell_type": "markdown",
      "metadata": {
        "id": "-imuPb3EtDTD"
      },
      "source": [
        "### Task 13\n",
        "\n",
        "Suppose you have been given the following list of tuples. \n",
        "\n",
        "list = [(\"a\", 1), (\"b\", 2), (\"a\", 3), (\"b\", 1), (\"a\", 2), (\"c\", 1)]\n",
        "\n",
        "Write a Python program that converts this list of tuples into a dictionary and then prints the dictionary. \n",
        "\n",
        "<font color='red'>[You are not allowed to use set]</font> \n",
        "\n",
        "\n",
        "**Hint:** Think of membership operators (in and not in).\n",
        "\n",
        "===================================================================\n",
        "\n",
        "**Output:**\n",
        "\n",
        "{'a': [1, 3, 2], 'b': [2, 1], 'c': [1]}\n",
        "\n",
        " ===================================================================\n"
      ]
    },
    {
      "cell_type": "code",
      "metadata": {
        "id": "bBBcHpgYtDTE",
        "colab": {
          "base_uri": "https://localhost:8080/"
        },
        "outputId": "a1ae8373-5179-4641-ba61-4a2a2a2d6c20"
      },
      "source": [
        "#todo\n",
        "list = [(\"a\", 1), (\"b\", 2), (\"a\", 3), (\"b\", 1), (\"a\", 2), (\"c\", 1)]\n",
        "k=\" \"\n",
        "v=[]\n",
        "dict={}\n",
        "for i in list:\n",
        "  if(i[0] not in k):\n",
        "    k=i[0]\n",
        "  for j in list:\n",
        "    if(k==j[0]):\n",
        "      v=v+[j[1]]   \n",
        "  dict.update({k:v}) \n",
        "  v=[] \n",
        "print(dict)      "
      ],
      "execution_count": null,
      "outputs": [
        {
          "output_type": "stream",
          "name": "stdout",
          "text": [
            "{'a': [1, 3, 2], 'b': [2, 1], 'c': [1]}\n"
          ]
        }
      ]
    },
    {
      "cell_type": "markdown",
      "metadata": {
        "id": "UrxbFOWk5ASO"
      },
      "source": [
        "## Optional Tasks (14-19) [Ungraded]"
      ]
    },
    {
      "cell_type": "markdown",
      "metadata": {
        "id": "vtQRbX994-Se"
      },
      "source": [
        "### Task 14\n",
        "\n",
        "Given a list of tuples, your task is to multiply the elements of the tuple and return a list of multiplied elements as shown below.\n",
        "\n",
        "===================================================================\n",
        "\n",
        "**Example 1:**\n",
        "\n",
        "Given: \n",
        "\n",
        "[(2, 3), (4, 5), (6, 7), (2, 8)]\n",
        "\n",
        "**Output:**\n",
        "\n",
        "[6, 20, 42, 16]\n",
        "\n",
        "===================================================================\n",
        "\n",
        "**Example 2:**\n",
        "\n",
        "Given:\n",
        "\n",
        " [(11, 22), (33, 55), (55, 77), (11, 44)]\n",
        "\n",
        "**Output:**\n",
        "\n",
        "[242, 1815, 4235, 484]\n",
        "\n",
        "==================================================================="
      ]
    },
    {
      "cell_type": "code",
      "metadata": {
        "id": "xy-E_k6y5maj",
        "colab": {
          "base_uri": "https://localhost:8080/"
        },
        "outputId": "424a354b-26a4-4bb2-8e8a-ad14b95c1813"
      },
      "source": [
        "#to do\n",
        "list1=[(11, 22), (33, 55), (55, 77), (11, 44)]\n",
        "k=[]\n",
        "for i in list1:\n",
        "   k=k+[i[0]*i[1]]\n",
        "print(k)   "
      ],
      "execution_count": null,
      "outputs": [
        {
          "output_type": "stream",
          "name": "stdout",
          "text": [
            "[242, 1815, 4235, 484]\n"
          ]
        }
      ]
    },
    {
      "cell_type": "markdown",
      "metadata": {
        "id": "jZQHbegc-QBA"
      },
      "source": [
        "### Task 15\n",
        "\n",
        "Assume, you have been given a tuple as below.\n",
        "\n",
        "a_tuple = ( [1, 2, 3], [4, 5, 6], [7, 8, 9], [10, 11, 12])\n",
        "\n",
        "Write a Python program that asks the user for an input (can be any data type) and **replaces the last element of each of the inner lists with the user given value.**\n",
        "\n",
        "===================================================================\n",
        "\n",
        "**Sample Input 1:**\n",
        "\n",
        "abc\n",
        "\n",
        "**Sample Output 1:** \n",
        "\n",
        "([1, 2, 'abc'], [4, 5, 'abc'], [7, 8, 'abc'], [10, 11, 'abc'])\n",
        "\n",
        "===================================================================\n",
        "\n",
        "**Sample Input 1:**\n",
        "\n",
        "1000\n",
        "\n",
        "**Sample Output 1:** \n",
        "\n",
        "([1, 2, '1000'], [4, 5, '1000'], [7, 8, '1000'], [10, 11, '1000'])\n",
        "\n",
        "==================================================================="
      ]
    },
    {
      "cell_type": "code",
      "metadata": {
        "id": "SjdnEjCz5op1",
        "colab": {
          "base_uri": "https://localhost:8080/"
        },
        "outputId": "09ec4709-089b-40ec-815d-6d2e1ac0d9d0"
      },
      "source": [
        "#to do\n",
        "a_tuple = ( [1, 2, 3], [4, 5, 6], [7, 8, 9], [10, 11, 12])\n",
        "x=input(\"enter anything: \")\n",
        "y=list(a_tuple)\n",
        "for i in range(len(y)):\n",
        "  y[i][-1]=x\n",
        "z=tuple(y)\n",
        "print(z)"
      ],
      "execution_count": null,
      "outputs": [
        {
          "output_type": "stream",
          "name": "stdout",
          "text": [
            "enter anything: abc\n",
            "([1, 2, 'abc'], [4, 5, 'abc'], [7, 8, 'abc'], [10, 11, 'abc'])\n"
          ]
        }
      ]
    },
    {
      "cell_type": "markdown",
      "metadata": {
        "id": "dVZrZ8Od6WwM"
      },
      "source": [
        "### Task 16\n",
        "\n",
        "Suppose there is a dictionary named my_dictionary.\n",
        "\n",
        "my_dictionary = {'c1':'Red', 'c2':'Green', 'c3':None, 'd4':'Blue', 'a5':None}.\n",
        "\n",
        "Now write a Python program to remove empty items from the dictionary. [Empty items means keys without any values (None)].\n",
        "\n",
        "===================================================================\n",
        "\n",
        "**Output:**\n",
        "\n",
        "{'c1':'Red', 'c2':'Green', 'd4':'Blue'}\n",
        "\n",
        "==================================================================="
      ]
    },
    {
      "cell_type": "code",
      "metadata": {
        "id": "cK9Nh7-F6YUE",
        "colab": {
          "base_uri": "https://localhost:8080/"
        },
        "outputId": "f80a0267-25b3-4d02-f815-6ce01c43946b"
      },
      "source": [
        "#to do\n",
        "my_dictionary = {'c1':'Red', 'c2':'Green', 'c3':None, 'd4':'Blue', 'a5':None}\n",
        "my_dictionary.popitem()\n",
        "my_dictionary.pop(\"c3\")\n",
        "print(my_dictionary)"
      ],
      "execution_count": null,
      "outputs": [
        {
          "output_type": "stream",
          "name": "stdout",
          "text": [
            "{'c1': 'Red', 'c2': 'Green', 'd4': 'Blue'}\n"
          ]
        }
      ]
    },
    {
      "cell_type": "code",
      "metadata": {
        "colab": {
          "base_uri": "https://localhost:8080/"
        },
        "id": "BI_uCU9pac7z",
        "outputId": "ffe8fb51-4935-4c91-8bfb-af2c1a3f42ad"
      },
      "source": [
        "my_dictionary = {'c1':'Red', 'c2':'Green', 'c3':None, 'd4':'Blue', 'a5':None}\n",
        "x={}\n",
        "for i in my_dictionary.keys():\n",
        "  if(my_dictionary[i]==None):\n",
        "    pass\n",
        "  else:\n",
        "    x[i]=my_dictionary[i]\n",
        "print(x)    "
      ],
      "execution_count": null,
      "outputs": [
        {
          "output_type": "stream",
          "name": "stdout",
          "text": [
            "{'c1': 'Red', 'c2': 'Green', 'd4': 'Blue'}\n"
          ]
        }
      ]
    },
    {
      "cell_type": "markdown",
      "metadata": {
        "id": "_W2bOMJn62xF"
      },
      "source": [
        "### Task 17\n",
        "\n",
        "Suppose you are given a dictionary as shown below. Write a Python program that takes two inputs from the user representing the lower (inclusive) and upper (exclusive) of a range of values. Your task is to extract all the items from the dictionary whose values lie in the range given as input by the user.\n",
        "\n",
        "dictionary = {'a' : 6, 'b' : 7, 'c' : 9, 'd' : 8, 'e' : 11, 'f' : 12, 'g' : 13}\n",
        "\n",
        "===================================================================\n",
        "\n",
        "**Sample Input 1:**\n",
        "\n",
        "9, 12\n",
        "\n",
        "**Sample Output 1:**\n",
        "\n",
        "{'c': 9, 'e': 11}\n",
        "\n",
        "**Explanation:**  Keys with values within the range of 9 and 11 are extracted.\n",
        "\n",
        "===================================================================\n",
        "\n",
        "**Sample Input 2:** \n",
        "\n",
        "14, 18\n",
        "\n",
        "**Sample Output 2 :**\n",
        "\n",
        "{}\n",
        "\n",
        "**Explanation:**  No values in range.\n",
        "\n",
        "==================================================================="
      ]
    },
    {
      "cell_type": "code",
      "metadata": {
        "id": "MLh9VlLD633D",
        "colab": {
          "base_uri": "https://localhost:8080/"
        },
        "outputId": "a562422a-4e47-495e-bf37-565f960a4950"
      },
      "source": [
        "#to do\n",
        "dictionary = {'a' : 6, 'b' : 7, 'c' : 9, 'd' : 8, 'e' : 11, 'f' : 12, 'g' : 13}\n",
        "x=int(input(\"enter a lower number: \"))\n",
        "y=int(input(\"enter an upper number: \"))\n",
        "z={}\n",
        "for i in dictionary.keys():  \n",
        "  if(dictionary[i]>=x and dictionary[i]<y):\n",
        "    z[i]=dictionary[i]\n",
        "print(z)    "
      ],
      "execution_count": null,
      "outputs": [
        {
          "output_type": "stream",
          "name": "stdout",
          "text": [
            "enter a lower number: 9\n",
            "enter an upper number: 11\n",
            "{'c': 9}\n"
          ]
        }
      ]
    },
    {
      "cell_type": "markdown",
      "metadata": {
        "id": "zC94TVcD7LqM"
      },
      "source": [
        "### Task 18\n",
        "\n",
        "Given a list of tuples, your task is to group the tuples based on the **second** element in the tuples as shown in the examples below. We can achieve this using **dictionary** by checking the second element in each tuple.\n",
        "\n",
        "[You do not need to take tuple as input and can assume that it is given as below]\n",
        "\n",
        "===================================================================\n",
        "\n",
        "**Example 1:**\n",
        "\n",
        "Given:\n",
        "\n",
        "[(20, 80), (31, 80), (1, 22), (88, 11), (27, 11)]\n",
        "\n",
        "**Output:**\n",
        "\n",
        "{80: [(20, 80), (31, 80)],\\\n",
        "         11: [(88, 11), (27, 11)],\\\n",
        "         22: [(1, 22)]}\n",
        "       \n",
        "===================================================================\n",
        "\n",
        "**Example 2:**\n",
        "\n",
        "Given:\n",
        "\n",
        "[(20, 'Sad'), (31, 'Sad'), (88, 'NotSad'), (27, 'NotSad')]\n",
        "\n",
        "**Output:**\n",
        "\n",
        "{'NotSad': [(88, 'NotSad'), (27, 'NotSad')],\\\n",
        "         'Sad: [(20, 'Sad'), (31, 'Sad')]}\n",
        "\n",
        "==================================================================="
      ]
    },
    {
      "cell_type": "code",
      "metadata": {
        "id": "zAunp7oZ7H-l",
        "colab": {
          "base_uri": "https://localhost:8080/"
        },
        "outputId": "ce8f1396-8f1c-44c4-a10a-8583982e937b"
      },
      "source": [
        "#to do\n",
        "list1=[(20, 80), (31, 80), (1, 22), (88, 11), (27, 11)]\n",
        "list2=[]\n",
        "for i in list1:\n",
        "  if(i[1] not in list2):\n",
        "    list2=list2+[i[1]]\n",
        "print(list2)  \n",
        "dict1={}\n",
        "k=0\n",
        "for i in list1:\n",
        "  v=[]\n",
        "  for n in list2:\n",
        "    if(i[1]==n):\n",
        "      v.append(i)     \n",
        "for j in list2:\n",
        "  k=j   \n",
        "  dict1.update({k:v}) \n",
        "print(dict1)"
      ],
      "execution_count": null,
      "outputs": [
        {
          "output_type": "stream",
          "name": "stdout",
          "text": [
            "[80, 22, 11]\n",
            "{80: [(27, 11)], 22: [(27, 11)], 11: [(27, 11)]}\n"
          ]
        }
      ]
    },
    {
      "cell_type": "code",
      "metadata": {
        "colab": {
          "base_uri": "https://localhost:8080/"
        },
        "id": "BDUhhA48tyBy",
        "outputId": "61457e25-3b6f-4fe7-d0cd-153939490e44"
      },
      "source": [
        "list1=[(20, 80), (31, 80), (1, 22), (88, 11), (27, 11)]\n",
        "dict1={}\n",
        "for i in list1:\n",
        "  if(i[1] not in dict1):\n",
        "    dict1[i[1]]=[i]\n",
        "  else:\n",
        "    dict1[i[1]].append(i)\n",
        "print(dict1)      "
      ],
      "execution_count": null,
      "outputs": [
        {
          "output_type": "stream",
          "name": "stdout",
          "text": [
            "{80: [(20, 80), (31, 80)], 22: [(1, 22)], 11: [(88, 11), (27, 11)]}\n"
          ]
        }
      ]
    },
    {
      "cell_type": "markdown",
      "metadata": {
        "id": "Al7LDo_m8TAX"
      },
      "source": [
        "### Task 19\n",
        "\n",
        "\n",
        "Write a python program that takes 2 inputs from the user. \n",
        "\n",
        "* Input1: A string containing a single sentence or multiple sentences. Multiple sentences are separated by full stops.\n",
        "* Input2: A list containing special characters.\n",
        "\n",
        "After taking the inputs, your task is to create a dictionary where the **keys** will be the corresponding special characters from the given list and the **values** will be the words in the given sentence. \n",
        "\n",
        "You need to find out which key belongs to which value. To do that, you should calculate the **index number** using the formula given below. **The calculated index is the corresponding key of the word.** Make sure no duplicate values are inserted.\n",
        "\n",
        "&nbsp;&nbsp;&nbsp;&nbsp;\n",
        "\n",
        "**The formula:**\\\n",
        "**<font color='blue'>*Index value of special character list = (ASCII sum of the word) % (length of special character list)*</font>**\n",
        "\n",
        "\n",
        "=============================================================================\n",
        "\n",
        "\n",
        "**Sample Input 1**:\\\n",
        "'I love Programming. Python is love.'\\\n",
        "['@', '$', '&', '#']\n",
        " \n",
        "**Sample Output 1**:\\\n",
        "Words in the given String: ['I', 'love', 'Programming', 'Python', 'is', 'love']\\\n",
        "Answer: {'$': ['I'], '&': ['love', 'Python'], '#': ['Programming'], '@': ['is']}\n",
        " \n",
        "**Explanation 1:**\\\n",
        "From the string 'I love Programming. Python is love.' the {key: value} pair is calculated accordingly:\n",
        "\n",
        "\n",
        "| Word | ASCII sum|List length|Calculated index|Key|\n",
        "| --- | --- | --- | --- | --- | \n",
        "|I| 73|4| 73%4 = 1|'$'|\n",
        "|  |  |  |  |  |\n",
        "|love| 438|4| 438%4 = 2|'&'|\n",
        "|  |  |  |  |  |\n",
        "|Programming| 1155|4| 1155%4 = 3|'#'|\n",
        "|  |  |  |  |  |\n",
        "|Python| 642|4| 642%4 = 2|'&'|\n",
        "|  |  |  |  |  |\n",
        "|is| 220|4| 220%4 = 0|'@'|\n",
        "|  |  |  |  |  |\n",
        "|love| 438|4| 438%4 = 2|'&'|\n",
        "|  |  |  |  |  |\n",
        "\n",
        "\n",
        "The calculation is shown in the given table. Full stops after ‘Programming.’ and ‘love.’ are avoided. Also, the last word ‘love’ is a duplicate, and therefore, it was not inserted again as a value. \n",
        "\n",
        "\n",
        "\n",
        "=============================================================================\n",
        "\n",
        "\n",
        "**Sample Input 2**:\\\n",
        "'The secret of getting ahead is getting started.'\\\n",
        "['-', '=', '+', '*', '%']\n",
        " \n",
        "**Sample Output 2:**\\\n",
        "Words in the given String: ['The', 'secret', 'of', 'getting', 'ahead', 'is', 'getting', 'started']\\\n",
        "Answer: {'%': ['The', 'getting', 'ahead', 'started'], '=': ['secret'], '*': ['of'], '-': ['is']}\n",
        " \n",
        "**Explanation 2:**\\\n",
        "From the string 'The secret of getting ahead is getting started.' the {key: value} pair is calculated accordingly:\n",
        "\n",
        "\n",
        "| Word | ASCII sum|List length|Calculated index|Key|\n",
        "| --- | --- | --- | --- | --- | \n",
        "|The| 289|5| 289%5 = 4|'%'|\n",
        "|  |  |  |  |  |\n",
        "|secret| 646|5| 646%5 = 1|'='|\n",
        "|  |  |  |  |  |\n",
        "|of| 213|5| 213%5 = 3|'*'|\n",
        "|  |  |  |  |  |\n",
        "|getting| 754|5| 754%5 = 4|'%'|\n",
        "|  |  |  |  |  |\n",
        "|ahead| 499|5| 499%5 = 4|'%'|\n",
        "|  |  |  |  |  |\n",
        "|is| 220|5| 220%5 = 0|'-'|\n",
        "|  |  |  |  |  |\n",
        "|getting| 754|5| 754%5 = 4|'%'|\n",
        "|  |  |  |  |  |\n",
        "|started| 759|5| 759%5 = 4|'%'|\n",
        "|  |  |  |  |  |\n",
        "\n",
        "\n",
        "The calculation is shown in the given table. Full stop after ‘started.’ is avoided. Also, the word ‘getting’ is a duplicate and therefore it was not inserted again as a value. \n",
        "\n",
        "=============================================================================\n"
      ]
    },
    {
      "cell_type": "code",
      "metadata": {
        "id": "2w_nmFoN8ZBL",
        "colab": {
          "base_uri": "https://localhost:8080/"
        },
        "outputId": "1750e70a-e51f-4afd-e8c0-52c3a2507f8e"
      },
      "source": [
        "#to do\n",
        "x=input(\"enter your sentence: \").split(\" \")\n",
        "y=input(\"enter the special characters(use comma): \").split(\",\")\n",
        "for i in x[:]:\n",
        "  if(i==\".\"):\n",
        "    x.remove(i)\n",
        "print(\"Words in the given String: \",x) \n",
        "dict1={}\n",
        "for j in x:\n",
        "  summ=0\n",
        "  for k in j:\n",
        "    summ=summ+ord(k)\n",
        "  a=summ%len(y)      \n",
        "  if(y[a] not in dict1):\n",
        "    dict1[y[a]]=[j]\n",
        "  else:\n",
        "    if(j in dict1[y[a]]):\n",
        "      pass\n",
        "    else:  \n",
        "      dict1[y[a]].append(j)        \n",
        "print(dict1)    "
      ],
      "execution_count": null,
      "outputs": [
        {
          "output_type": "stream",
          "name": "stdout",
          "text": [
            "enter your sentence: I love Programming . Python is love .\n",
            "enter the special characters(use comma): #,*,&,@\n",
            "Words in the given String:  ['I', 'love', 'Programming', 'Python', 'is', 'love']\n",
            "{'*': ['I'], '&': ['love', 'Python'], '@': ['Programming'], '#': ['is']}\n"
          ]
        }
      ]
    },
    {
      "cell_type": "code",
      "metadata": {
        "id": "bLEeD2b2kyGv"
      },
      "source": [
        "'@', '$', '&', '#'\n",
        " I love Programming . Python is love ."
      ],
      "execution_count": null,
      "outputs": []
    }
  ]
}
