{
  "nbformat": 4,
  "nbformat_minor": 0,
  "metadata": {
    "colab": {
      "provenance": [],
      "authorship_tag": "ABX9TyMPgCq6zCnvtu2/xeFzftd2",
      "include_colab_link": true
    },
    "kernelspec": {
      "name": "python3",
      "display_name": "Python 3"
    },
    "language_info": {
      "name": "python"
    }
  },
  "cells": [
    {
      "cell_type": "markdown",
      "metadata": {
        "id": "view-in-github",
        "colab_type": "text"
      },
      "source": [
        "<a href=\"https://colab.research.google.com/github/maliiha/project1/blob/main/Practice_after_RS.ipynb\" target=\"_parent\"><img src=\"https://colab.research.google.com/assets/colab-badge.svg\" alt=\"Open In Colab\"/></a>"
      ]
    },
    {
      "cell_type": "code",
      "execution_count": null,
      "metadata": {
        "id": "wTk1c3Rpud6K",
        "outputId": "f48832f9-27a7-48e3-90cd-6c0268beeb3a",
        "colab": {
          "base_uri": "https://localhost:8080/"
        }
      },
      "outputs": [
        {
          "output_type": "stream",
          "name": "stdout",
          "text": [
            "Enter a number between 1 to 100: 24\n",
            "Not Weird\n"
          ]
        }
      ],
      "source": [
        "n=int(input(\"Enter a number between 1 to 100: \"))\n",
        "if(n%2!=0):\n",
        "  print(\"Weird\")\n",
        "elif(2<=n<=5):\n",
        "  print(\"Not Weird\")\n",
        "elif(6<=n<=20):\n",
        "  print(\"Weird\")\n",
        "else:\n",
        "  print(\"Not Weird\")"
      ]
    },
    {
      "cell_type": "code",
      "source": [
        "a=[10,20,30,40,50,60]\n",
        "i=0\n",
        "while i<len(a):\n",
        "  print(a[i])\n",
        "  i+=1"
      ],
      "metadata": {
        "id": "BK7bNy_5M-No",
        "outputId": "4c9b2430-942e-40ea-ca4e-9a33bd7b6362",
        "colab": {
          "base_uri": "https://localhost:8080/"
        }
      },
      "execution_count": null,
      "outputs": [
        {
          "output_type": "stream",
          "name": "stdout",
          "text": [
            "10\n",
            "20\n",
            "30\n",
            "40\n",
            "50\n",
            "60\n"
          ]
        }
      ]
    },
    {
      "cell_type": "markdown",
      "source": [
        "ajaira"
      ],
      "metadata": {
        "id": "RxYUjaJ1ypK4"
      }
    },
    {
      "cell_type": "code",
      "source": [
        "x=int(input(\"How many dollars do you have? \"))\n",
        "result=0\n",
        "roll1=0\n",
        "roll2=0\n",
        "amount=x\n",
        "while x>0:\n",
        "  import random\n",
        "  dice1=random.randint(1,6)\n",
        "  dice2=random.randint(1,6)\n",
        "  roll1+=1\n",
        "  result=dice1+dice2\n",
        "  if(result==7):\n",
        "    x+=4   \n",
        "  else:\n",
        "    x-=1\n",
        "  if(x>amount):\n",
        "    amount=x\n",
        "    roll2=roll1\n",
        "print(\"You are broke after\",{roll1},\"rolls.\")\n",
        "print(\"You should have quit after\",{roll2},\"when you had\",{amount})"
      ],
      "metadata": {
        "colab": {
          "base_uri": "https://localhost:8080/"
        },
        "id": "I6iyxjESymB_",
        "outputId": "dcc53009-6abf-4359-8d27-ffa342bf3999"
      },
      "execution_count": null,
      "outputs": [
        {
          "output_type": "stream",
          "name": "stdout",
          "text": [
            "How many dollars do you have? 50\n",
            "You are broke after {355} rolls.\n",
            "You should have quit after {14} when you had {61}\n"
          ]
        }
      ]
    },
    {
      "cell_type": "markdown",
      "source": [
        "reversing an array (out of place)"
      ],
      "metadata": {
        "id": "RNvOctw66koS"
      }
    },
    {
      "cell_type": "code",
      "source": [
        "def reverse(source):\n",
        "  arr=[0]*len(source)\n",
        "  i=0\n",
        "  j=len(source)-1\n",
        "  while 0<=j<len(source):\n",
        "    arr[j]=source[i]\n",
        "    j-=1\n",
        "    i+=1\n",
        "  print(arr)\n",
        "source=[10,20,30,40,50]\n",
        "reverse(source)"
      ],
      "metadata": {
        "colab": {
          "base_uri": "https://localhost:8080/"
        },
        "id": "v7NARgFH6kCd",
        "outputId": "1dfffac9-0057-4ab9-fede-811f8288bdc2"
      },
      "execution_count": null,
      "outputs": [
        {
          "output_type": "stream",
          "name": "stdout",
          "text": [
            "[50, 40, 30, 20, 10]\n"
          ]
        }
      ]
    },
    {
      "cell_type": "markdown",
      "source": [
        "reversing an array (in place)"
      ],
      "metadata": {
        "id": "r02pRtCa-M39"
      }
    },
    {
      "cell_type": "code",
      "source": [
        "def reverse(source):\n",
        "  i=0\n",
        "  j=len(source)-1\n",
        "  while i<j:\n",
        "    source[i],source[j]=source[j],source[i]\n",
        "    i+=1\n",
        "    j-=1\n",
        "  print(source)\n",
        "source=[10,20,30,40,50]\n",
        "reverse(source)"
      ],
      "metadata": {
        "colab": {
          "base_uri": "https://localhost:8080/"
        },
        "id": "Tq_NaEkM-O5q",
        "outputId": "f37c1a61-ab33-4974-d500-add3747ccfca"
      },
      "execution_count": null,
      "outputs": [
        {
          "output_type": "stream",
          "name": "stdout",
          "text": [
            "[50, 40, 30, 20, 10]\n"
          ]
        }
      ]
    },
    {
      "cell_type": "markdown",
      "source": [
        "right shift by one place"
      ],
      "metadata": {
        "id": "MQnVQ7xHW9Cu"
      }
    },
    {
      "cell_type": "code",
      "source": [
        "def right_shift(source):\n",
        "  i=len(source)-2\n",
        "  while i>=0:\n",
        "    source[i+1]=source[i]\n",
        "    i-=1\n",
        "  source[0]=0\n",
        "  print(source)\n",
        "source=[1,2,3,4]\n",
        "right_shift(source)"
      ],
      "metadata": {
        "colab": {
          "base_uri": "https://localhost:8080/"
        },
        "id": "iR560tJPW8dC",
        "outputId": "85061736-6aba-45d9-bda9-f2cdec174c66"
      },
      "execution_count": null,
      "outputs": [
        {
          "output_type": "stream",
          "name": "stdout",
          "text": [
            "[0, 1, 2, 3]\n"
          ]
        }
      ]
    },
    {
      "cell_type": "markdown",
      "source": [
        "right rotate by one place"
      ],
      "metadata": {
        "id": "GPUJjb-udJ1R"
      }
    },
    {
      "cell_type": "code",
      "source": [
        "def right_rotate(source):\n",
        "  temp=source[len(source)-1]\n",
        "  i=len(source)-2\n",
        "  while i>=0:\n",
        "    source[i+1]=source[i]\n",
        "    i-=1\n",
        "  source[0]=temp\n",
        "  print(source)\n",
        "source=[1,2,3,4]\n",
        "right_rotate(source)"
      ],
      "metadata": {
        "colab": {
          "base_uri": "https://localhost:8080/"
        },
        "id": "HiW74s2CdP-8",
        "outputId": "2290609c-1d1b-4953-fd78-872b70c0936f"
      },
      "execution_count": null,
      "outputs": [
        {
          "output_type": "stream",
          "name": "stdout",
          "text": [
            "[4, 1, 2, 3]\n"
          ]
        }
      ]
    },
    {
      "cell_type": "markdown",
      "source": [
        "right rotate by k place"
      ],
      "metadata": {
        "id": "hvW0sLjSgRe0"
      }
    },
    {
      "cell_type": "code",
      "source": [
        "def right_shift(source,k):\n",
        "  for i in range(0,k):\n",
        "    temp=source[len(source)-1]\n",
        "    i=len(source)-2\n",
        "    while i>=0:\n",
        "      source[i+1]=source[i]\n",
        "      i-=1\n",
        "    source[0]=temp\n",
        "  print(source)\n",
        "source=[1,2,3,4]\n",
        "right_shift(source,2)"
      ],
      "metadata": {
        "colab": {
          "base_uri": "https://localhost:8080/"
        },
        "id": "YDEuHxoRgP6n",
        "outputId": "da228e95-2106-4cdb-9490-da97f81e0477"
      },
      "execution_count": null,
      "outputs": [
        {
          "output_type": "stream",
          "name": "stdout",
          "text": [
            "[3, 4, 1, 2]\n"
          ]
        }
      ]
    },
    {
      "cell_type": "markdown",
      "source": [
        "Insertion"
      ],
      "metadata": {
        "id": "j06jfDcskAPW"
      }
    },
    {
      "cell_type": "code",
      "source": [
        "def insertion(source,value,index,size):\n",
        "  if(len(source)==size):\n",
        "    print(\"There's no empty space.\")\n",
        "  elif(index<0 or index>size):\n",
        "    print(\"Index is not valid.\")\n",
        "  else:\n",
        "    i=size\n",
        "    while i>=index:\n",
        "      source[i+1]=source[i]\n",
        "      i-=1\n",
        "    source[index]=value\n",
        "    print(source)\n",
        "source=[10,20,30,40,50]\n",
        "insertion(source,200,5,5)"
      ],
      "metadata": {
        "colab": {
          "base_uri": "https://localhost:8080/"
        },
        "id": "I390o_PBkCuN",
        "outputId": "d782f084-4ec6-45cc-f926-a440a116427e"
      },
      "execution_count": null,
      "outputs": [
        {
          "output_type": "stream",
          "name": "stdout",
          "text": [
            "There's no empty space.\n"
          ]
        }
      ]
    },
    {
      "cell_type": "markdown",
      "source": [
        "Deletation"
      ],
      "metadata": {
        "id": "akliU9vL0yIw"
      }
    },
    {
      "cell_type": "code",
      "source": [
        "def deletation(source,index):\n",
        "  count=0\n",
        "  for i in range(len(source)):\n",
        "    if(source[i]!=0):\n",
        "      count+=1\n",
        "  if(count==0):\n",
        "    print(\"No element for deletation.\")\n",
        "  else:\n",
        "    i=index\n",
        "    while i<len(source)-1:\n",
        "      source[i]=source[i+1]\n",
        "      i+=1\n",
        "    print(source)\n",
        "source=[10,20,30,40,50,0,0,0]\n",
        "deletation(source,3)"
      ],
      "metadata": {
        "colab": {
          "base_uri": "https://localhost:8080/"
        },
        "id": "U7pV8yc8015b",
        "outputId": "468da29c-c517-4ddd-d869-9b19f52b9b34"
      },
      "execution_count": null,
      "outputs": [
        {
          "output_type": "stream",
          "name": "stdout",
          "text": [
            "[10, 20, 30, 50, 0, 0, 0, 0]\n"
          ]
        }
      ]
    },
    {
      "cell_type": "markdown",
      "source": [
        "Remove all occurrences of a particular element from an array"
      ],
      "metadata": {
        "id": "1vmWoW75gYFV"
      }
    },
    {
      "cell_type": "code",
      "source": [
        "def removeAll( source, size, element):\n",
        "  i=size\n",
        "  while i>=0:\n",
        "    if(source[i]==element):\n",
        "      while i<=size:\n",
        "        source[i]=source[i+1]\n",
        "        i+=1\n",
        "    i-=1\n",
        "  print(source)\n",
        "source=[10,2,30,2,50,2,2,0,0]\n",
        "removeAll(source,7,2)"
      ],
      "metadata": {
        "colab": {
          "base_uri": "https://localhost:8080/"
        },
        "id": "NmEml1sggbMF",
        "outputId": "30edaf4a-b64a-4dd8-9b64-f923418b606e"
      },
      "execution_count": null,
      "outputs": [
        {
          "output_type": "stream",
          "name": "stdout",
          "text": [
            "[10, 30, 50, 0, 0, 0, 0, 0, 0]\n"
          ]
        }
      ]
    },
    {
      "cell_type": "markdown",
      "source": [
        "Splitting an Array"
      ],
      "metadata": {
        "id": "5jSweIEhnwRF"
      }
    },
    {
      "cell_type": "code",
      "source": [
        "def splitting(source):\n",
        "  count1=0\n",
        "  for i in range(0,len(source)-1):\n",
        "    count1+=source[i]\n",
        "    count2=0\n",
        "    for j in range(i+1,len(source)):\n",
        "      count2+=source[j]\n",
        "    if(count1==count2):\n",
        "      result=\"true\"\n",
        "      break\n",
        "    else:\n",
        "      result=\"false\"\n",
        "  print(result)\n",
        "source=[1,1,2,4,1,2,1,1,3]\n",
        "splitting(source)"
      ],
      "metadata": {
        "colab": {
          "base_uri": "https://localhost:8080/"
        },
        "id": "3gKXkCXUboGj",
        "outputId": "735eca37-197b-479f-d076-b6e1195f70c2"
      },
      "execution_count": null,
      "outputs": [
        {
          "output_type": "stream",
          "name": "stdout",
          "text": [
            "true\n"
          ]
        }
      ]
    },
    {
      "cell_type": "markdown",
      "source": [
        "Array series"
      ],
      "metadata": {
        "id": "5jMiw3Hjq-E6"
      }
    },
    {
      "cell_type": "code",
      "source": [
        "def series(n):\n",
        "  arr=[0]*n*n\n",
        "  i=0\n",
        "  while i<n:\n",
        "    index=n*(n-i)\n",
        "    for j in range(1,n-i+1):\n",
        "      arr[index-1]=j\n",
        "      index-=1\n",
        "    i+=1\n",
        "  print(arr)\n",
        "n=int(input(\"Enter an integer Value: \"))\n",
        "series(n)"
      ],
      "metadata": {
        "colab": {
          "base_uri": "https://localhost:8080/"
        },
        "id": "VaQ4PX7V0I6r",
        "outputId": "3bc8045d-8e03-4d8e-f430-c660b3fcb4d3"
      },
      "execution_count": null,
      "outputs": [
        {
          "output_type": "stream",
          "name": "stdout",
          "text": [
            "Enter an integer Value: 4\n",
            "[0, 0, 0, 1, 0, 0, 2, 1, 0, 3, 2, 1, 4, 3, 2, 1]\n"
          ]
        }
      ]
    },
    {
      "cell_type": "markdown",
      "source": [
        "Max Bunch Count"
      ],
      "metadata": {
        "id": "5AXO3GQu3MiR"
      }
    },
    {
      "cell_type": "code",
      "source": [
        "def bunch(source):\n",
        "  count1=1\n",
        "  maximum=0\n",
        "  for i in range(0,len(source)-1):\n",
        "    if(source[i]==source[i+1]):\n",
        "      count1+=1\n",
        "      if(maximum>count1):\n",
        "        maximum=maximum\n",
        "      else:\n",
        "        maximum=count1\n",
        "    else:\n",
        "      count1=1\n",
        "  print(maximum)  \n",
        "source=[1,1,2, 2, 1, 1,1,1]\n",
        "bunch(source)"
      ],
      "metadata": {
        "colab": {
          "base_uri": "https://localhost:8080/"
        },
        "id": "meVHWq-w3Oy_",
        "outputId": "69798f42-8bae-4d6d-f33b-3ccd2356115b"
      },
      "execution_count": null,
      "outputs": [
        {
          "output_type": "stream",
          "name": "stdout",
          "text": [
            "4\n"
          ]
        }
      ]
    },
    {
      "cell_type": "markdown",
      "source": [
        "Repetition"
      ],
      "metadata": {
        "id": "TqThdDU5OuP-"
      }
    },
    {
      "cell_type": "code",
      "source": [
        "def repitition(source):\n",
        "  arr=[0]*(len(source))\n",
        "  value=\"\"\n",
        "  count=0\n",
        "  for i in range(0,len(source)):\n",
        "    if(str(source[i]) in value):\n",
        "      continue\n",
        "    else:\n",
        "      for j in range(0,len(source)):\n",
        "        if(source[i]==source[j]):\n",
        "          count+=1\n",
        "        arr[i]=count\n",
        "      value+=str(source[i])\n",
        "      count=0\n",
        "  # repitation= False\n",
        "  # for i in range(len(arr)):\n",
        "  #   if(arr[i]>=2):\n",
        "  #     for j in range(i+1,len(arr)):\n",
        "  #       if(arr[i]==arr[j]):\n",
        "  #         repitation = True\n",
        "  # return repitation\n",
        "  repitation=0\n",
        "  for num in range(0,len(arr)):\n",
        "    if(arr[num]>=2):\n",
        "      for count1 in range(num+1,len(arr)):\n",
        "        if(arr[num]==arr[count1]):\n",
        "          repitation+=1\n",
        "  if(repitation>=1):\n",
        "    print(\"True\")\n",
        "  else:\n",
        "    print(\"False\")\n",
        "source=[3,4,6,3,4,7,4,6,8,6,6]\n",
        "repitition(source)"
      ],
      "metadata": {
        "colab": {
          "base_uri": "https://localhost:8080/"
        },
        "id": "_AvSwMkTOv1c",
        "outputId": "9931af21-6baa-40c6-b125-388b4f5b5f02"
      },
      "execution_count": null,
      "outputs": [
        {
          "output_type": "stream",
          "name": "stdout",
          "text": [
            "False\n"
          ]
        }
      ]
    },
    {
      "cell_type": "markdown",
      "source": [
        "Converting linear array to circular array"
      ],
      "metadata": {
        "id": "KjlgNZD-3DDM"
      }
    },
    {
      "cell_type": "code",
      "source": [
        "arr=[10,20,30,40,50,0,0,0,0,0,0]\n",
        "ca=[0]*len(arr)\n",
        "index_ca=7\n",
        "size=0\n",
        "for i in range(0,len(arr)):\n",
        "  if(arr[i]!=0):\n",
        "    size+=1\n",
        "for j in range(0,size):\n",
        "  ca[index_ca]=arr[j]\n",
        "  index_ca=(index_ca+1)%len(arr)\n",
        "print(ca)"
      ],
      "metadata": {
        "colab": {
          "base_uri": "https://localhost:8080/"
        },
        "id": "aQE7Pw033PIz",
        "outputId": "3c585908-3630-4648-a8b2-a4aee21769f0"
      },
      "execution_count": null,
      "outputs": [
        {
          "output_type": "stream",
          "name": "stdout",
          "text": [
            "[50, 0, 0, 0, 0, 0, 0, 10, 20, 30, 40]\n"
          ]
        }
      ]
    },
    {
      "cell_type": "code",
      "source": [
        "def lintocir(lin,start,size):\n",
        "  c_arr=[0]*len(lin)\n",
        "  index=start\n",
        "  i=0\n",
        "  while i<size:\n",
        "    c_arr[index]=lin[i]\n",
        "    index=(index+1)%len(lin)\n",
        "    i+=1\n",
        "  print(c_arr)\n",
        "lin=[1,2,3,0,0]\n",
        "lintocir(lin,3,3)"
      ],
      "metadata": {
        "id": "eVCoE34zriqQ",
        "outputId": "c02b5cb3-5867-465e-9a5f-f45353ef39fb",
        "colab": {
          "base_uri": "https://localhost:8080/"
        }
      },
      "execution_count": null,
      "outputs": [
        {
          "output_type": "stream",
          "name": "stdout",
          "text": [
            "[3, 0, 0, 1, 2]\n"
          ]
        }
      ]
    },
    {
      "cell_type": "markdown",
      "source": [
        "reverse printing a circular array"
      ],
      "metadata": {
        "id": "k_ShmJtrJQOr"
      }
    },
    {
      "cell_type": "code",
      "source": [
        "def reverse(source,start,size):\n",
        "  index=(start+size-1)%len(source)\n",
        "  i=0\n",
        "  while i<size:\n",
        "    print(source[index])\n",
        "    index-=1\n",
        "    if(index<0):\n",
        "      index=len(source)-1\n",
        "    i+=1\n",
        "source=[40,50,0,0,0,0,0,0,10,20,30]\n",
        "reverse(source,8,5)"
      ],
      "metadata": {
        "colab": {
          "base_uri": "https://localhost:8080/"
        },
        "id": "bpaoMFFWRIZa",
        "outputId": "142a6047-e681-4bc4-85c1-7808ad946639"
      },
      "execution_count": null,
      "outputs": [
        {
          "output_type": "stream",
          "name": "stdout",
          "text": [
            "50\n",
            "40\n",
            "30\n",
            "20\n",
            "10\n"
          ]
        }
      ]
    },
    {
      "cell_type": "markdown",
      "source": [
        "coverting a circular array to a linear array"
      ],
      "metadata": {
        "id": "rpHCKtGnVKC2"
      }
    },
    {
      "cell_type": "code",
      "source": [
        "def convert(source,start,size):\n",
        "  arr=[0]*len(source)\n",
        "  i=0\n",
        "  while i<size:\n",
        "    arr[i]=source[start]\n",
        "    start=(start+1)%len(source)\n",
        "    i+=1\n",
        "  print(arr)\n",
        "source=[40,50,0,0,0,0,0,0,10,20,30]\n",
        "convert(source,8,5)"
      ],
      "metadata": {
        "colab": {
          "base_uri": "https://localhost:8080/"
        },
        "id": "_-zyJVLkVNC5",
        "outputId": "ede69055-9927-493f-bcb6-52222b2a3310"
      },
      "execution_count": null,
      "outputs": [
        {
          "output_type": "stream",
          "name": "stdout",
          "text": [
            "[10, 20, 30, 40, 50, 0, 0, 0, 0, 0, 0]\n"
          ]
        }
      ]
    },
    {
      "cell_type": "markdown",
      "source": [
        "resizing a circular array"
      ],
      "metadata": {
        "id": "HI31duB4WVGn"
      }
    },
    {
      "cell_type": "code",
      "source": [
        "def resize(source,start,size):\n",
        "  arr=[0]*(len(source)+2)\n",
        "  index=start\n",
        "  new_index=start\n",
        "  i=0\n",
        "  while i<size:\n",
        "    arr[new_index]=source[index]\n",
        "    index=(index+1)%len(source)\n",
        "    new_index=(new_index+1)%len(arr)\n",
        "    i+=1\n",
        "  print(arr)\n",
        "source=[30,40,50,10,20]\n",
        "resize(source,3,5)"
      ],
      "metadata": {
        "colab": {
          "base_uri": "https://localhost:8080/"
        },
        "id": "reKf36GgWV2U",
        "outputId": "3475c5fe-57c7-4861-df44-da0cf86824a1"
      },
      "execution_count": null,
      "outputs": [
        {
          "output_type": "stream",
          "name": "stdout",
          "text": [
            "[50, 0, 0, 10, 20, 30, 40]\n"
          ]
        }
      ]
    },
    {
      "cell_type": "markdown",
      "source": [
        "Insertion"
      ],
      "metadata": {
        "id": "kJUXgINc1ZQN"
      }
    },
    {
      "cell_type": "code",
      "source": [
        "def insert(cir,start,size,item):\n",
        "  if(0 not in cir):\n",
        "    new_cir=[0]*(len(cir)+2)\n",
        "    cir_idx=start\n",
        "    new_idx=start\n",
        "    i=0\n",
        "    while i<size:\n",
        "      new_cir[new_idx]=cir[cir_idx]\n",
        "      cir_idx=(cir_idx+1)%len(cir)\n",
        "      new_idx=(new_idx+1)%len(new_cir)\n",
        "      i+=1\n",
        "  last_idx=(start+size-1)%len(new_cir)\n",
        "  new_cir[(last_idx+1)%len(new_cir)]=item\n",
        "  print(new_cir)\n",
        "cir=[4,5,1,2,3]\n",
        "insert(cir,2,5,6)"
      ],
      "metadata": {
        "id": "tVgp32WTtUUd",
        "outputId": "86fee021-9e76-4eac-8bca-40c95d5b0777",
        "colab": {
          "base_uri": "https://localhost:8080/"
        }
      },
      "execution_count": null,
      "outputs": [
        {
          "output_type": "stream",
          "name": "stdout",
          "text": [
            "[6, 0, 1, 2, 3, 4, 5]\n"
          ]
        }
      ]
    },
    {
      "cell_type": "markdown",
      "source": [
        "Deletation"
      ],
      "metadata": {
        "id": "WIuuyTYx1a0S"
      }
    },
    {
      "cell_type": "code",
      "source": [
        "def deletation(cir,start,size):\n",
        "  last_idx=(start+size-1)%len(cir)\n",
        "  cir[last_idx]=0\n",
        "  print(cir)\n",
        "cir=[4,5,1,2,3]\n",
        "deletation(cir,2,5)"
      ],
      "metadata": {
        "colab": {
          "base_uri": "https://localhost:8080/"
        },
        "id": "7ZLK4TTK1k_L",
        "outputId": "331017f1-f638-49b5-cdef-5204ff7b14d3"
      },
      "execution_count": null,
      "outputs": [
        {
          "output_type": "stream",
          "name": "stdout",
          "text": [
            "[4, 0, 1, 2, 3]\n"
          ]
        }
      ]
    },
    {
      "cell_type": "markdown",
      "source": [
        "Shifting and Insertion"
      ],
      "metadata": {
        "id": "aNo8ggya2fnM"
      }
    },
    {
      "cell_type": "code",
      "source": [
        "def insert(cir,start,size,item,index):\n",
        "  l_idx=(start+size-1)%len(cir)\n",
        "  idx=(l_idx+1)%len(cir)\n",
        "  n_shifts=size-index\n",
        "  for i in range(n_shifts):\n",
        "    cir[idx]=cir[l_idx]\n",
        "    idx=l_idx\n",
        "    l_idx-=1\n",
        "    if(l_idx==-1):\n",
        "      l_idx=len(cir)-1\n",
        "  position=(start+index)%len(cir)\n",
        "  cir[position]=item\n",
        "  size+=1\n",
        "  print(cir)\n",
        "cir=[0,0,1,2,3,4,5]\n",
        "insert(cir,2,5,50,4)"
      ],
      "metadata": {
        "colab": {
          "base_uri": "https://localhost:8080/"
        },
        "id": "Nbz2a_oS2hxF",
        "outputId": "146a576a-3575-48fe-d71b-5543e83f3627"
      },
      "execution_count": null,
      "outputs": [
        {
          "output_type": "stream",
          "name": "stdout",
          "text": [
            "[5, 0, 1, 2, 3, 4, 50]\n"
          ]
        }
      ]
    },
    {
      "cell_type": "markdown",
      "source": [
        "Inserting an element using linked list"
      ],
      "metadata": {
        "id": "VpkwEkc-ErzU"
      }
    },
    {
      "cell_type": "code",
      "source": [
        "class Node:\n",
        "  def __init__(self,value):\n",
        "    self.value=value\n",
        "    self.next=None\n",
        "class Linkedlist:\n",
        "  def __init__(self,arr):\n",
        "    self.head=None\n",
        "    if(isinstance(arr,list)):\n",
        "      self.head=Node(arr[0])\n",
        "      head=self.head\n",
        "      for i in range(len(arr)):\n",
        "        new_node=Node(arr[i])\n",
        "        head.next=new_node\n",
        "        head=head.next\n",
        "    elif(isinstance(arr,Node)):\n",
        "      self.head=arr\n",
        "  def countNode(self):\n",
        "    head=self.head\n",
        "    count=0\n",
        "    if(head!=None):\n",
        "      count+=1\n",
        "      head=head.next\n",
        "    else:\n",
        "      return count\n",
        "  def NodeAt(self,idx):\n",
        "    head=self.head\n",
        "    count=0\n",
        "    if(idx>0 and idx<self.countNode()):\n",
        "      while(head!=None):\n",
        "        if(count==idx):\n",
        "          return head\n",
        "        else:\n",
        "          count+=1\n",
        "          head=head.next\n",
        "    else:\n",
        "      return f\"Index invalid.\"\n",
        "  def insert(self,element,idx):\n",
        "    head=self.head\n",
        "    if(idx>0 and idx<self.countNode()):\n",
        "      new_node=Node(element)\n",
        "      if(idx==0):\n",
        "        new_node.next=head\n",
        "        head=new_node\n",
        "      else:\n",
        "        prev=self.NodeAt(idx-1)\n",
        "        new_node.next=prev.next\n",
        "        prev.next=new_node\n",
        "    else:\n",
        "      return f\"Invalid Index.\"\n",
        "    return head\n",
        "arr=[10,20,30,40]\n",
        "l1=Linkedlist(arr)\n",
        "l1.insert(2,50)"
      ],
      "metadata": {
        "id": "3lTfUN3LEvQ9"
      },
      "execution_count": null,
      "outputs": []
    },
    {
      "cell_type": "markdown",
      "source": [
        "# Practice sheet (array)"
      ],
      "metadata": {
        "id": "qk-MWx2kqWcO"
      }
    },
    {
      "cell_type": "markdown",
      "source": [
        "task:01"
      ],
      "metadata": {
        "id": "_qA78Cp-qbl6"
      }
    },
    {
      "cell_type": "code",
      "source": [
        "a=int(input(\"Enter the value of a: \"))\n",
        "b=int(input(\"Enter the value of b: \"))\n",
        "arr1=[0]*a\n",
        "arr2=[0]*b\n",
        "for i in range(a):\n",
        "  arr1[i]=int(input(\"Enter the values of arr1: \"))\n",
        "for j in range(b):\n",
        "  arr2[j]=int(input(\"Enter the values of arr2: \"))\n",
        "count=0\n",
        "if(a<b):\n",
        "  for i in range(a):\n",
        "    if(arr1[i] in arr2):\n",
        "      count+=1\n",
        "else:\n",
        "  for i in range(b):\n",
        "    if(arr2[i] in arr1):\n",
        "      count+=1\n",
        "if(count==a ):\n",
        "  print(b)\n",
        "else:\n",
        "  unmatched=a-count\n",
        "  print(b+unmatched)"
      ],
      "metadata": {
        "id": "9UXEYq9kqYFY",
        "outputId": "148e424d-0b5f-4c64-ab42-389f3aeb7d90",
        "colab": {
          "base_uri": "https://localhost:8080/"
        }
      },
      "execution_count": null,
      "outputs": [
        {
          "output_type": "stream",
          "name": "stdout",
          "text": [
            "Enter the value of a: 6\n",
            "Enter the value of b: 2\n",
            "Enter the values of arr1: 85\n",
            "Enter the values of arr1: 25\n",
            "Enter the values of arr1: 1\n",
            "Enter the values of arr1: 32\n",
            "Enter the values of arr1: 54\n",
            "Enter the values of arr1: 6\n",
            "Enter the values of arr2: 85\n",
            "Enter the values of arr2: 2\n",
            "8\n"
          ]
        }
      ]
    },
    {
      "cell_type": "markdown",
      "source": [
        "# Stack (Practice Sheet)\n",
        " Implement the push, pop and peek functions using an array. \n",
        " "
      ],
      "metadata": {
        "id": "QedT_pG1HrtY"
      }
    },
    {
      "cell_type": "code",
      "source": [
        "class Stack:\n",
        "  stack=[0]*10\n",
        "  size=-1\n",
        "  def push(self,element):\n",
        "    if(self.size==len(self.stack)):\n",
        "      print(\"Stack Overflow\")\n",
        "    else:\n",
        "      self.size+=1\n",
        "      self.stack[self.size]=element\n",
        "  def peek(self):\n",
        "    if(self.size<0):\n",
        "      print(\"Stack is empty.\")\n",
        "    else:\n",
        "      return self.stack[self.size]\n",
        "  def pop(self):\n",
        "    if(self.size<0):\n",
        "      print(\"Stack Underflow.\")\n",
        "    else:\n",
        "      result=self.stack[self.size]\n",
        "      self.size-=1\n",
        "      return result\n",
        "s1=Stack()\n",
        "s1.push(2)\n",
        "print(s1.peek())\n",
        "s1.pop()"
      ],
      "metadata": {
        "colab": {
          "base_uri": "https://localhost:8080/"
        },
        "id": "Q7uApJwLH0xn",
        "outputId": "369e420b-0839-4130-8a86-f9fa6b383380"
      },
      "execution_count": null,
      "outputs": [
        {
          "output_type": "stream",
          "name": "stdout",
          "text": [
            "2\n"
          ]
        },
        {
          "output_type": "execute_result",
          "data": {
            "text/plain": [
              "2"
            ]
          },
          "metadata": {},
          "execution_count": 23
        }
      ]
    },
    {
      "cell_type": "markdown",
      "source": [
        " Implement the push, pop and peek functions using a linked list. "
      ],
      "metadata": {
        "id": "D53SA0c6N2Ia"
      }
    },
    {
      "cell_type": "code",
      "source": [
        "class Node:\n",
        "  def __init__(self,value):\n",
        "    self.value=value\n",
        "    self.next=None\n",
        "class Stack:\n",
        "  head=None\n",
        "  def push(self,value):\n",
        "    if(self.head!=None):                            #There will be no overflow as we can change the length of the linked list whenever we want by creating a new node. HEHE!!!\n",
        "      new=Node(value)\n",
        "      new=self.head\n",
        "      self.head=new\n",
        "    else:\n",
        "      self.head=Node(value)\n",
        "  def peek(self):\n",
        "    if(self.head==None):\n",
        "      return f\"Stack is empty.\"\n",
        "    else:\n",
        "      return self.head.value\n",
        "  def pop(self):\n",
        "    if(self.head==None):\n",
        "      return f\"Stack Underflow.\"\n",
        "    else:\n",
        "      result= self.head.value\n",
        "      temp = self.head\n",
        "      self.head=self.head.next\n",
        "      temp.value=None\n",
        "      temp.next=None\n",
        "      return result \n",
        "s2=Stack()\n",
        "print(s2.peek())\n",
        "print(s2.pop())\n",
        "s2.push(8)\n",
        "print(s2.peek())\n",
        "print(s2.pop())\n",
        "print(s2.peek())"
      ],
      "metadata": {
        "colab": {
          "base_uri": "https://localhost:8080/"
        },
        "id": "JqRU2rwrN78l",
        "outputId": "dee335d4-acfd-40c2-d0a0-729d9432aa27"
      },
      "execution_count": null,
      "outputs": [
        {
          "output_type": "stream",
          "name": "stdout",
          "text": [
            "Stack is empty.\n",
            "Stack Underflow.\n",
            "8\n",
            "8\n",
            "Stack is empty.\n"
          ]
        }
      ]
    },
    {
      "cell_type": "markdown",
      "source": [
        " Reverse a string using stack."
      ],
      "metadata": {
        "id": "pF--XMfrYQhi"
      }
    },
    {
      "cell_type": "code",
      "source": [
        "class Stack:\n",
        "  def __init__(self,string):\n",
        "    self.string=string\n",
        "    self.stack=[None]*len(string)\n",
        "    self.pointer=-1\n",
        "    self.size=0\n",
        "  def push(self,element):\n",
        "    if(self.size==len(self.stack)):\n",
        "      print(\"Stack overflow.\")\n",
        "    else:\n",
        "      self.pointer+=1\n",
        "      self.stack[self.pointer]=element\n",
        "      self.size+=1\n",
        "  def peek(self):\n",
        "    if(self.size==0):\n",
        "      print(\"Stack is empty.\")\n",
        "    else:\n",
        "      return self.stack[self.pointer]\n",
        "  def pop(self):\n",
        "    if(self.size<0):\n",
        "      return f\"Stack Underflow.\"    \n",
        "    else:\n",
        "      result=self.stack[self.pointer]\n",
        "      self.pointer-=1\n",
        "      self.size-=1\n",
        "      return result\n",
        "string=input(\"Enter the string: \")\n",
        "s1=Stack(string)\n",
        "for i in string:\n",
        "  s1.push(i)\n",
        "j=0\n",
        "result=\"\"\n",
        "while j<len(s1.stack):\n",
        "  result+=str(s1.pop())\n",
        "  j+=1\n",
        "print(result)"
      ],
      "metadata": {
        "colab": {
          "base_uri": "https://localhost:8080/"
        },
        "id": "91yeQH_yYUwG",
        "outputId": "79490963-910c-4ee5-ee6d-34e1e2e84b7b"
      },
      "execution_count": null,
      "outputs": [
        {
          "output_type": "stream",
          "name": "stdout",
          "text": [
            "Enter the string: CSE220\n",
            "022ESC\n"
          ]
        }
      ]
    },
    {
      "cell_type": "markdown",
      "source": [
        "Creating an array queue class"
      ],
      "metadata": {
        "id": "BGpI0gNmxHAH"
      }
    },
    {
      "cell_type": "code",
      "source": [
        "class ArrayQueue:\n",
        "  def __init__(self,length):\n",
        "    self.length=length\n",
        "    self.array=[0]*self.length\n",
        "    self.pointer=-1\n",
        "    self.size=0\n",
        "    self.start=0\n",
        "  def enqueue(self,element):\n",
        "    if(self.size<=self.length):\n",
        "      self.pointer+=1\n",
        "      self.array[self.pointer]=element\n",
        "      self.size+=1\n",
        "    else:\n",
        "      return f\"The array is not empty.\"\n",
        "  def peek(self):\n",
        "    if(self.size==0):\n",
        "      return f\"The array is empty.\"\n",
        "    else:\n",
        "      return self.array[self.start]\n",
        "  def dequeue(self):\n",
        "    if(self.size==0):\n",
        "      return f\"No element in the array.\"\n",
        "    else:\n",
        "      result=self.array[self.start]\n",
        "      self.start=(self.start+1)%self.length\n",
        "      self.size-=1\n",
        "      return result\n",
        "length=int(input(\"Enter the length of the array: \"))\n",
        "a1=ArrayQueue(length)\n",
        "print(\"Top: \",a1.peek())\n",
        "a1.enqueue(6)\n",
        "a1.enqueue(10)\n",
        "print(\"Removed:\", a1.dequeue())\n",
        "print(\"Top: \",a1.peek())\n",
        "a1.enqueue(80)\n",
        "print(\"Top: \",a1.peek())\n",
        "print(\"Removed:\", a1.dequeue())\n",
        "print(\"Removed:\", a1.dequeue())\n",
        "print(\"Top: \",a1.peek())\n",
        "print(\"Removed:\", a1.dequeue())"
      ],
      "metadata": {
        "id": "A7BYpF4zxH0t",
        "colab": {
          "base_uri": "https://localhost:8080/"
        },
        "outputId": "28ee446a-8860-422e-af5f-dd98c16e6c12"
      },
      "execution_count": 25,
      "outputs": [
        {
          "output_type": "stream",
          "name": "stdout",
          "text": [
            "Enter the length of the array: 4\n",
            "Top:  The array is empty.\n",
            "Removed: 6\n",
            "Top:  10\n",
            "Top:  10\n",
            "Removed: 10\n",
            "Removed: 80\n",
            "Top:  The array is empty.\n",
            "Removed: No element in the array.\n"
          ]
        }
      ]
    },
    {
      "cell_type": "markdown",
      "source": [
        "Creating an list queue class"
      ],
      "metadata": {
        "id": "1n_I1P4RwYC5"
      }
    },
    {
      "cell_type": "code",
      "source": [
        "class Node:\n",
        "  def __init__(self,value):\n",
        "    self.value=value\n",
        "    self.next=next\n",
        "class ListQueue:\n",
        "  head=None\n",
        "  tail=None\n",
        "  def enqueue(self,element):\n",
        "    new=Node(element)\n",
        "    if(self.head==None):\n",
        "      self.head=new\n",
        "      self.tail=new\n",
        "    else:\n",
        "      self.tail.next=new\n",
        "      self.tail=new\n",
        "  def dequeue(self):\n",
        "    temp=self.head\n",
        "    self.head=self.head.next\n",
        "    print(\"Removed: \",temp.value)\n",
        "    temp.next=None\n",
        "    temp.value=None\n",
        "  def peek(self):\n",
        "    return self.head.value\n",
        "l1=ListQueue()\n",
        "l1.enqueue(20)\n",
        "l1.enqueue(0)\n",
        "l1.enqueue(80)\n",
        "l1.enqueue(9)\n",
        "l1.enqueue(100)\n",
        "print(l1.peek())\n",
        "l1.dequeue()\n",
        "l1.dequeue()\n",
        "l1.dequeue()\n",
        "print(l1.peek())\n",
        "l1.dequeue()\n",
        "print(l1.peek())\n",
        "l1.dequeue()"
      ],
      "metadata": {
        "id": "G5EtqnVvwKuR",
        "outputId": "cb8c5494-c229-4022-b559-3c4b74ecdeff",
        "colab": {
          "base_uri": "https://localhost:8080/"
        }
      },
      "execution_count": 30,
      "outputs": [
        {
          "output_type": "stream",
          "name": "stdout",
          "text": [
            "20\n",
            "Removed:  20\n",
            "Removed:  0\n",
            "Removed:  80\n",
            "9\n",
            "Removed:  9\n",
            "100\n",
            "Removed:  100\n"
          ]
        }
      ]
    },
    {
      "cell_type": "markdown",
      "source": [
        "Length of a string using recursion"
      ],
      "metadata": {
        "id": "mBq0e6va__Pg"
      }
    },
    {
      "cell_type": "code",
      "source": [
        "def length_recursion(string):\n",
        "  if(string==\"\"):\n",
        "    return 0\n",
        "  else:\n",
        "    return 1+length_recursion(string[1:])\n",
        "length_recursion(\"MALIHA\")"
      ],
      "metadata": {
        "id": "9iZC98YkAF8t",
        "outputId": "bbad6d94-3ddb-4289-e0e5-be15be45a99f",
        "colab": {
          "base_uri": "https://localhost:8080/"
        }
      },
      "execution_count": 32,
      "outputs": [
        {
          "output_type": "execute_result",
          "data": {
            "text/plain": [
              "6"
            ]
          },
          "metadata": {},
          "execution_count": 32
        }
      ]
    },
    {
      "cell_type": "markdown",
      "source": [
        "Length of a linked list using recursion"
      ],
      "metadata": {
        "id": "QVx6iFtCCItI"
      }
    },
    {
      "cell_type": "code",
      "source": [
        "class Node:\n",
        "  def __init__(self,value,next):\n",
        "    self.value=value\n",
        "    self.next=None\n",
        "class Linkedlist:\n",
        "  def __init__(self,list1):\n",
        "    self.head=Node(list1[0],None)\n",
        "    h=self.head\n",
        "    for i in range(1,len(list1)):\n",
        "      new=Node(list1[i],None)\n",
        "      h.next=new\n",
        "      h=h.next\n",
        "  def length(self,node):\n",
        "    if(node==None):\n",
        "      return 0\n",
        "    else:\n",
        "      return 1+self.length(node.next)\n",
        "list1=[10,20,30,40]\n",
        "s1=Linkedlist(list1)\n",
        "s1.length(s1.head)"
      ],
      "metadata": {
        "id": "BZZxu6YQCMBx",
        "outputId": "395df4ba-4d8b-476e-eac3-60708ed075aa",
        "colab": {
          "base_uri": "https://localhost:8080/"
        }
      },
      "execution_count": 18,
      "outputs": [
        {
          "output_type": "execute_result",
          "data": {
            "text/plain": [
              "4"
            ]
          },
          "metadata": {},
          "execution_count": 18
        }
      ]
    },
    {
      "cell_type": "code",
      "source": [
        "class Node:\n",
        "  def __init__(self,value):\n",
        "    self.value=value\n",
        "    self.next=None\n",
        "class Linkedlist:\n",
        "  def __init__(self,list1):\n",
        "    self.head=Node(list1[0])\n",
        "    self.head.next=None\n",
        "    head=self.head\n",
        "    for i in range(1,len(list1)):\n",
        "      new=Node(list1[i])\n",
        "      new.next=None\n",
        "      head.next=new\n",
        "      head=head.next\n",
        "  def length(self,node):\n",
        "    if(node==None):\n",
        "      return 0\n",
        "    else:\n",
        "      return 1+self.length(node.next)\n",
        "list1=[90,80,70,60,50,40]\n",
        "a1=Linkedlist(list1)\n",
        "a1.length(a1.head)"
      ],
      "metadata": {
        "id": "QyXTXkEUCev0",
        "outputId": "dd8b2eb0-d7fe-47c2-c7eb-4e310086cff6",
        "colab": {
          "base_uri": "https://localhost:8080/"
        }
      },
      "execution_count": 19,
      "outputs": [
        {
          "output_type": "execute_result",
          "data": {
            "text/plain": [
              "6"
            ]
          },
          "metadata": {},
          "execution_count": 19
        }
      ]
    }
  ]
}