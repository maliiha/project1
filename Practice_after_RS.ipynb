{
  "nbformat": 4,
  "nbformat_minor": 0,
  "metadata": {
    "colab": {
      "provenance": [],
      "authorship_tag": "ABX9TyMLAxmjZp88Nom5gSwtulU4",
      "include_colab_link": true
    },
    "kernelspec": {
      "name": "python3",
      "display_name": "Python 3"
    },
    "language_info": {
      "name": "python"
    }
  },
  "cells": [
    {
      "cell_type": "markdown",
      "metadata": {
        "id": "view-in-github",
        "colab_type": "text"
      },
      "source": [
        "<a href=\"https://colab.research.google.com/github/maliiha/project1/blob/main/Practice_after_RS.ipynb\" target=\"_parent\"><img src=\"https://colab.research.google.com/assets/colab-badge.svg\" alt=\"Open In Colab\"/></a>"
      ]
    },
    {
      "cell_type": "code",
      "execution_count": null,
      "metadata": {
        "id": "wTk1c3Rpud6K",
        "outputId": "f48832f9-27a7-48e3-90cd-6c0268beeb3a",
        "colab": {
          "base_uri": "https://localhost:8080/"
        }
      },
      "outputs": [
        {
          "output_type": "stream",
          "name": "stdout",
          "text": [
            "Enter a number between 1 to 100: 24\n",
            "Not Weird\n"
          ]
        }
      ],
      "source": [
        "n=int(input(\"Enter a number between 1 to 100: \"))\n",
        "if(n%2!=0):\n",
        "  print(\"Weird\")\n",
        "elif(2<=n<=5):\n",
        "  print(\"Not Weird\")\n",
        "elif(6<=n<=20):\n",
        "  print(\"Weird\")\n",
        "else:\n",
        "  print(\"Not Weird\")"
      ]
    }
  ]
}