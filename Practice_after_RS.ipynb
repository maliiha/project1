{
  "nbformat": 4,
  "nbformat_minor": 0,
  "metadata": {
    "colab": {
      "provenance": [],
      "authorship_tag": "ABX9TyN1Ow34hieS/kADd4rwIRKy",
      "include_colab_link": true
    },
    "kernelspec": {
      "name": "python3",
      "display_name": "Python 3"
    },
    "language_info": {
      "name": "python"
    }
  },
  "cells": [
    {
      "cell_type": "markdown",
      "metadata": {
        "id": "view-in-github",
        "colab_type": "text"
      },
      "source": [
        "<a href=\"https://colab.research.google.com/github/maliiha/project1/blob/main/Practice_after_RS.ipynb\" target=\"_parent\"><img src=\"https://colab.research.google.com/assets/colab-badge.svg\" alt=\"Open In Colab\"/></a>"
      ]
    },
    {
      "cell_type": "code",
      "execution_count": null,
      "metadata": {
        "id": "wTk1c3Rpud6K",
        "outputId": "f48832f9-27a7-48e3-90cd-6c0268beeb3a",
        "colab": {
          "base_uri": "https://localhost:8080/"
        }
      },
      "outputs": [
        {
          "output_type": "stream",
          "name": "stdout",
          "text": [
            "Enter a number between 1 to 100: 24\n",
            "Not Weird\n"
          ]
        }
      ],
      "source": [
        "n=int(input(\"Enter a number between 1 to 100: \"))\n",
        "if(n%2!=0):\n",
        "  print(\"Weird\")\n",
        "elif(2<=n<=5):\n",
        "  print(\"Not Weird\")\n",
        "elif(6<=n<=20):\n",
        "  print(\"Weird\")\n",
        "else:\n",
        "  print(\"Not Weird\")"
      ]
    },
    {
      "cell_type": "code",
      "source": [
        "a=[10,20,30,40,50,60]\n",
        "i=0\n",
        "while i<len(a):\n",
        "  print(a[i])\n",
        "  i+=1"
      ],
      "metadata": {
        "id": "BK7bNy_5M-No",
        "outputId": "4c9b2430-942e-40ea-ca4e-9a33bd7b6362",
        "colab": {
          "base_uri": "https://localhost:8080/"
        }
      },
      "execution_count": null,
      "outputs": [
        {
          "output_type": "stream",
          "name": "stdout",
          "text": [
            "10\n",
            "20\n",
            "30\n",
            "40\n",
            "50\n",
            "60\n"
          ]
        }
      ]
    },
    {
      "cell_type": "markdown",
      "source": [
        "ajaira"
      ],
      "metadata": {
        "id": "RxYUjaJ1ypK4"
      }
    },
    {
      "cell_type": "code",
      "source": [
        "x=int(input(\"How many dollars do you have? \"))\n",
        "result=0\n",
        "roll1=0\n",
        "roll2=0\n",
        "amount=x\n",
        "while x>0:\n",
        "  import random\n",
        "  dice1=random.randint(1,6)\n",
        "  dice2=random.randint(1,6)\n",
        "  roll1+=1\n",
        "  result=dice1+dice2\n",
        "  if(result==7):\n",
        "    x+=4   \n",
        "  else:\n",
        "    x-=1\n",
        "  if(x>amount):\n",
        "    amount=x\n",
        "    roll2=roll1\n",
        "print(\"You are broke after\",{roll1},\"rolls.\")\n",
        "print(\"You should have quit after\",{roll2},\"when you had\",{amount})"
      ],
      "metadata": {
        "colab": {
          "base_uri": "https://localhost:8080/"
        },
        "id": "I6iyxjESymB_",
        "outputId": "dcc53009-6abf-4359-8d27-ffa342bf3999"
      },
      "execution_count": null,
      "outputs": [
        {
          "output_type": "stream",
          "name": "stdout",
          "text": [
            "How many dollars do you have? 50\n",
            "You are broke after {355} rolls.\n",
            "You should have quit after {14} when you had {61}\n"
          ]
        }
      ]
    },
    {
      "cell_type": "markdown",
      "source": [
        "reversing an array (out of place)"
      ],
      "metadata": {
        "id": "RNvOctw66koS"
      }
    },
    {
      "cell_type": "code",
      "source": [
        "def reverse(source):\n",
        "  arr=[0]*len(source)\n",
        "  i=0\n",
        "  j=len(source)-1\n",
        "  while 0<=j<len(source):\n",
        "    arr[j]=source[i]\n",
        "    j-=1\n",
        "    i+=1\n",
        "  print(arr)\n",
        "source=[10,20,30,40,50]\n",
        "reverse(source)"
      ],
      "metadata": {
        "id": "v7NARgFH6kCd",
        "outputId": "1dfffac9-0057-4ab9-fede-811f8288bdc2",
        "colab": {
          "base_uri": "https://localhost:8080/"
        }
      },
      "execution_count": 7,
      "outputs": [
        {
          "output_type": "stream",
          "name": "stdout",
          "text": [
            "[50, 40, 30, 20, 10]\n"
          ]
        }
      ]
    },
    {
      "cell_type": "markdown",
      "source": [
        "reversing an array (in place)"
      ],
      "metadata": {
        "id": "r02pRtCa-M39"
      }
    },
    {
      "cell_type": "code",
      "source": [
        "def reverse(source):\n",
        "  i=0\n",
        "  j=len(source)-1\n",
        "  while i<j:\n",
        "    source[i],source[j]=source[j],source[i]\n",
        "    i+=1\n",
        "    j-=1\n",
        "  print(source)\n",
        "source=[10,20,30,40,50]\n",
        "reverse(source)"
      ],
      "metadata": {
        "id": "Tq_NaEkM-O5q",
        "outputId": "f37c1a61-ab33-4974-d500-add3747ccfca",
        "colab": {
          "base_uri": "https://localhost:8080/"
        }
      },
      "execution_count": 1,
      "outputs": [
        {
          "output_type": "stream",
          "name": "stdout",
          "text": [
            "[50, 40, 30, 20, 10]\n"
          ]
        }
      ]
    },
    {
      "cell_type": "markdown",
      "source": [
        "right shift by one place"
      ],
      "metadata": {
        "id": "MQnVQ7xHW9Cu"
      }
    },
    {
      "cell_type": "code",
      "source": [
        "def right_shift(source):\n",
        "  i=len(source)-2\n",
        "  while i>=0:\n",
        "    source[i+1]=source[i]\n",
        "    i-=1\n",
        "  source[0]=0\n",
        "  print(source)\n",
        "source=[1,2,3,4]\n",
        "right_shift(source)"
      ],
      "metadata": {
        "id": "iR560tJPW8dC",
        "outputId": "85061736-6aba-45d9-bda9-f2cdec174c66",
        "colab": {
          "base_uri": "https://localhost:8080/"
        }
      },
      "execution_count": 2,
      "outputs": [
        {
          "output_type": "stream",
          "name": "stdout",
          "text": [
            "[0, 1, 2, 3]\n"
          ]
        }
      ]
    },
    {
      "cell_type": "markdown",
      "source": [
        "right rotate by one place"
      ],
      "metadata": {
        "id": "GPUJjb-udJ1R"
      }
    },
    {
      "cell_type": "code",
      "source": [
        "def right_rotate(source):\n",
        "  temp=source[len(source)-1]\n",
        "  i=len(source)-2\n",
        "  while i>=0:\n",
        "    source[i+1]=source[i]\n",
        "    i-=1\n",
        "  source[0]=temp\n",
        "  print(source)\n",
        "source=[1,2,3,4]\n",
        "right_rotate(source)"
      ],
      "metadata": {
        "id": "HiW74s2CdP-8",
        "outputId": "2290609c-1d1b-4953-fd78-872b70c0936f",
        "colab": {
          "base_uri": "https://localhost:8080/"
        }
      },
      "execution_count": 3,
      "outputs": [
        {
          "output_type": "stream",
          "name": "stdout",
          "text": [
            "[4, 1, 2, 3]\n"
          ]
        }
      ]
    },
    {
      "cell_type": "markdown",
      "source": [
        "right rotate by k place"
      ],
      "metadata": {
        "id": "hvW0sLjSgRe0"
      }
    },
    {
      "cell_type": "code",
      "source": [
        "def right_shift(source,k):\n",
        "  for i in range(0,k):\n",
        "    temp=source[len(source)-1]\n",
        "    i=len(source)-2\n",
        "    while i>=0:\n",
        "      source[i+1]=source[i]\n",
        "      i-=1\n",
        "    source[0]=temp\n",
        "  print(source)\n",
        "source=[1,2,3,4]\n",
        "right_shift(source,2)"
      ],
      "metadata": {
        "id": "YDEuHxoRgP6n",
        "outputId": "da228e95-2106-4cdb-9490-da97f81e0477",
        "colab": {
          "base_uri": "https://localhost:8080/"
        }
      },
      "execution_count": 6,
      "outputs": [
        {
          "output_type": "stream",
          "name": "stdout",
          "text": [
            "[3, 4, 1, 2]\n"
          ]
        }
      ]
    },
    {
      "cell_type": "markdown",
      "source": [
        "Insertion"
      ],
      "metadata": {
        "id": "j06jfDcskAPW"
      }
    },
    {
      "cell_type": "code",
      "source": [
        "def insertion(source,value,index,size):\n",
        "  if(len(source)==size):\n",
        "    print(\"There's no empty space.\")\n",
        "  elif(index<0 or index>size):\n",
        "    print(\"Index is not valid.\")\n",
        "  else:\n",
        "    i=size\n",
        "    while i>=index:\n",
        "      source[i+1]=source[i]\n",
        "      i-=1\n",
        "    source[index]=value\n",
        "    print(source)\n",
        "source=[10,20,30,40,50]\n",
        "insertion(source,200,5,5)"
      ],
      "metadata": {
        "id": "I390o_PBkCuN",
        "outputId": "d782f084-4ec6-45cc-f926-a440a116427e",
        "colab": {
          "base_uri": "https://localhost:8080/"
        }
      },
      "execution_count": 29,
      "outputs": [
        {
          "output_type": "stream",
          "name": "stdout",
          "text": [
            "There's no empty space.\n"
          ]
        }
      ]
    },
    {
      "cell_type": "markdown",
      "source": [
        "Deletation"
      ],
      "metadata": {
        "id": "akliU9vL0yIw"
      }
    },
    {
      "cell_type": "code",
      "source": [
        "def deletation(source,index):\n",
        "  count=0\n",
        "  for i in range(len(source)):\n",
        "    if(source[i]!=0):\n",
        "      count+=1\n",
        "  if(count==0):\n",
        "    print(\"No element for deletation.\")\n",
        "  else:\n",
        "    i=index\n",
        "    while i<len(source)-1:\n",
        "      source[i]=source[i+1]\n",
        "      i+=1\n",
        "    print(source)\n",
        "source=[10,20,30,40,50,0,0,0]\n",
        "deletation(source,3)"
      ],
      "metadata": {
        "id": "U7pV8yc8015b",
        "outputId": "468da29c-c517-4ddd-d869-9b19f52b9b34",
        "colab": {
          "base_uri": "https://localhost:8080/"
        }
      },
      "execution_count": 36,
      "outputs": [
        {
          "output_type": "stream",
          "name": "stdout",
          "text": [
            "[10, 20, 30, 50, 0, 0, 0, 0]\n"
          ]
        }
      ]
    },
    {
      "cell_type": "markdown",
      "source": [
        "Remove all occurrences of a particular element from an array"
      ],
      "metadata": {
        "id": "1vmWoW75gYFV"
      }
    },
    {
      "cell_type": "code",
      "source": [
        "def removeAll( source, size, element):\n",
        "  i=size\n",
        "  while i>=0:\n",
        "    if(source[i]==element):\n",
        "      while i<=size:\n",
        "        source[i]=source[i+1]\n",
        "        i+=1\n",
        "    i-=1\n",
        "  print(source)\n",
        "source=[10,2,30,2,50,2,2,0,0]\n",
        "removeAll(source,7,2)"
      ],
      "metadata": {
        "id": "NmEml1sggbMF",
        "outputId": "30edaf4a-b64a-4dd8-9b64-f923418b606e",
        "colab": {
          "base_uri": "https://localhost:8080/"
        }
      },
      "execution_count": 18,
      "outputs": [
        {
          "output_type": "stream",
          "name": "stdout",
          "text": [
            "[10, 30, 50, 0, 0, 0, 0, 0, 0]\n"
          ]
        }
      ]
    },
    {
      "cell_type": "markdown",
      "source": [
        "Splitting an Array"
      ],
      "metadata": {
        "id": "5jSweIEhnwRF"
      }
    },
    {
      "cell_type": "code",
      "source": [
        "def splitting(source):\n",
        "  count1=0\n",
        "  count2=0\n",
        "  for i in range(0,len(source)-1):\n",
        "    count1+=source[i]\n",
        "  for j in range(1,len(source)):\n",
        "    count2+=source[j]\n",
        "  if(count1==count2):\n",
        "    return True\n",
        "  else:\n",
        "    return False\n",
        "source=[10, 3, 1, 2, 10] \n",
        "splitting(source)"
      ],
      "metadata": {
        "colab": {
          "base_uri": "https://localhost:8080/"
        },
        "id": "zOVUIzRZnw37",
        "outputId": "d80b9e99-692b-4db2-c458-59c5de376df4"
      },
      "execution_count": 21,
      "outputs": [
        {
          "output_type": "execute_result",
          "data": {
            "text/plain": [
              "True"
            ]
          },
          "metadata": {},
          "execution_count": 21
        }
      ]
    },
    {
      "cell_type": "markdown",
      "source": [
        "Array series"
      ],
      "metadata": {
        "id": "5jMiw3Hjq-E6"
      }
    },
    {
      "cell_type": "code",
      "source": [
        "def series(n):\n",
        "  arr=[0]*n*n\n",
        "  count=1\n",
        "  i=len(arr)-1\n",
        "  while i>=0:\n",
        "    arr[i]=count\n",
        "    count+=1\n",
        "    if(count==n):\n",
        "      count=1\n",
        "    print(arr)\n",
        "    i-=1\n",
        "n=int(input(\"Enter a value: \"))\n",
        "series(n)"
      ],
      "metadata": {
        "id": "IZtqxi1Eq_8F",
        "outputId": "5dc2186a-01ad-4e22-a036-195915ba84bc",
        "colab": {
          "base_uri": "https://localhost:8080/"
        }
      },
      "execution_count": 24,
      "outputs": [
        {
          "output_type": "stream",
          "name": "stdout",
          "text": [
            "Enter a value: 2\n",
            "[0, 0, 0, 1]\n",
            "[0, 0, 1, 1]\n",
            "[0, 1, 1, 1]\n",
            "[1, 1, 1, 1]\n"
          ]
        }
      ]
    }
  ]
}