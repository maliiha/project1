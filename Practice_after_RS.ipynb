{
  "nbformat": 4,
  "nbformat_minor": 0,
  "metadata": {
    "colab": {
      "provenance": [],
      "authorship_tag": "ABX9TyMMFahF76AqzkxzdOa108E2",
      "include_colab_link": true
    },
    "kernelspec": {
      "name": "python3",
      "display_name": "Python 3"
    },
    "language_info": {
      "name": "python"
    }
  },
  "cells": [
    {
      "cell_type": "markdown",
      "metadata": {
        "id": "view-in-github",
        "colab_type": "text"
      },
      "source": [
        "<a href=\"https://colab.research.google.com/github/maliiha/project1/blob/main/Practice_after_RS.ipynb\" target=\"_parent\"><img src=\"https://colab.research.google.com/assets/colab-badge.svg\" alt=\"Open In Colab\"/></a>"
      ]
    },
    {
      "cell_type": "code",
      "execution_count": null,
      "metadata": {
        "id": "wTk1c3Rpud6K",
        "outputId": "bda3042f-984e-40cd-a2aa-319fb9f14adc",
        "colab": {
          "base_uri": "https://localhost:8080/"
        }
      },
      "outputs": [
        {
          "output_type": "stream",
          "name": "stdout",
          "text": [
            "Enter a number between 1 to 100: 80\n",
            "Not Weird\n"
          ]
        }
      ],
      "source": [
        "n=int(input(\"Enter a number between 1 to 100: \"))\n",
        "if(n%2!=0):\n",
        "  print(\"Weird\")\n",
        "elif(2<=n<=5):\n",
        "  print(\"Not Weird\")\n",
        "elif(6<=n<=20):\n",
        "  print(\"Weird\")\n",
        "else:\n",
        "  print(\"Not Weird\")"
      ]
    },
    {
      "cell_type": "code",
      "source": [
        "a=[10,20,30,40,50,60]\n",
        "i=0\n",
        "while i<len(a):\n",
        "  print(a[i])\n",
        "  i+=1"
      ],
      "metadata": {
        "id": "BK7bNy_5M-No",
        "outputId": "b893e152-b40e-440b-a379-924e5844c874",
        "colab": {
          "base_uri": "https://localhost:8080/"
        }
      },
      "execution_count": null,
      "outputs": [
        {
          "output_type": "stream",
          "name": "stdout",
          "text": [
            "10\n",
            "20\n",
            "30\n",
            "40\n",
            "50\n",
            "60\n"
          ]
        }
      ]
    },
    {
      "cell_type": "markdown",
      "source": [
        "ajaira"
      ],
      "metadata": {
        "id": "RxYUjaJ1ypK4"
      }
    },
    {
      "cell_type": "code",
      "source": [
        "x=int(input(\"How many dollars do you have? \"))\n",
        "result=0\n",
        "roll1=0\n",
        "roll2=0\n",
        "amount=x\n",
        "while x>0:\n",
        "  import random\n",
        "  dice1=random.randint(1,6)\n",
        "  dice2=random.randint(1,6)\n",
        "  roll1+=1\n",
        "  result=dice1+dice2\n",
        "  if(result==7):\n",
        "    x+=4   \n",
        "  else:\n",
        "    x-=1\n",
        "  if(x>amount):\n",
        "    amount=x\n",
        "    roll2=roll1\n",
        "print(\"You are broke after\",{roll1},\"rolls.\")\n",
        "print(\"You should have quit after\",{roll2},\"when you had\",{amount})"
      ],
      "metadata": {
        "colab": {
          "base_uri": "https://localhost:8080/"
        },
        "id": "I6iyxjESymB_",
        "outputId": "3da6af09-d6cd-4622-c1da-dc3589577ff3"
      },
      "execution_count": null,
      "outputs": [
        {
          "output_type": "stream",
          "name": "stdout",
          "text": [
            "How many dollars do you have? 90\n",
            "You are broke after {250} rolls.\n",
            "You should have quit after {0} when you had {90}\n"
          ]
        }
      ]
    },
    {
      "cell_type": "markdown",
      "source": [
        "reversing an array (out of place)"
      ],
      "metadata": {
        "id": "RNvOctw66koS"
      }
    },
    {
      "cell_type": "code",
      "source": [
        "def reverse(source):\n",
        "  arr=[0]*len(source)\n",
        "  i=0\n",
        "  j=len(source)-1\n",
        "  while 0<=j<len(source):\n",
        "    arr[j]=source[i]\n",
        "    j-=1\n",
        "    i+=1\n",
        "  print(arr)\n",
        "source=[10,20,30,40,50]\n",
        "reverse(source)"
      ],
      "metadata": {
        "colab": {
          "base_uri": "https://localhost:8080/"
        },
        "id": "v7NARgFH6kCd",
        "outputId": "d03d69dd-53ca-49bb-9a97-232171068f9e"
      },
      "execution_count": null,
      "outputs": [
        {
          "output_type": "stream",
          "name": "stdout",
          "text": [
            "[50, 40, 30, 20, 10]\n"
          ]
        }
      ]
    },
    {
      "cell_type": "markdown",
      "source": [
        "reversing an array (in place)"
      ],
      "metadata": {
        "id": "r02pRtCa-M39"
      }
    },
    {
      "cell_type": "code",
      "source": [
        "def reverse(source):\n",
        "  i=0\n",
        "  j=len(source)-1\n",
        "  while i<j:\n",
        "    source[i],source[j]=source[j],source[i]\n",
        "    i+=1\n",
        "    j-=1\n",
        "  print(source)\n",
        "source=[10,20,30,40,50]\n",
        "reverse(source)"
      ],
      "metadata": {
        "colab": {
          "base_uri": "https://localhost:8080/"
        },
        "id": "Tq_NaEkM-O5q",
        "outputId": "2267a8a0-f9f3-4552-91c1-214d1c078ff6"
      },
      "execution_count": null,
      "outputs": [
        {
          "output_type": "stream",
          "name": "stdout",
          "text": [
            "[50, 40, 30, 20, 10]\n"
          ]
        }
      ]
    },
    {
      "cell_type": "markdown",
      "source": [
        "right shift by one place"
      ],
      "metadata": {
        "id": "MQnVQ7xHW9Cu"
      }
    },
    {
      "cell_type": "code",
      "source": [
        "def right_shift(source):\n",
        "  i=len(source)-2\n",
        "  while i>=0:\n",
        "    source[i+1]=source[i]\n",
        "    i-=1\n",
        "  source[0]=0\n",
        "  print(source)\n",
        "source=[1,2,3,4]\n",
        "right_shift(source)"
      ],
      "metadata": {
        "colab": {
          "base_uri": "https://localhost:8080/"
        },
        "id": "iR560tJPW8dC",
        "outputId": "3c0198d1-7ee6-41b2-8841-0868d76aa72d"
      },
      "execution_count": null,
      "outputs": [
        {
          "output_type": "stream",
          "name": "stdout",
          "text": [
            "[0, 1, 2, 3]\n"
          ]
        }
      ]
    },
    {
      "cell_type": "markdown",
      "source": [
        "right rotate by one place"
      ],
      "metadata": {
        "id": "GPUJjb-udJ1R"
      }
    },
    {
      "cell_type": "code",
      "source": [
        "def right_rotate(source):\n",
        "  temp=source[len(source)-1]\n",
        "  i=len(source)-2\n",
        "  while i>=0:\n",
        "    source[i+1]=source[i]\n",
        "    i-=1\n",
        "  source[0]=temp\n",
        "  print(source)\n",
        "source=[1,2,3,4]\n",
        "right_rotate(source)"
      ],
      "metadata": {
        "colab": {
          "base_uri": "https://localhost:8080/"
        },
        "id": "HiW74s2CdP-8",
        "outputId": "804cc1bb-2c74-4619-a7dd-3e67cb080647"
      },
      "execution_count": null,
      "outputs": [
        {
          "output_type": "stream",
          "name": "stdout",
          "text": [
            "[4, 1, 2, 3]\n"
          ]
        }
      ]
    },
    {
      "cell_type": "markdown",
      "source": [
        "right rotate by k place"
      ],
      "metadata": {
        "id": "hvW0sLjSgRe0"
      }
    },
    {
      "cell_type": "code",
      "source": [
        "def right_shift(source,k):\n",
        "  for i in range(0,k):\n",
        "    temp=source[len(source)-1]\n",
        "    i=len(source)-2\n",
        "    while i>=0:\n",
        "      source[i+1]=source[i]\n",
        "      i-=1\n",
        "    source[0]=temp\n",
        "  print(source)\n",
        "source=[1,2,3,4]\n",
        "right_shift(source,2)"
      ],
      "metadata": {
        "colab": {
          "base_uri": "https://localhost:8080/"
        },
        "id": "YDEuHxoRgP6n",
        "outputId": "2c42e44b-38ef-4898-d92a-e49d235b04ad"
      },
      "execution_count": null,
      "outputs": [
        {
          "output_type": "stream",
          "name": "stdout",
          "text": [
            "[3, 4, 1, 2]\n"
          ]
        }
      ]
    },
    {
      "cell_type": "markdown",
      "source": [
        "Insertion"
      ],
      "metadata": {
        "id": "j06jfDcskAPW"
      }
    },
    {
      "cell_type": "code",
      "source": [
        "def insertion(source,value,index,size):\n",
        "  if(len(source)==size):\n",
        "    print(\"There's no empty space.\")\n",
        "  elif(index<0 or index>size):\n",
        "    print(\"Index is not valid.\")\n",
        "  else:\n",
        "    i=size\n",
        "    while i>=index:\n",
        "      source[i+1]=source[i]\n",
        "      i-=1\n",
        "    source[index]=value\n",
        "    print(source)\n",
        "source=[10,20,30,40,50]\n",
        "insertion(source,200,5,5)"
      ],
      "metadata": {
        "colab": {
          "base_uri": "https://localhost:8080/"
        },
        "id": "I390o_PBkCuN",
        "outputId": "10071878-10dd-4105-bae5-d2d3c115d0b0"
      },
      "execution_count": null,
      "outputs": [
        {
          "output_type": "stream",
          "name": "stdout",
          "text": [
            "There's no empty space.\n"
          ]
        }
      ]
    },
    {
      "cell_type": "markdown",
      "source": [
        "Deletation"
      ],
      "metadata": {
        "id": "akliU9vL0yIw"
      }
    },
    {
      "cell_type": "code",
      "source": [
        "def deletation(source,index):\n",
        "  count=0\n",
        "  for i in range(len(source)):\n",
        "    if(source[i]!=0):\n",
        "      count+=1\n",
        "  if(count==0):\n",
        "    print(\"No element for deletation.\")\n",
        "  else:\n",
        "    i=index\n",
        "    while i<len(source)-1:\n",
        "      source[i]=source[i+1]\n",
        "      i+=1\n",
        "    print(source)\n",
        "source=[10,20,30,40,50,0,0,0]\n",
        "deletation(source,3)"
      ],
      "metadata": {
        "colab": {
          "base_uri": "https://localhost:8080/"
        },
        "id": "U7pV8yc8015b",
        "outputId": "ec02635a-fc9e-4a7d-9d1c-75e50993b137"
      },
      "execution_count": null,
      "outputs": [
        {
          "output_type": "stream",
          "name": "stdout",
          "text": [
            "[10, 20, 30, 50, 0, 0, 0, 0]\n"
          ]
        }
      ]
    },
    {
      "cell_type": "markdown",
      "source": [
        "Remove all occurrences of a particular element from an array"
      ],
      "metadata": {
        "id": "1vmWoW75gYFV"
      }
    },
    {
      "cell_type": "code",
      "source": [
        "def removeAll( source, size, element):\n",
        "  i=size\n",
        "  while i>=0:\n",
        "    if(source[i]==element):\n",
        "      while i<=size:\n",
        "        source[i]=source[i+1]\n",
        "        i+=1\n",
        "    i-=1\n",
        "  print(source)\n",
        "source=[10,2,30,2,50,2,2,0,0]\n",
        "removeAll(source,7,2)"
      ],
      "metadata": {
        "colab": {
          "base_uri": "https://localhost:8080/"
        },
        "id": "NmEml1sggbMF",
        "outputId": "a61e6da0-3396-43aa-c905-b69c8ce3c778"
      },
      "execution_count": null,
      "outputs": [
        {
          "output_type": "stream",
          "name": "stdout",
          "text": [
            "[10, 30, 50, 0, 0, 0, 0, 0, 0]\n"
          ]
        }
      ]
    },
    {
      "cell_type": "markdown",
      "source": [
        "Splitting an Array"
      ],
      "metadata": {
        "id": "5jSweIEhnwRF"
      }
    },
    {
      "cell_type": "code",
      "source": [
        "def splitting(source):\n",
        "  count1=0\n",
        "  for i in range(0,len(source)-1):\n",
        "    count1+=source[i]\n",
        "    count2=0\n",
        "    for j in range(i+1,len(source)):\n",
        "      count2+=source[j]\n",
        "    if(count1==count2):\n",
        "      result=\"true\"\n",
        "      break\n",
        "    else:\n",
        "      result=\"false\"\n",
        "  print(result)\n",
        "source=[1,1,2,4,1,2,1,1,3]\n",
        "splitting(source)"
      ],
      "metadata": {
        "colab": {
          "base_uri": "https://localhost:8080/"
        },
        "id": "3gKXkCXUboGj",
        "outputId": "5494dbfa-67ba-4ae7-9de4-c46b98a84c6e"
      },
      "execution_count": null,
      "outputs": [
        {
          "output_type": "stream",
          "name": "stdout",
          "text": [
            "true\n"
          ]
        }
      ]
    },
    {
      "cell_type": "markdown",
      "source": [
        "Array series"
      ],
      "metadata": {
        "id": "5jMiw3Hjq-E6"
      }
    },
    {
      "cell_type": "code",
      "source": [
        "def series(n):\n",
        "  arr=[0]*n*n\n",
        "  i=0\n",
        "  while i<n:\n",
        "    index=n*(n-i)\n",
        "    for j in range(1,n-i+1):\n",
        "      arr[index-1]=j\n",
        "      index-=1\n",
        "    i+=1\n",
        "  print(arr)\n",
        "n=int(input(\"Enter an integer Value: \"))\n",
        "series(n)"
      ],
      "metadata": {
        "colab": {
          "base_uri": "https://localhost:8080/"
        },
        "id": "VaQ4PX7V0I6r",
        "outputId": "52997d7b-3041-4308-e31b-132f2956332b"
      },
      "execution_count": null,
      "outputs": [
        {
          "output_type": "stream",
          "name": "stdout",
          "text": [
            "Enter an integer Value: 5\n",
            "[0, 0, 0, 0, 1, 0, 0, 0, 2, 1, 0, 0, 3, 2, 1, 0, 4, 3, 2, 1, 5, 4, 3, 2, 1]\n"
          ]
        }
      ]
    },
    {
      "cell_type": "markdown",
      "source": [
        "Max Bunch Count"
      ],
      "metadata": {
        "id": "5AXO3GQu3MiR"
      }
    },
    {
      "cell_type": "code",
      "source": [
        "def bunch(source):\n",
        "  count1=1\n",
        "  maximum=0\n",
        "  for i in range(0,len(source)-1):\n",
        "    if(source[i]==source[i+1]):\n",
        "      count1+=1\n",
        "      if(maximum>count1):\n",
        "        maximum=maximum\n",
        "      else:\n",
        "        maximum=count1\n",
        "    else:\n",
        "      count1=1\n",
        "  print(maximum)  \n",
        "source=[1,1,2, 2, 1, 1,1,1]\n",
        "bunch(source)"
      ],
      "metadata": {
        "colab": {
          "base_uri": "https://localhost:8080/"
        },
        "id": "meVHWq-w3Oy_",
        "outputId": "7818f1ce-3289-4d78-c062-20d57370ffd8"
      },
      "execution_count": null,
      "outputs": [
        {
          "output_type": "stream",
          "name": "stdout",
          "text": [
            "4\n"
          ]
        }
      ]
    },
    {
      "cell_type": "markdown",
      "source": [
        "Repetition"
      ],
      "metadata": {
        "id": "TqThdDU5OuP-"
      }
    },
    {
      "cell_type": "code",
      "source": [
        "def repitition(source):\n",
        "  arr=[0]*(len(source))\n",
        "  value=\"\"\n",
        "  count=0\n",
        "  for i in range(0,len(source)):\n",
        "    if(str(source[i]) in value):\n",
        "      continue\n",
        "    else:\n",
        "      for j in range(0,len(source)):\n",
        "        if(source[i]==source[j]):\n",
        "          count+=1\n",
        "        arr[i]=count\n",
        "      value+=str(source[i])\n",
        "      count=0\n",
        "  # repitation= False\n",
        "  # for i in range(len(arr)):\n",
        "  #   if(arr[i]>=2):\n",
        "  #     for j in range(i+1,len(arr)):\n",
        "  #       if(arr[i]==arr[j]):\n",
        "  #         repitation = True\n",
        "  # return repitation\n",
        "  repitation=0\n",
        "  for num in range(0,len(arr)):\n",
        "    if(arr[num]>=2):\n",
        "      for count1 in range(num+1,len(arr)):\n",
        "        if(arr[num]==arr[count1]):\n",
        "          repitation+=1\n",
        "  if(repitation>=1):\n",
        "    print(\"True\")\n",
        "  else:\n",
        "    print(\"False\")\n",
        "source=[3,4,6,3,4,7,4,6,8,6,6]\n",
        "repitition(source)"
      ],
      "metadata": {
        "colab": {
          "base_uri": "https://localhost:8080/"
        },
        "id": "_AvSwMkTOv1c",
        "outputId": "4e704221-a928-4a5b-ce82-f9fffa370667"
      },
      "execution_count": null,
      "outputs": [
        {
          "output_type": "stream",
          "name": "stdout",
          "text": [
            "False\n"
          ]
        }
      ]
    },
    {
      "cell_type": "markdown",
      "source": [
        "Converting linear array to circular array"
      ],
      "metadata": {
        "id": "KjlgNZD-3DDM"
      }
    },
    {
      "cell_type": "code",
      "source": [
        "arr=[10,20,30,40,50,0,0,0,0,0,0]\n",
        "ca=[0]*len(arr)\n",
        "index_ca=7\n",
        "size=0\n",
        "for i in range(0,len(arr)):\n",
        "  if(arr[i]!=0):\n",
        "    size+=1\n",
        "for j in range(0,size):\n",
        "  ca[index_ca]=arr[j]\n",
        "  index_ca=(index_ca+1)%len(arr)\n",
        "print(ca)"
      ],
      "metadata": {
        "colab": {
          "base_uri": "https://localhost:8080/"
        },
        "id": "aQE7Pw033PIz",
        "outputId": "de84bdcd-8e02-404a-c2f4-86360fd583c1"
      },
      "execution_count": null,
      "outputs": [
        {
          "output_type": "stream",
          "name": "stdout",
          "text": [
            "[50, 0, 0, 0, 0, 0, 0, 10, 20, 30, 40]\n"
          ]
        }
      ]
    },
    {
      "cell_type": "code",
      "source": [
        "def lintocir(lin,start,size):\n",
        "  c_arr=[0]*len(lin)\n",
        "  index=start\n",
        "  i=0\n",
        "  while i<size:\n",
        "    c_arr[index]=lin[i]\n",
        "    index=(index+1)%len(lin)\n",
        "    i+=1\n",
        "  print(c_arr)\n",
        "lin=[1,2,3,0,0]\n",
        "lintocir(lin,3,3)"
      ],
      "metadata": {
        "id": "eVCoE34zriqQ",
        "outputId": "ce7b4031-a699-4fa4-9409-24fc59b1817b",
        "colab": {
          "base_uri": "https://localhost:8080/"
        }
      },
      "execution_count": null,
      "outputs": [
        {
          "output_type": "stream",
          "name": "stdout",
          "text": [
            "[3, 0, 0, 1, 2]\n"
          ]
        }
      ]
    },
    {
      "cell_type": "markdown",
      "source": [
        "reverse printing a circular array"
      ],
      "metadata": {
        "id": "k_ShmJtrJQOr"
      }
    },
    {
      "cell_type": "code",
      "source": [
        "def reverse(source,start,size):\n",
        "  index=(start+size-1)%len(source)\n",
        "  i=0\n",
        "  while i<size:\n",
        "    print(source[index])\n",
        "    index-=1\n",
        "    if(index<0):\n",
        "      index=len(source)-1\n",
        "    i+=1\n",
        "source=[40,50,0,0,0,0,0,0,10,20,30]\n",
        "reverse(source,8,5)"
      ],
      "metadata": {
        "colab": {
          "base_uri": "https://localhost:8080/"
        },
        "id": "bpaoMFFWRIZa",
        "outputId": "a35cd73f-09bc-4eff-c6c2-338345da8178"
      },
      "execution_count": null,
      "outputs": [
        {
          "output_type": "stream",
          "name": "stdout",
          "text": [
            "50\n",
            "40\n",
            "30\n",
            "20\n",
            "10\n"
          ]
        }
      ]
    },
    {
      "cell_type": "markdown",
      "source": [
        "coverting a circular array to a linear array"
      ],
      "metadata": {
        "id": "rpHCKtGnVKC2"
      }
    },
    {
      "cell_type": "code",
      "source": [
        "def convert(source,start,size):\n",
        "  arr=[0]*len(source)\n",
        "  i=0\n",
        "  while i<size:\n",
        "    arr[i]=source[start]\n",
        "    start=(start+1)%len(source)\n",
        "    i+=1\n",
        "  print(arr)\n",
        "source=[40,50,0,0,0,0,0,0,10,20,30]\n",
        "convert(source,8,5)"
      ],
      "metadata": {
        "colab": {
          "base_uri": "https://localhost:8080/"
        },
        "id": "_-zyJVLkVNC5",
        "outputId": "50b51931-2f84-409a-ec61-a2b8374361a5"
      },
      "execution_count": null,
      "outputs": [
        {
          "output_type": "stream",
          "name": "stdout",
          "text": [
            "[10, 20, 30, 40, 50, 0, 0, 0, 0, 0, 0]\n"
          ]
        }
      ]
    },
    {
      "cell_type": "markdown",
      "source": [
        "resizing a circular array"
      ],
      "metadata": {
        "id": "HI31duB4WVGn"
      }
    },
    {
      "cell_type": "code",
      "source": [
        "def resize(source,start,size):\n",
        "  arr=[0]*(len(source)+2)\n",
        "  index=start\n",
        "  new_index=start\n",
        "  i=0\n",
        "  while i<size:\n",
        "    arr[new_index]=source[index]\n",
        "    index=(index+1)%len(source)\n",
        "    new_index=(new_index+1)%len(arr)\n",
        "    i+=1\n",
        "  print(arr)\n",
        "source=[30,40,50,10,20]\n",
        "resize(source,3,5)"
      ],
      "metadata": {
        "colab": {
          "base_uri": "https://localhost:8080/"
        },
        "id": "reKf36GgWV2U",
        "outputId": "2530c4c6-7af0-4145-f297-51823733daf4"
      },
      "execution_count": null,
      "outputs": [
        {
          "output_type": "stream",
          "name": "stdout",
          "text": [
            "[50, 0, 0, 10, 20, 30, 40]\n"
          ]
        }
      ]
    },
    {
      "cell_type": "markdown",
      "source": [
        "Insertion"
      ],
      "metadata": {
        "id": "kJUXgINc1ZQN"
      }
    },
    {
      "cell_type": "code",
      "source": [
        "def insert(cir,start,size,item):\n",
        "  if(0 not in cir):\n",
        "    new_cir=[0]*(len(cir)+2)\n",
        "    cir_idx=start\n",
        "    new_idx=start\n",
        "    i=0\n",
        "    while i<size:\n",
        "      new_cir[new_idx]=cir[cir_idx]\n",
        "      cir_idx=(cir_idx+1)%len(cir)\n",
        "      new_idx=(new_idx+1)%len(new_cir)\n",
        "      i+=1\n",
        "  last_idx=(start+size-1)%len(new_cir)\n",
        "  new_cir[(last_idx+1)%len(new_cir)]=item\n",
        "  print(new_cir)\n",
        "cir=[4,5,1,2,3]\n",
        "insert(cir,2,5,6)"
      ],
      "metadata": {
        "id": "tVgp32WTtUUd",
        "outputId": "829a2843-8200-4dd1-8e50-301bce96ac25",
        "colab": {
          "base_uri": "https://localhost:8080/"
        }
      },
      "execution_count": null,
      "outputs": [
        {
          "output_type": "stream",
          "name": "stdout",
          "text": [
            "[6, 0, 1, 2, 3, 4, 5]\n"
          ]
        }
      ]
    },
    {
      "cell_type": "markdown",
      "source": [
        "Deletation"
      ],
      "metadata": {
        "id": "WIuuyTYx1a0S"
      }
    },
    {
      "cell_type": "code",
      "source": [
        "def deletation(cir,start,size):\n",
        "  last_idx=(start+size-1)%len(cir)\n",
        "  cir[last_idx]=0\n",
        "  print(cir)\n",
        "cir=[4,5,1,2,3]\n",
        "deletation(cir,2,5)"
      ],
      "metadata": {
        "colab": {
          "base_uri": "https://localhost:8080/"
        },
        "id": "7ZLK4TTK1k_L",
        "outputId": "7b30ab53-f0ae-4aa9-d70e-be8aa45b78cd"
      },
      "execution_count": null,
      "outputs": [
        {
          "output_type": "stream",
          "name": "stdout",
          "text": [
            "[4, 0, 1, 2, 3]\n"
          ]
        }
      ]
    },
    {
      "cell_type": "markdown",
      "source": [
        "Shifting and Insertion"
      ],
      "metadata": {
        "id": "aNo8ggya2fnM"
      }
    },
    {
      "cell_type": "code",
      "source": [
        "def insert(cir,start,size,item,index):\n",
        "  l_idx=(start+size-1)%len(cir)\n",
        "  idx=(l_idx+1)%len(cir)\n",
        "  n_shifts=size-index\n",
        "  for i in range(n_shifts):\n",
        "    cir[idx]=cir[l_idx]\n",
        "    idx=l_idx\n",
        "    l_idx-=1\n",
        "    if(l_idx==-1):\n",
        "      l_idx=len(cir)-1\n",
        "  position=(start+index)%len(cir)\n",
        "  cir[position]=item\n",
        "  size+=1\n",
        "  print(cir)\n",
        "cir=[0,0,1,2,3,4,5]\n",
        "insert(cir,2,5,50,4)"
      ],
      "metadata": {
        "colab": {
          "base_uri": "https://localhost:8080/"
        },
        "id": "Nbz2a_oS2hxF",
        "outputId": "4ac4f2b4-ef13-44dd-bb27-4d46d888e590"
      },
      "execution_count": null,
      "outputs": [
        {
          "output_type": "stream",
          "name": "stdout",
          "text": [
            "[5, 0, 1, 2, 3, 4, 50]\n"
          ]
        }
      ]
    },
    {
      "cell_type": "markdown",
      "source": [
        "Inserting an element using linked list"
      ],
      "metadata": {
        "id": "VpkwEkc-ErzU"
      }
    },
    {
      "cell_type": "code",
      "source": [
        "class Node:\n",
        "  def __init__(self,value):\n",
        "    self.value=value\n",
        "    self.next=None\n",
        "class Linkedlist:\n",
        "  def __init__(self,arr):\n",
        "    self.head=None\n",
        "    if(isinstance(arr,list)):\n",
        "      self.head=Node(arr[0])\n",
        "      head=self.head\n",
        "      for i in range(len(arr)):\n",
        "        new_node=Node(arr[i])\n",
        "        head.next=new_node\n",
        "        head=head.next\n",
        "    elif(isinstance(arr,Node)):\n",
        "      self.head=arr\n",
        "  def countNode(self):\n",
        "    head=self.head\n",
        "    count=0\n",
        "    if(head!=None):\n",
        "      count+=1\n",
        "      head=head.next\n",
        "    else:\n",
        "      return count\n",
        "  def NodeAt(self,idx):\n",
        "    head=self.head\n",
        "    count=0\n",
        "    if(idx>0 and idx<self.countNode()):\n",
        "      while(head!=None):\n",
        "        if(count==idx):\n",
        "          return head\n",
        "        else:\n",
        "          count+=1\n",
        "          head=head.next\n",
        "    else:\n",
        "      return f\"Index invalid.\"\n",
        "  def insert(self,element,idx):\n",
        "    head=self.head\n",
        "    if(idx>0 and idx<self.countNode()):\n",
        "      new_node=Node(element)\n",
        "      if(idx==0):\n",
        "        new_node.next=head\n",
        "        head=new_node\n",
        "      else:\n",
        "        prev=self.NodeAt(idx-1)\n",
        "        new_node.next=prev.next\n",
        "        prev.next=new_node\n",
        "    else:\n",
        "      return f\"Invalid Index.\"\n",
        "    return head\n",
        "arr=[10,20,30,40]\n",
        "l1=Linkedlist(arr)\n",
        "l1.insert(2,50)"
      ],
      "metadata": {
        "id": "3lTfUN3LEvQ9"
      },
      "execution_count": null,
      "outputs": []
    },
    {
      "cell_type": "markdown",
      "source": [
        "# Practice sheet (array)"
      ],
      "metadata": {
        "id": "qk-MWx2kqWcO"
      }
    },
    {
      "cell_type": "markdown",
      "source": [
        "task:01"
      ],
      "metadata": {
        "id": "_qA78Cp-qbl6"
      }
    },
    {
      "cell_type": "code",
      "source": [
        "a=int(input(\"Enter the value of a: \"))\n",
        "b=int(input(\"Enter the value of b: \"))\n",
        "arr1=[0]*a\n",
        "arr2=[0]*b\n",
        "for i in range(a):\n",
        "  arr1[i]=int(input(\"Enter the values of arr1: \"))\n",
        "for j in range(b):\n",
        "  arr2[j]=int(input(\"Enter the values of arr2: \"))\n",
        "count=0\n",
        "if(a<b):\n",
        "  for i in range(a):\n",
        "    if(arr1[i] in arr2):\n",
        "      count+=1\n",
        "else:\n",
        "  for i in range(b):\n",
        "    if(arr2[i] in arr1):\n",
        "      count+=1\n",
        "if(count==a ):\n",
        "  print(b)\n",
        "else:\n",
        "  unmatched=a-count\n",
        "  print(b+unmatched)"
      ],
      "metadata": {
        "id": "9UXEYq9kqYFY",
        "outputId": "b2276aa8-dd55-49c5-ec12-14361d611868",
        "colab": {
          "base_uri": "https://localhost:8080/"
        }
      },
      "execution_count": null,
      "outputs": [
        {
          "output_type": "stream",
          "name": "stdout",
          "text": [
            "Enter the value of a: 5\n",
            "Enter the value of b: 9\n",
            "Enter the values of arr1: 5\n",
            "Enter the values of arr1: 6\n",
            "Enter the values of arr1: 5\n",
            "Enter the values of arr1: 1\n",
            "Enter the values of arr1: 7\n",
            "Enter the values of arr2: 6\n",
            "Enter the values of arr2: 7\n",
            "Enter the values of arr2: 8\n",
            "Enter the values of arr2: 9\n",
            "Enter the values of arr2: 1\n",
            "Enter the values of arr2: 0\n",
            "Enter the values of arr2: 4\n",
            "Enter the values of arr2: 8\n",
            "Enter the values of arr2: 2\n",
            "11\n"
          ]
        }
      ]
    },
    {
      "cell_type": "markdown",
      "source": [
        "# Stack (Practice Sheet)\n",
        " Implement the push, pop and peek functions using an array. \n",
        " "
      ],
      "metadata": {
        "id": "QedT_pG1HrtY"
      }
    },
    {
      "cell_type": "code",
      "source": [
        "class Stack:\n",
        "  stack=[0]*10\n",
        "  size=-1\n",
        "  def push(self,element):\n",
        "    if(self.size==len(self.stack)):\n",
        "      print(\"Stack Overflow\")\n",
        "    else:\n",
        "      self.size+=1\n",
        "      self.stack[self.size]=element\n",
        "  def peek(self):\n",
        "    if(self.size<0):\n",
        "      print(\"Stack is empty.\")\n",
        "    else:\n",
        "      return self.stack[self.size]\n",
        "  def pop(self):\n",
        "    if(self.size<0):\n",
        "      print(\"Stack Underflow.\")\n",
        "    else:\n",
        "      result=self.stack[self.size]\n",
        "      self.size-=1\n",
        "      return result\n",
        "s1=Stack()\n",
        "s1.push(2)\n",
        "print(s1.peek())\n",
        "s1.pop()"
      ],
      "metadata": {
        "colab": {
          "base_uri": "https://localhost:8080/"
        },
        "id": "Q7uApJwLH0xn",
        "outputId": "8644c9f2-ace5-4620-ba18-02e3f1766a59"
      },
      "execution_count": null,
      "outputs": [
        {
          "output_type": "stream",
          "name": "stdout",
          "text": [
            "2\n"
          ]
        },
        {
          "output_type": "execute_result",
          "data": {
            "text/plain": [
              "2"
            ]
          },
          "metadata": {},
          "execution_count": 26
        }
      ]
    },
    {
      "cell_type": "markdown",
      "source": [
        " Implement the push, pop and peek functions using a linked list. "
      ],
      "metadata": {
        "id": "D53SA0c6N2Ia"
      }
    },
    {
      "cell_type": "code",
      "source": [
        "class Node:\n",
        "  def __init__(self,value):\n",
        "    self.value=value\n",
        "    self.next=None\n",
        "class Stack:\n",
        "  head=None\n",
        "  def push(self,value):\n",
        "    if(self.head!=None):                            #There will be no overflow as we can change the length of the linked list whenever we want by creating a new node. HEHE!!!\n",
        "      new=Node(value)\n",
        "      new=self.head\n",
        "      self.head=new\n",
        "    else:\n",
        "      self.head=Node(value)\n",
        "  def peek(self):\n",
        "    if(self.head==None):\n",
        "      return f\"Stack is empty.\"\n",
        "    else:\n",
        "      return self.head.value\n",
        "  def pop(self):\n",
        "    if(self.head==None):\n",
        "      return f\"Stack Underflow.\"\n",
        "    else:\n",
        "      result= self.head.value\n",
        "      temp = self.head\n",
        "      self.head=self.head.next\n",
        "      temp.value=None\n",
        "      temp.next=None\n",
        "      return result \n",
        "s2=Stack()\n",
        "print(s2.peek())\n",
        "print(s2.pop())\n",
        "s2.push(8)\n",
        "print(s2.peek())\n",
        "print(s2.pop())\n",
        "print(s2.peek())"
      ],
      "metadata": {
        "colab": {
          "base_uri": "https://localhost:8080/"
        },
        "id": "JqRU2rwrN78l",
        "outputId": "21a347b5-3c76-46b7-ee2b-7de572d36b63"
      },
      "execution_count": null,
      "outputs": [
        {
          "output_type": "stream",
          "name": "stdout",
          "text": [
            "Stack is empty.\n",
            "Stack Underflow.\n",
            "8\n",
            "8\n",
            "Stack is empty.\n"
          ]
        }
      ]
    },
    {
      "cell_type": "markdown",
      "source": [
        " Reverse a string using stack."
      ],
      "metadata": {
        "id": "pF--XMfrYQhi"
      }
    },
    {
      "cell_type": "code",
      "source": [
        "class Stack:\n",
        "  def __init__(self,string):\n",
        "    self.string=string\n",
        "    self.stack=[None]*len(string)\n",
        "    self.pointer=-1\n",
        "    self.size=0\n",
        "  def push(self,element):\n",
        "    if(self.size==len(self.stack)):\n",
        "      print(\"Stack overflow.\")\n",
        "    else:\n",
        "      self.pointer+=1\n",
        "      self.stack[self.pointer]=element\n",
        "      self.size+=1\n",
        "  def peek(self):\n",
        "    if(self.size==0):\n",
        "      print(\"Stack is empty.\")\n",
        "    else:\n",
        "      return self.stack[self.pointer]\n",
        "  def pop(self):\n",
        "    if(self.size<0):\n",
        "      return f\"Stack Underflow.\"    \n",
        "    else:\n",
        "      result=self.stack[self.pointer]\n",
        "      self.pointer-=1\n",
        "      self.size-=1\n",
        "      return result\n",
        "string=input(\"Enter the string: \")\n",
        "s1=Stack(string)\n",
        "for i in string:\n",
        "  s1.push(i)\n",
        "j=0\n",
        "result=\"\"\n",
        "while j<len(s1.stack):\n",
        "  result+=str(s1.pop())\n",
        "  j+=1\n",
        "print(result)"
      ],
      "metadata": {
        "colab": {
          "base_uri": "https://localhost:8080/"
        },
        "id": "91yeQH_yYUwG",
        "outputId": "f37d2604-a606-4f4d-9278-f0dfcd64fa70"
      },
      "execution_count": null,
      "outputs": [
        {
          "output_type": "stream",
          "name": "stdout",
          "text": [
            "Enter the string: 4\n",
            "4\n"
          ]
        }
      ]
    },
    {
      "cell_type": "markdown",
      "source": [
        "# Recursion"
      ],
      "metadata": {
        "id": "kohRZ4Af_Xh5"
      }
    },
    {
      "cell_type": "markdown",
      "source": [
        "Length of a string using recursion"
      ],
      "metadata": {
        "id": "mBq0e6va__Pg"
      }
    },
    {
      "cell_type": "code",
      "source": [
        "def length_recursion(string):\n",
        "  if(string==\"\"):\n",
        "    return 0\n",
        "  else:\n",
        "    return 1+length_recursion(string[1:])\n",
        "length_recursion(\"MALIHA\")"
      ],
      "metadata": {
        "colab": {
          "base_uri": "https://localhost:8080/"
        },
        "id": "9iZC98YkAF8t",
        "outputId": "23d309c9-f475-4085-d8fd-5b71af181db3"
      },
      "execution_count": null,
      "outputs": [
        {
          "output_type": "execute_result",
          "data": {
            "text/plain": [
              "6"
            ]
          },
          "metadata": {},
          "execution_count": 31
        }
      ]
    },
    {
      "cell_type": "markdown",
      "source": [
        "Length of a linked list using recursion"
      ],
      "metadata": {
        "id": "QVx6iFtCCItI"
      }
    },
    {
      "cell_type": "code",
      "source": [
        "class Node:\n",
        "  def __init__(self,value,next):\n",
        "    self.value=value\n",
        "    self.next=None\n",
        "class Linkedlist:\n",
        "  def __init__(self,list1):\n",
        "    self.head=Node(list1[0],None)\n",
        "    h=self.head\n",
        "    for i in range(1,len(list1)):\n",
        "      new=Node(list1[i],None)\n",
        "      h.next=new\n",
        "      h=h.next\n",
        "  def length(self,node):\n",
        "    if(node==None):\n",
        "      return 0\n",
        "    else:\n",
        "      return 1+self.length(node.next)\n",
        "list1=[10,20,30,40]\n",
        "s1=Linkedlist(list1)\n",
        "s1.length(s1.head)"
      ],
      "metadata": {
        "colab": {
          "base_uri": "https://localhost:8080/"
        },
        "id": "BZZxu6YQCMBx",
        "outputId": "978dc845-5c0f-45f3-aff5-3c0b094867a6"
      },
      "execution_count": null,
      "outputs": [
        {
          "output_type": "execute_result",
          "data": {
            "text/plain": [
              "4"
            ]
          },
          "metadata": {},
          "execution_count": 32
        }
      ]
    },
    {
      "cell_type": "code",
      "source": [
        "class Node:\n",
        "  def __init__(self,value):\n",
        "    self.value=value\n",
        "    self.next=None\n",
        "class Linkedlist:\n",
        "  def __init__(self,list1):\n",
        "    self.head=Node(list1[0])\n",
        "    self.head.next=None\n",
        "    head=self.head\n",
        "    for i in range(1,len(list1)):\n",
        "      new=Node(list1[i])\n",
        "      new.next=None\n",
        "      head.next=new\n",
        "      head=head.next\n",
        "  def length(self,node):\n",
        "    if(node==None):\n",
        "      return 0\n",
        "    else:\n",
        "      return 1+self.length(node.next)\n",
        "list1=[90,80,70,60,50,40]\n",
        "a1=Linkedlist(list1)\n",
        "a1.length(a1.head)"
      ],
      "metadata": {
        "colab": {
          "base_uri": "https://localhost:8080/"
        },
        "id": "QyXTXkEUCev0",
        "outputId": "52141aa0-091e-40d3-da84-81ab8d915587"
      },
      "execution_count": null,
      "outputs": [
        {
          "output_type": "execute_result",
          "data": {
            "text/plain": [
              "6"
            ]
          },
          "metadata": {},
          "execution_count": 33
        }
      ]
    },
    {
      "cell_type": "markdown",
      "source": [
        "Sum of natural numbers using recursion"
      ],
      "metadata": {
        "id": "wQUkzJx7EFya"
      }
    },
    {
      "cell_type": "code",
      "source": [
        "def natural_number(n):\n",
        "  if(n==0):\n",
        "    return 0\n",
        "  else:\n",
        "    return n+ natural_number(n-1)\n",
        "n=int(input(\"Enter a number: \"))\n",
        "natural_number(n)"
      ],
      "metadata": {
        "colab": {
          "base_uri": "https://localhost:8080/"
        },
        "id": "tOQ6o2OwEvoy",
        "outputId": "6bc90a2b-7487-4074-b0a8-f32c674e12f0"
      },
      "execution_count": null,
      "outputs": [
        {
          "name": "stdout",
          "output_type": "stream",
          "text": [
            "Enter a number: 56\n"
          ]
        },
        {
          "output_type": "execute_result",
          "data": {
            "text/plain": [
              "1596"
            ]
          },
          "metadata": {},
          "execution_count": 34
        }
      ]
    },
    {
      "cell_type": "markdown",
      "source": [
        "Exponentiation"
      ],
      "metadata": {
        "id": "5pIuLBzjG7up"
      }
    },
    {
      "cell_type": "code",
      "source": [
        "def power(n,a):\n",
        "  if(a==1):\n",
        "    return n\n",
        "  else:\n",
        "    return n * power(n,a-1)\n",
        "n=int(input(\"Enter a number: \"))\n",
        "a= int(input(\"Enter the power of the number: \"))\n",
        "power(n,a)"
      ],
      "metadata": {
        "colab": {
          "base_uri": "https://localhost:8080/"
        },
        "id": "jebIqhEMG7KM",
        "outputId": "716e097b-0d4d-45ee-84fa-0d816db709a8"
      },
      "execution_count": null,
      "outputs": [
        {
          "name": "stdout",
          "output_type": "stream",
          "text": [
            "Enter a number: 4\n",
            "Enter the power of the number: 9\n"
          ]
        },
        {
          "output_type": "execute_result",
          "data": {
            "text/plain": [
              "262144"
            ]
          },
          "metadata": {},
          "execution_count": 35
        }
      ]
    },
    {
      "cell_type": "markdown",
      "source": [
        "Binary to Decimal Using Recursion"
      ],
      "metadata": {
        "id": "zUMObdWcIRpT"
      }
    },
    {
      "cell_type": "code",
      "source": [
        "def BintoDec(string, i , decimal):\n",
        "  if(len(string)==i):\n",
        "    return decimal\n",
        "  else:\n",
        "    if(string[i]==\"0\"):\n",
        "      decimal = decimal*2\n",
        "    else:\n",
        "      decimal = decimal*2 + 1\n",
        "    return BintoDec(string,i+1,decimal)\n",
        "string=input(\"Enter a binary value: \")\n",
        "BintoDec(string,0,0)"
      ],
      "metadata": {
        "colab": {
          "base_uri": "https://localhost:8080/"
        },
        "id": "0BmfE35dSj2W",
        "outputId": "3665eb70-49c9-45f0-fe3e-bfe1df16447f"
      },
      "execution_count": null,
      "outputs": [
        {
          "name": "stdout",
          "output_type": "stream",
          "text": [
            "Enter a binary value: 10\n"
          ]
        },
        {
          "output_type": "execute_result",
          "data": {
            "text/plain": [
              "2"
            ]
          },
          "metadata": {},
          "execution_count": 21
        }
      ]
    },
    {
      "cell_type": "markdown",
      "source": [
        "Sum of Digits using recursion"
      ],
      "metadata": {
        "id": "XTnfSa8BT5hm"
      }
    },
    {
      "cell_type": "code",
      "source": [
        "def sumofdigits(number,i,result):\n",
        "  if(len(number)==i):\n",
        "    return result\n",
        "  else:\n",
        "    result=result+int(number[i])\n",
        "  return sumofdigits(number,i+1,result)\n",
        "number=input(\"Enter a number: \")\n",
        "sumofdigits(number,0,0)"
      ],
      "metadata": {
        "colab": {
          "base_uri": "https://localhost:8080/"
        },
        "id": "rP3YzSf0T9LW",
        "outputId": "0ea48353-f14c-4d40-faa2-27b42e3742c9"
      },
      "execution_count": null,
      "outputs": [
        {
          "name": "stdout",
          "output_type": "stream",
          "text": [
            "Enter a number: 85\n"
          ]
        },
        {
          "output_type": "execute_result",
          "data": {
            "text/plain": [
              "13"
            ]
          },
          "metadata": {},
          "execution_count": 37
        }
      ]
    },
    {
      "cell_type": "markdown",
      "source": [
        "printing the values in reverse order using recursion"
      ],
      "metadata": {
        "id": "UVylS8g0Y0Ie"
      }
    },
    {
      "cell_type": "code",
      "source": [
        "def reverse(number,i,store):\n",
        "  if(i==0):\n",
        "    return int(store)\n",
        "  else:\n",
        "    result=int(number)%10\n",
        "    store+=str(result)\n",
        "  return reverse(int(number)//10,i-1,store)\n",
        "number=input(\"Enter a number: \")\n",
        "store=\"\"\n",
        "reverse(number,len(number),store)"
      ],
      "metadata": {
        "colab": {
          "base_uri": "https://localhost:8080/"
        },
        "id": "2QbNfQ6nY6qc",
        "outputId": "4a9a514c-d186-4d94-e6cb-2db53fbf2806"
      },
      "execution_count": null,
      "outputs": [
        {
          "name": "stdout",
          "output_type": "stream",
          "text": [
            "Enter a number: 5\n"
          ]
        },
        {
          "output_type": "execute_result",
          "data": {
            "text/plain": [
              "5"
            ]
          },
          "metadata": {},
          "execution_count": 38
        }
      ]
    },
    {
      "cell_type": "markdown",
      "source": [
        "factorial using recursion"
      ],
      "metadata": {
        "id": "Q-voaYRFfO09"
      }
    },
    {
      "cell_type": "code",
      "source": [
        "def factorial(n):\n",
        "  if(n==2):\n",
        "    return 2\n",
        "  else:\n",
        "    return n*factorial(n-1)\n",
        "factorial(10)"
      ],
      "metadata": {
        "colab": {
          "base_uri": "https://localhost:8080/"
        },
        "id": "w-zvH48mfRrh",
        "outputId": "a5e01cbb-7cc7-4c7d-bed5-6a0a69658e1e"
      },
      "execution_count": null,
      "outputs": [
        {
          "output_type": "execute_result",
          "data": {
            "text/plain": [
              "3628800"
            ]
          },
          "metadata": {},
          "execution_count": 39
        }
      ]
    },
    {
      "cell_type": "markdown",
      "source": [
        "Bubble sort"
      ],
      "metadata": {
        "id": "83UM76988tzI"
      }
    },
    {
      "cell_type": "code",
      "source": [
        "def bubble_sort(list1):\n",
        "  i=len(list1)-1\n",
        "  while i>=0:\n",
        "    for j in range(i):\n",
        "      if(list1[j]>list1[j+1]):\n",
        "        list1[j+1],list1[j]=list1[j],list1[j+1]\n",
        "    i-=1\n",
        "  return list1\n",
        "list1=[80,50,40,30,20,70]\n",
        "bubble_sort(list1)"
      ],
      "metadata": {
        "colab": {
          "base_uri": "https://localhost:8080/"
        },
        "id": "YQo_2RoS8vkk",
        "outputId": "7d9b5883-f3d4-4153-e7aa-1ee19f93585e"
      },
      "execution_count": null,
      "outputs": [
        {
          "output_type": "execute_result",
          "data": {
            "text/plain": [
              "[20, 30, 40, 50, 70, 80]"
            ]
          },
          "metadata": {},
          "execution_count": 50
        }
      ]
    },
    {
      "cell_type": "markdown",
      "source": [
        "Insertion Sort"
      ],
      "metadata": {
        "id": "9aOnpRdiBTP-"
      }
    },
    {
      "cell_type": "code",
      "source": [
        "def insertion_sort(list1):\n",
        "  for i in range(0,len(list1)):\n",
        "    while list1[i-1] > list1[i] and i>0:\n",
        "      list1[i],list1[i-1]=list1[i-1],list1[i]\n",
        "      i-=1\n",
        "  return list1\n",
        "list1=[80,50,40,30,20,70]\n",
        "insertion_sort(list1)"
      ],
      "metadata": {
        "colab": {
          "base_uri": "https://localhost:8080/"
        },
        "id": "CnzraTbo_ocE",
        "outputId": "de74bcb2-e973-4d67-9ca9-7645ea0cfc68"
      },
      "execution_count": null,
      "outputs": [
        {
          "output_type": "execute_result",
          "data": {
            "text/plain": [
              "[20, 30, 40, 50, 70, 80]"
            ]
          },
          "metadata": {},
          "execution_count": 55
        }
      ]
    },
    {
      "cell_type": "markdown",
      "source": [
        "Selection Sort"
      ],
      "metadata": {
        "id": "4WcZW7LsHggZ"
      }
    },
    {
      "cell_type": "code",
      "source": [
        "def selection_sort(list1):\n",
        "  i=len(list1)-1\n",
        "  while i>=0:\n",
        "    max_idx=i\n",
        "    max=list1[i]\n",
        "    for j in range(0,i):\n",
        "      if(list1[j]>max):\n",
        "        max_idx=j\n",
        "        max=list1[j]\n",
        "    list1[max_idx],list1[i]=list1[i],list1[max_idx]\n",
        "    i-=1\n",
        "  return list1\n",
        "list1=[80,50,40,30,20,70]\n",
        "selection_sort(list1)"
      ],
      "metadata": {
        "colab": {
          "base_uri": "https://localhost:8080/"
        },
        "id": "yaeMQdQsHlDP",
        "outputId": "844b7a5f-9220-435b-fb4b-7aa642e5d810"
      },
      "execution_count": null,
      "outputs": [
        {
          "output_type": "execute_result",
          "data": {
            "text/plain": [
              "[20, 30, 40, 50, 70, 80]"
            ]
          },
          "metadata": {},
          "execution_count": 58
        }
      ]
    },
    {
      "cell_type": "code",
      "source": [
        "def bubble_sort(list1):\n",
        "  i=len(list1)-1\n",
        "  while i>=0:\n",
        "    for j in range(0,i):\n",
        "      if(list1[j]>list1[j+1]):\n",
        "        list1[j+1],list1[j]=list1[j],list1[j+1]\n",
        "    i-=1\n",
        "  return list1\n",
        "bubble_sort([10,50,80,60,30,80])"
      ],
      "metadata": {
        "id": "jLncsp3QXNrq",
        "outputId": "6c05100c-6bc3-4dd0-f60d-4f249e4e65d8",
        "colab": {
          "base_uri": "https://localhost:8080/"
        }
      },
      "execution_count": null,
      "outputs": [
        {
          "output_type": "execute_result",
          "data": {
            "text/plain": [
              "[10, 30, 50, 60, 80, 80]"
            ]
          },
          "metadata": {},
          "execution_count": 60
        }
      ]
    },
    {
      "cell_type": "code",
      "source": [
        "def insertion_sort(list1):\n",
        "  for i in range(1,len(list1)):\n",
        "    while list1[i-1]>list1[i] and i>0:\n",
        "      list1[i-1],list1[i]=list1[i],list1[i-1]\n",
        "      i-=1\n",
        "  return list1\n",
        "insertion_sort([10,50,80,60,30,80])  "
      ],
      "metadata": {
        "id": "5qbH-VJ1YXZW",
        "outputId": "e8defec8-3d09-4a85-e659-a1941e6e9bf8",
        "colab": {
          "base_uri": "https://localhost:8080/"
        }
      },
      "execution_count": null,
      "outputs": [
        {
          "output_type": "execute_result",
          "data": {
            "text/plain": [
              "[10, 30, 50, 60, 80, 80]"
            ]
          },
          "metadata": {},
          "execution_count": 61
        }
      ]
    },
    {
      "cell_type": "code",
      "source": [
        "def selection_sort(list1):\n",
        "  i=len(list1)-1\n",
        "  while(i>=0):\n",
        "    max_idx=i\n",
        "    max=list1[i]\n",
        "    for j in range(0,i):\n",
        "      if(list1[j]>max):\n",
        "        max=list1[j]\n",
        "        max_idx=j\n",
        "    list1[max_idx],list1[i]=list1[i],list1[max_idx]\n",
        "    i-=1\n",
        "  return list1\n",
        "selection_sort([10,50,80,60,30,80]) "
      ],
      "metadata": {
        "id": "TDfqIRMwZTX7",
        "outputId": "cecce393-209d-4745-9ce7-339191922c73",
        "colab": {
          "base_uri": "https://localhost:8080/"
        }
      },
      "execution_count": null,
      "outputs": [
        {
          "output_type": "execute_result",
          "data": {
            "text/plain": [
              "[10, 30, 50, 60, 80, 80]"
            ]
          },
          "metadata": {},
          "execution_count": 62
        }
      ]
    },
    {
      "cell_type": "markdown",
      "source": [
        "Linear search"
      ],
      "metadata": {
        "id": "acTTQLWngohZ"
      }
    },
    {
      "cell_type": "code",
      "source": [
        "def linear_search(list1,number):\n",
        "  for i in range(len(list1)):\n",
        "    if(list1[i]==number):\n",
        "      return i\n",
        "  return -1\n",
        "list1=[10,8,4,7,2]\n",
        "linear_search(list1, 9)"
      ],
      "metadata": {
        "id": "QksQshYKgsdA",
        "outputId": "516b3c58-f09d-4ac0-9325-460912112b85",
        "colab": {
          "base_uri": "https://localhost:8080/"
        }
      },
      "execution_count": null,
      "outputs": [
        {
          "output_type": "execute_result",
          "data": {
            "text/plain": [
              "-1"
            ]
          },
          "metadata": {},
          "execution_count": 66
        }
      ]
    },
    {
      "cell_type": "markdown",
      "source": [
        "factorial"
      ],
      "metadata": {
        "id": "bMNqPdqn_bd7"
      }
    },
    {
      "cell_type": "code",
      "source": [
        "def factorial(n):\n",
        "  if(n==2):\n",
        "    return n\n",
        "  else:\n",
        "    return n * factorial(n-1)\n",
        "n=int(input(\"Enter the number: \"))\n",
        "factorial(n)"
      ],
      "metadata": {
        "id": "yImuyUG2_bB2",
        "outputId": "206e359a-7889-460b-f79b-38c778280cd4",
        "colab": {
          "base_uri": "https://localhost:8080/"
        }
      },
      "execution_count": null,
      "outputs": [
        {
          "name": "stdout",
          "output_type": "stream",
          "text": [
            "Enter the number: 3\n"
          ]
        },
        {
          "output_type": "execute_result",
          "data": {
            "text/plain": [
              "6"
            ]
          },
          "metadata": {},
          "execution_count": 1
        }
      ]
    },
    {
      "cell_type": "markdown",
      "source": [
        "Fibonacci number"
      ],
      "metadata": {
        "id": "q7pf2jGjATxx"
      }
    },
    {
      "cell_type": "code",
      "source": [
        "def fibonacci(n):\n",
        "  if(0<=n<=1):\n",
        "    return n\n",
        "  else:\n",
        "    return fibonacci(n-1) + fibonacci(n-2)\n",
        "n=int(input(\"Enter the number: \"))\n",
        "fibonacci(n)"
      ],
      "metadata": {
        "id": "0iF2q9mFAWWu",
        "outputId": "bcf9754e-e68a-4c4a-fda9-c5681a69986e",
        "colab": {
          "base_uri": "https://localhost:8080/"
        }
      },
      "execution_count": null,
      "outputs": [
        {
          "name": "stdout",
          "output_type": "stream",
          "text": [
            "Enter the number: 8\n"
          ]
        },
        {
          "output_type": "execute_result",
          "data": {
            "text/plain": [
              "21"
            ]
          },
          "metadata": {},
          "execution_count": 4
        }
      ]
    },
    {
      "cell_type": "markdown",
      "source": [
        "Printing all the elements"
      ],
      "metadata": {
        "id": "u92_d11zBTf4"
      }
    },
    {
      "cell_type": "code",
      "source": [
        "def printit(arr,i):\n",
        "  if(i==len(arr)-1):\n",
        "    return arr[i]\n",
        "  else:\n",
        "    print(arr[i],end=\",\")\n",
        "    return printit(arr,i+1)\n",
        "arr=[10,20,30,40,50]\n",
        "printit(arr,0)"
      ],
      "metadata": {
        "id": "-ir2JkYRBaFZ",
        "outputId": "e84c0ded-2040-4882-bd43-2b5c22898896",
        "colab": {
          "base_uri": "https://localhost:8080/"
        }
      },
      "execution_count": null,
      "outputs": [
        {
          "output_type": "stream",
          "name": "stdout",
          "text": [
            "10,20,30,40,"
          ]
        },
        {
          "output_type": "execute_result",
          "data": {
            "text/plain": [
              "50"
            ]
          },
          "metadata": {},
          "execution_count": 5
        }
      ]
    },
    {
      "cell_type": "markdown",
      "source": [
        "Power"
      ],
      "metadata": {
        "id": "bo9-oB5RCNsw"
      }
    },
    {
      "cell_type": "code",
      "source": [
        "def powerN(base,n):\n",
        "  if(n==1):\n",
        "    return base\n",
        "  else:\n",
        "    return base * powerN(base,n-1)\n",
        "base=int(input(\"Enter the base: \"))\n",
        "n=int(input(\"Enter the power: \"))\n",
        "powerN(base,n)"
      ],
      "metadata": {
        "id": "np3Zkgo6CXtm",
        "outputId": "b09c5021-467d-4f96-e170-663b1e5e1d73",
        "colab": {
          "base_uri": "https://localhost:8080/"
        }
      },
      "execution_count": null,
      "outputs": [
        {
          "name": "stdout",
          "output_type": "stream",
          "text": [
            "Enter the base: 3\n",
            "Enter the power: 3\n"
          ]
        },
        {
          "output_type": "execute_result",
          "data": {
            "text/plain": [
              "27"
            ]
          },
          "metadata": {},
          "execution_count": 8
        }
      ]
    },
    {
      "cell_type": "markdown",
      "source": [
        "Decimal to Binary"
      ],
      "metadata": {
        "id": "9QWXSA_lC_7Y"
      }
    },
    {
      "cell_type": "code",
      "source": [
        "def dectobin(decimal):\n",
        "  if(decimal==0):\n",
        "    return 0\n",
        "  else:\n",
        "    return int(str(dectobin(decimal//2)) + str(decimal%2))\n",
        "decimal=int(input(\"Enter a number: \"))\n",
        "dectobin(decimal)"
      ],
      "metadata": {
        "id": "qOwuKLJoktMG",
        "outputId": "344cafc5-3530-423e-b9dd-891a3f73272e",
        "colab": {
          "base_uri": "https://localhost:8080/"
        }
      },
      "execution_count": null,
      "outputs": [
        {
          "name": "stdout",
          "output_type": "stream",
          "text": [
            "Enter a number: 3\n"
          ]
        },
        {
          "output_type": "execute_result",
          "data": {
            "text/plain": [
              "11"
            ]
          },
          "metadata": {},
          "execution_count": 28
        }
      ]
    },
    {
      "cell_type": "markdown",
      "source": [
        "Adding everything in list by linked list"
      ],
      "metadata": {
        "id": "GVKFGR0ZmHLy"
      }
    },
    {
      "cell_type": "code",
      "source": [
        "class Node:\n",
        "  def __init__(self,value):\n",
        "    self.value=value\n",
        "    self.next=next\n",
        "class Linkedlist:\n",
        "  def __init__(self,list1):\n",
        "    self.head=Node(list1[0])\n",
        "    self.next=None\n",
        "    head=self.head\n",
        "    for i in range(1,len(list1)):\n",
        "      new=Node(list1[i])\n",
        "      new.next=None\n",
        "      head.next=new\n",
        "      head=head.next\n",
        "def adder(head):\n",
        "  if(head==None):\n",
        "    return 0\n",
        "  else:\n",
        "    return head.value + adder(head.next)\n",
        "list1=[10,20,30,40,50]\n",
        "l1=Linkedlist(list1)\n",
        "adder(l1.head)"
      ],
      "metadata": {
        "id": "Ed_Xf-69mbn7",
        "outputId": "64c785db-ee81-4b32-c173-5f756c06af07",
        "colab": {
          "base_uri": "https://localhost:8080/"
        }
      },
      "execution_count": null,
      "outputs": [
        {
          "output_type": "execute_result",
          "data": {
            "text/plain": [
              "150"
            ]
          },
          "metadata": {},
          "execution_count": 39
        }
      ]
    },
    {
      "cell_type": "markdown",
      "source": [
        "Reversing everything in list by linked list"
      ],
      "metadata": {
        "id": "lV_OarCrpyUU"
      }
    },
    {
      "cell_type": "code",
      "source": [
        "class Node:\n",
        "  def __init__(self,value):\n",
        "    self.value=value\n",
        "    self.next=None\n",
        "class Linkedlist:\n",
        "  def __init__(self,list1):\n",
        "    self.head=Node(list1[0])\n",
        "    self.next=None\n",
        "    head=self.head\n",
        "    for i in range(1,len(list1)):\n",
        "      new=Node(list1[i])\n",
        "      new.next=None\n",
        "      head.next=new\n",
        "      head=head.next\n",
        "def reverse(head):\n",
        "  if(head==None):\n",
        "    return 0\n",
        "  else:\n",
        "    reverse(head.next)\n",
        "    print(head.value)\n",
        "list1=[10,20,30,40]\n",
        "l1=Linkedlist(list1)\n",
        "reverse(l1.head)"
      ],
      "metadata": {
        "id": "qTq3X-gFp08F",
        "outputId": "4b621b9e-ad66-468d-e4bf-4c60f68b7458",
        "colab": {
          "base_uri": "https://localhost:8080/"
        }
      },
      "execution_count": null,
      "outputs": [
        {
          "output_type": "stream",
          "name": "stdout",
          "text": [
            "40\n",
            "30\n",
            "20\n",
            "10\n"
          ]
        }
      ]
    },
    {
      "cell_type": "markdown",
      "source": [
        "Builder"
      ],
      "metadata": {
        "id": "O_VkYIIaONjB"
      }
    },
    {
      "cell_type": "code",
      "source": [
        "def hocBuilder(height): \n",
        "  if(height==0):\n",
        "    print(\"The house can't be built.\")\n",
        "  elif(height==1):\n",
        "    return 8\n",
        "  else:\n",
        "    return 5 + hocBuilder(height-1)\n",
        "height=int(input(\"Enter the height: \"))\n",
        "hocBuilder(height)"
      ],
      "metadata": {
        "id": "jNu_W2bVOQtE",
        "outputId": "5b0c10c8-369a-49fe-f86b-64c139cc0b84",
        "colab": {
          "base_uri": "https://localhost:8080/"
        }
      },
      "execution_count": null,
      "outputs": [
        {
          "name": "stdout",
          "output_type": "stream",
          "text": [
            "Enter the height: 2\n"
          ]
        },
        {
          "output_type": "execute_result",
          "data": {
            "text/plain": [
              "13"
            ]
          },
          "metadata": {},
          "execution_count": 6
        }
      ]
    },
    {
      "cell_type": "markdown",
      "source": [
        "Pattern"
      ],
      "metadata": {
        "id": "CUZrmIyXO3ql"
      }
    },
    {
      "cell_type": "code",
      "source": [
        "def pattern(start,end):\n",
        "  if(start==end+1):\n",
        "    return\n",
        "  else:\n",
        "    print(start,end=\" \")\n",
        "    pattern(start+1,end)\n",
        "def triangle(first,last):\n",
        "  if(first==last+1):\n",
        "    return \n",
        "  else:\n",
        "    pattern(1,first)\n",
        "    print()\n",
        "    triangle(first+1,last)\n",
        "first=int(input(\"Enter the first value: \"))\n",
        "last=int(input(\"Enter the last value: \"))\n",
        "triangle(first,last)"
      ],
      "metadata": {
        "colab": {
          "base_uri": "https://localhost:8080/"
        },
        "id": "GYhAGbmwYs6L",
        "outputId": "f0a105c3-f2e8-4242-84ee-3318590bf086"
      },
      "execution_count": null,
      "outputs": [
        {
          "output_type": "stream",
          "name": "stdout",
          "text": [
            "Enter the first value: 1\n",
            "Enter the last value: 5\n",
            "1 \n",
            "1 2 \n",
            "1 2 3 \n",
            "1 2 3 4 \n",
            "1 2 3 4 5 \n"
          ]
        }
      ]
    },
    {
      "cell_type": "markdown",
      "source": [
        "Reverse Pattern"
      ],
      "metadata": {
        "id": "ZLT59mgGZscI"
      }
    },
    {
      "cell_type": "code",
      "source": [
        "def pattern1(start,end):\n",
        "  if(start==end+1):\n",
        "    return\n",
        "  else:\n",
        "    print(start,end=\" \")\n",
        "    pattern1(start+1,end)\n",
        "def pattern2(strt,sesh):\n",
        "  if(strt==sesh+1):\n",
        "    return\n",
        "  else:\n",
        "    print(\" \",end=\" \")\n",
        "    pattern2(strt+1,sesh)\n",
        "def triangle(first,last):\n",
        "  if(first==last+1):\n",
        "    return\n",
        "  else:\n",
        "    pattern2(1,last-first)\n",
        "    pattern1(1,first)\n",
        "    print()\n",
        "    triangle(first+1,last)\n",
        "first=int(input(\"Enter the first value: \"))\n",
        "last=int(input(\"Enter the last value: \"))\n",
        "triangle(first,last)"
      ],
      "metadata": {
        "colab": {
          "base_uri": "https://localhost:8080/"
        },
        "id": "F5pTpurGZw0E",
        "outputId": "62f29723-9f6c-4926-ca31-31c079f42689"
      },
      "execution_count": null,
      "outputs": [
        {
          "output_type": "stream",
          "name": "stdout",
          "text": [
            "Enter the first value: 1\n",
            "Enter the last value: 5\n",
            "        1 \n",
            "      1 2 \n",
            "    1 2 3 \n",
            "  1 2 3 4 \n",
            "1 2 3 4 5 \n"
          ]
        }
      ]
    },
    {
      "cell_type": "markdown",
      "source": [
        "Profit Based"
      ],
      "metadata": {
        "id": "bDV3P3wfcc7h"
      }
    },
    {
      "cell_type": "code",
      "source": [
        "class FinalQ: \n",
        " def print(self,array,idx): \n",
        "  if(idx<len(array)): \n",
        "    profit = self.calcProfit(array[idx])  \n",
        "    print(\"Investment: \",array[idx],\"; Profit: \",float(profit))\n",
        "    self.print(array,idx+1)\n",
        " def calcProfit(self,investment): \n",
        "  if(investment==25000):\n",
        "    return 0\n",
        "  elif(investment<=100000):\n",
        "    return 45 + self.calcProfit(investment-1000)\n",
        "  else:\n",
        "    return 800 + self.calcProfit(investment-10000)\n",
        "array=[25000,100000,250000,350000] \n",
        "f = FinalQ() \n",
        "f.print(array,0)"
      ],
      "metadata": {
        "id": "VlSiVEm5ccgj",
        "outputId": "9302a5c7-6816-41b4-b61d-9482f0792d69",
        "colab": {
          "base_uri": "https://localhost:8080/"
        }
      },
      "execution_count": null,
      "outputs": [
        {
          "output_type": "stream",
          "name": "stdout",
          "text": [
            "Investment:  25000 ; Profit:  0.0\n",
            "Investment:  100000 ; Profit:  3375.0\n",
            "Investment:  250000 ; Profit:  15375.0\n",
            "Investment:  350000 ; Profit:  23375.0\n"
          ]
        }
      ]
    },
    {
      "cell_type": "markdown",
      "source": [
        "# QUEUE"
      ],
      "metadata": {
        "id": "UobLag3mXJTz"
      }
    },
    {
      "cell_type": "markdown",
      "source": [
        "Creating an array queue class"
      ],
      "metadata": {
        "id": "BGpI0gNmxHAH"
      }
    },
    {
      "cell_type": "code",
      "source": [
        "class ArrayQueue:\n",
        "  def __init__(self,length):\n",
        "    self.length=length\n",
        "    self.array=[0]*self.length\n",
        "    self.pointer=1\n",
        "    self.size=0\n",
        "    self.start=2\n",
        "  def enqueue(self,element):\n",
        "    if(self.size<=self.length):\n",
        "      self.pointer+=1\n",
        "      self.array[self.pointer]=element\n",
        "      self.size+=1\n",
        "    else:\n",
        "      return f\"The array is not empty.\"\n",
        "  def peek(self):\n",
        "    if(self.size==0):\n",
        "      return f\"The array is empty.\"\n",
        "    else:\n",
        "      return self.array[self.start]\n",
        "  def dequeue(self):\n",
        "    if(self.size==0):\n",
        "      return f\"No element in the array.\"\n",
        "    else:\n",
        "      result=self.array[self.start]\n",
        "      self.start=(self.start+1)%self.length\n",
        "      self.size-=1\n",
        "      return result\n",
        "length=int(input(\"Enter the length of the array: \"))\n",
        "a1=ArrayQueue(length)\n",
        "print(\"Top: \",a1.peek())\n",
        "a1.enqueue(6)\n",
        "a1.enqueue(10)\n",
        "print(\"Removed:\", a1.dequeue())\n",
        "print(\"Top: \",a1.peek())\n",
        "a1.enqueue(80)\n",
        "print(\"Top: \",a1.peek())\n",
        "print(\"Removed:\", a1.dequeue())\n",
        "print(\"Removed:\", a1.dequeue())\n",
        "print(\"Top: \",a1.peek())\n",
        "print(\"Removed:\", a1.dequeue())"
      ],
      "metadata": {
        "id": "A7BYpF4zxH0t",
        "colab": {
          "base_uri": "https://localhost:8080/"
        },
        "outputId": "fa75f1b1-69d4-4257-e79b-434e53d53b9b"
      },
      "execution_count": null,
      "outputs": [
        {
          "output_type": "stream",
          "name": "stdout",
          "text": [
            "Enter the length of the array: 6\n",
            "Top:  The array is empty.\n",
            "Removed: 6\n",
            "Top:  10\n",
            "Top:  10\n",
            "Removed: 10\n",
            "Removed: 80\n",
            "Top:  The array is empty.\n",
            "Removed: No element in the array.\n"
          ]
        }
      ]
    },
    {
      "cell_type": "markdown",
      "source": [
        "Creating an list queue class"
      ],
      "metadata": {
        "id": "1n_I1P4RwYC5"
      }
    },
    {
      "cell_type": "code",
      "source": [
        "class Node:\n",
        "  def __init__(self,value):\n",
        "    self.value=value\n",
        "    self.next=next\n",
        "class ListQueue:\n",
        "  head=None\n",
        "  tail=None\n",
        "  def enqueue(self,element):\n",
        "    new=Node(element)\n",
        "    if(self.head==None):\n",
        "      self.head=new\n",
        "      self.tail=new\n",
        "    else:\n",
        "      self.tail.next=new\n",
        "      self.tail=new\n",
        "  def dequeue(self):\n",
        "    temp=self.head\n",
        "    self.head=self.head.next\n",
        "    print(\"Removed: \",temp.value)\n",
        "    temp.next=None\n",
        "    temp.value=None\n",
        "  def peek(self):\n",
        "    return self.head.value\n",
        "l1=ListQueue()\n",
        "l1.enqueue(20)\n",
        "l1.enqueue(0)\n",
        "l1.enqueue(80)\n",
        "l1.enqueue(9)\n",
        "l1.enqueue(100)\n",
        "print(l1.peek())\n",
        "l1.dequeue()\n",
        "l1.dequeue()\n",
        "l1.dequeue()\n",
        "print(l1.peek())\n",
        "l1.dequeue()\n",
        "print(l1.peek())\n",
        "l1.dequeue()"
      ],
      "metadata": {
        "colab": {
          "base_uri": "https://localhost:8080/"
        },
        "id": "G5EtqnVvwKuR",
        "outputId": "a20ed80d-ba79-4af0-c020-60dca9a42640"
      },
      "execution_count": null,
      "outputs": [
        {
          "output_type": "stream",
          "name": "stdout",
          "text": [
            "20\n",
            "Removed:  20\n",
            "Removed:  0\n",
            "Removed:  80\n",
            "9\n",
            "Removed:  9\n",
            "100\n",
            "Removed:  100\n"
          ]
        }
      ]
    },
    {
      "cell_type": "markdown",
      "source": [
        "![Screenshot (71).png](data:image/png;base64,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)"
      ],
      "metadata": {
        "id": "e1Ub_GtsIeIg"
      }
    },
    {
      "cell_type": "code",
      "source": [
        "class ArrayQueue:\n",
        "  def __init__(self,length=8):\n",
        "    self.length=length\n",
        "    self.queue=[None]*self.length\n",
        "    self.pointer=1\n",
        "    self.start=2\n",
        "    self.size=0\n",
        "  def enqueue(self,element):\n",
        "    if(self.size<=self.length):\n",
        "      self.pointer=(self.pointer+1)%self.length\n",
        "      self.queue[self.pointer]=element\n",
        "      self.size+=1\n",
        "    else:\n",
        "      return f\"The queue is full.\"\n",
        "  def peek(self):\n",
        "    if(self.size==0):\n",
        "      return f\"The queue is empty.\"\n",
        "    else:\n",
        "      return self.queue[self.start]\n",
        "  def dequeue(self):\n",
        "    if(self.size==0):\n",
        "      return f\"No element found.\"\n",
        "    else:\n",
        "      result=self.queue[self.start]\n",
        "      self.start=(self.start+1)%self.length\n",
        "      self.size-=1\n",
        "      return result\n",
        "a1=ArrayQueue()\n",
        "string=\"A9::esX_:__:DWu_:eK:__:L__:\"\n",
        "for i in range(len(string)):\n",
        "  if(string[i]==\"_\"):\n",
        "    print(a1.dequeue())\n",
        "  elif(string[i]==\":\"):\n",
        "    print(a1.peek())\n",
        "  else:\n",
        "    a1.enqueue(string[i])"
      ],
      "metadata": {
        "colab": {
          "base_uri": "https://localhost:8080/"
        },
        "id": "i5bh9FKbIKTm",
        "outputId": "3451e62d-506a-4052-ee2e-8647b47db3ef"
      },
      "execution_count": null,
      "outputs": [
        {
          "output_type": "stream",
          "name": "stdout",
          "text": [
            "A\n",
            "A\n",
            "A\n",
            "9\n",
            "9\n",
            "e\n",
            "s\n",
            "s\n",
            "X\n",
            "X\n",
            "X\n",
            "D\n",
            "W\n",
            "W\n",
            "u\n",
            "e\n"
          ]
        }
      ]
    },
    {
      "cell_type": "markdown",
      "source": [
        "Queue using Linked List"
      ],
      "metadata": {
        "id": "wzSf1sRQU9nl"
      }
    },
    {
      "cell_type": "code",
      "source": [
        "class Node:\n",
        "  def __init__(self,value):\n",
        "    self.value=value\n",
        "    self.next=None\n",
        "class ListQueue:\n",
        "  def __init__(self):\n",
        "    self.head=None\n",
        "    self.tail=None\n",
        "  def enqueue(self,element):\n",
        "    new=Node(element)\n",
        "    new.next=None\n",
        "    if(self.head==None):\n",
        "      self.head=new\n",
        "      self.tail=new\n",
        "    else:\n",
        "      self.tail.next=new\n",
        "      self.tail=new\n",
        "  def peek(self):\n",
        "    return self.head.value\n",
        "  def dequeue(self):\n",
        "    temp=self.head\n",
        "    self.head=self.head.next\n",
        "    temp.next=None\n",
        "    return temp.value\n",
        "q=ListQueue()\n",
        "string=\"A9::esX_:__:DWu_:eK:__:L__:\"\n",
        "for i in range(len(string)):\n",
        "  if(string[i]==\"_\"):\n",
        "    print(q.dequeue())\n",
        "  elif(string[i]==\":\"):\n",
        "    print(q.peek())\n",
        "  else:\n",
        "    q.enqueue(string[i])"
      ],
      "metadata": {
        "colab": {
          "base_uri": "https://localhost:8080/"
        },
        "id": "lPyhyckzVCdK",
        "outputId": "0749fc90-9a2c-45d1-845a-372a26585c48"
      },
      "execution_count": null,
      "outputs": [
        {
          "output_type": "stream",
          "name": "stdout",
          "text": [
            "A\n",
            "A\n",
            "A\n",
            "9\n",
            "9\n",
            "e\n",
            "s\n",
            "s\n",
            "X\n",
            "X\n",
            "X\n",
            "D\n",
            "W\n",
            "W\n",
            "u\n",
            "e\n"
          ]
        }
      ]
    },
    {
      "cell_type": "markdown",
      "source": [
        "# **CSE221 LAB 01**"
      ],
      "metadata": {
        "id": "cT4Tbyw73JeP"
      }
    },
    {
      "cell_type": "markdown",
      "source": [
        "TASK:01 (a)"
      ],
      "metadata": {
        "id": "9ZGxmsr03Nmg"
      }
    },
    {
      "cell_type": "code",
      "source": [
        "test_file = open(\"/content/input.txt\" , mode =\"r\")\n",
        "result_file = open (\"/content/output.txt\" , mode = \"w\")\n",
        "line1 = int(test_file.readline())\n",
        "for i in range(line1):\n",
        "  n = int(test_file.readline())\n",
        "  if(n%2==0):\n",
        "    print(n,\"is an Even number.\",file = result_file)\n",
        "  else:\n",
        "    print(n,\"is an Odd number.\",file = result_file)\n",
        "test_file.close()\n",
        "result_file.close()"
      ],
      "metadata": {
        "id": "X-V0ONR13Sxn"
      },
      "execution_count": null,
      "outputs": []
    },
    {
      "cell_type": "markdown",
      "source": [
        "TASK:01 (b)"
      ],
      "metadata": {
        "id": "C7b9oc-R8H63"
      }
    },
    {
      "cell_type": "code",
      "source": [
        "test_file = open (\"/content/input.txt\" , mode = \"r\")\n",
        "result_file = open (\"/content/output.txt\" , mode = \"w\")\n",
        "line1 = int(test_file.readline())\n",
        "for i in range(line1):\n",
        "  first = test_file.readline().strip()\n",
        "  second = first.split(\" \")  \n",
        "  if (second[2] == \"+\"):\n",
        "    summation = int(second[1]) + int(second[3])\n",
        "    print(\"The result of\", str(second[1])+\" \"+str(second[2])+\" \"+str(second[3]),\"is\",summation, file = result_file)\n",
        "  elif (second[2] == \"-\"):\n",
        "    substraction = int(second[1]) - int(second[3])\n",
        "    print(\"The result of\", str(second[1])+\" \"+str(second[2])+\" \"+str(second[3]),\"is\",substraction, file = result_file)\n",
        "  elif (second[2] == \"/\"):\n",
        "    division = int(second[1]) / int(second[3])\n",
        "    print(\"The result of\", str(second[1])+\" \"+str(second[2])+\" \"+str(second[3]),\"is\",division, file = result_file)\n",
        "  else:\n",
        "    multiplication = int(second[1]) * int(second[3])\n",
        "    print(\"The result of\", str(second[1])+\" \"+str(second[2])+\" \"+str(second[3]),\"is\",multiplication, file = result_file)\n",
        "test_file.close()\n",
        "result_file.close()"
      ],
      "metadata": {
        "id": "70VLj2VOEhh_"
      },
      "execution_count": null,
      "outputs": []
    },
    {
      "cell_type": "markdown",
      "source": [
        "TASK:02"
      ],
      "metadata": {
        "id": "-QNaMTghhC5Y"
      }
    },
    {
      "cell_type": "code",
      "source": [
        "def fibonacci_1(n):\n",
        "  if n < 0:\n",
        "    print(\"Invalid input!\")\n",
        "  elif n <= 1:\n",
        "    return n\n",
        "  else:\n",
        "    return fibonacci_1(n-1)+fibonacci_1(n-2)\n",
        "n = int(input(\"Enter a number: \"))\n",
        "nth_fib = fibonacci_1(n)\n",
        "print(\"The {} th fibonacci number is {}.\".format(n, nth_fib))\n",
        "\n",
        "def fibonacci_2(n):\n",
        "  if n<0:\n",
        "    return \"Invalid Input\"\n",
        "  if n<=1:\n",
        "    return n\n",
        "  fib = [0] * (n+1)\n",
        "  fib[0] = 0\n",
        "  fib[1] = 1\n",
        "  for i in range(2,n+1):\n",
        "    fib[i] = fib[i-1] + fib[i-2]\n",
        "  return fib[n]\n",
        "n = int(input(\"Enter a number: \"))\n",
        "nth_fib = fibonacci_2(n)\n",
        "print(\"The {} th fibonacci number is {}.\".format(n, nth_fib))\n",
        "\n",
        "import time\n",
        "import math\n",
        "import matplotlib.pyplot as plt\n",
        "import numpy as np\n",
        "#change the value of n for your own experimentation\n",
        "n = 30\n",
        "x = [i for i in range(n)]\n",
        "y = [0 for i in range(n)]\n",
        "z = [0 for i in range(n)]\n",
        "for i in range(n-1):\n",
        "  start = time.time()\n",
        "  fibonacci_1(x[i+1])\n",
        "  y[i+1]= time.time()-start\n",
        "  start = time.time()\n",
        "  fibonacci_2(x[i+1])\n",
        "  z[i+1]= time.time()-start\n",
        "x_interval = math.ceil(n/10)\n",
        "plt.plot(x, y, \"r\")\n",
        "plt.plot(x, z, \"b\")\n",
        "plt.xticks(np.arange(min(x), max(x)+1, x_interval))\n",
        "plt.xlabel(\"n-th position\")\n",
        "plt.ylabel(\"time\")\n",
        "plt.title(\"Comparing Time Complexity\")\n",
        "plt.show()"
      ],
      "metadata": {
        "id": "1rcY3Fe9hGqE",
        "outputId": "46c2b6f9-86b8-44b5-f5db-6e868db22bf7",
        "colab": {
          "base_uri": "https://localhost:8080/",
          "height": 364
        }
      },
      "execution_count": null,
      "outputs": [
        {
          "output_type": "stream",
          "name": "stdout",
          "text": [
            "Enter a number: 30\n",
            "The 30 th fibonacci number is 832040.\n",
            "Enter a number: 30\n",
            "The 30 th fibonacci number is 832040.\n"
          ]
        },
        {
          "output_type": "display_data",
          "data": {
            "text/plain": [
              "<Figure size 432x288 with 1 Axes>"
            ],
            "image/png": "[encoded data removed]"
          },
          "metadata": {
            "needs_background": "light"
          }
        }
      ]
    },
    {
      "cell_type": "markdown",
      "source": [
        "TASK:03"
      ],
      "metadata": {
        "id": "My15a7J1t2OC"
      }
    },
    {
      "cell_type": "code",
      "source": [
        "def bubbleSort(arr):\n",
        "  flag = False\n",
        "  for i in range(len(arr)-1):\n",
        "    for j in range(len(arr)-i-1):\n",
        "      if(arr[j] > arr[j+1]):\n",
        "        arr[j],arr[j+1] = arr[j+1],arr[j]\n",
        "        flag = True\n",
        "    if(flag == False):\n",
        "      return arr\n",
        "test_file = open (\"/content/input.txt\" , mode = \"r\")\n",
        "result_file = open (\"/content/output.txt\" , mode = \"w\")\n",
        "line1 = int(test_file.readline())\n",
        "line2 = list(map(int,test_file.readline().split(\" \")))\n",
        "list1 = bubbleSort(line2)\n",
        "for i in list1:\n",
        "  result_file.write(str(i) + \" \")\n",
        "test_file.close()\n",
        "result_file.close()"
      ],
      "metadata": {
        "id": "bEX1mQB1t3jt"
      },
      "execution_count": null,
      "outputs": []
    },
    {
      "cell_type": "markdown",
      "source": [
        "TASK:04"
      ],
      "metadata": {
        "id": "7xnPyfH1vgJo"
      }
    },
    {
      "cell_type": "code",
      "source": [
        "# However, you have to keep in mind that your sorting algorithms perform the minimum number of swapping operations.\n",
        "# Bacause of this line, we are going to use Selection sort. However, .sort() could've been used but in case of smaller inputs, .sort() performs more swaps than Selection sort. However, when it comes to larger input, .sort() works better. \n",
        "# Worst case scenario for Selection Sort : O(n^2)\n",
        "# Worst case scenario for .sort() : O(nlogn)      <-----  for worst case scenario this is better.\n",
        "test_file = open(\"/content/input.txt\" , mode =\"r\")\n",
        "result_file = open (\"/content/output.txt\" , mode =\"w\")\n",
        "first_line = int(test_file.readline())\n",
        "id = list(map(int, test_file.readline().split(\" \")))\n",
        "marks = list(map(int, test_file.readline().split(\" \")))\n",
        "def selectionSort(id,marks):\n",
        "  for i in range(len(marks)):\n",
        "    max_index = i\n",
        "    max_marks = marks[i]\n",
        "    max_id = id[i]\n",
        "    for j in range(i+1, len(marks)):\n",
        "      if(marks[j] > marks[i]):\n",
        "        max_index = j\n",
        "        max_marks = marks[j]\n",
        "        max_id = id[j]\n",
        "      elif(marks[j] == marks[i]):\n",
        "        if(id[j] < id[i]):\n",
        "          max_index = j\n",
        "          max_marks = marks[j]\n",
        "          max_id = id[j]\n",
        "    marks[max_index] , marks[i] = marks[i] , marks[max_index]\n",
        "    id[i] , id[max_index] = id[max_index] , id[i]\n",
        "    return max_id , max_marks\n",
        "order = selectionSort(id , marks)\n",
        "for i in range(first_line):\n",
        "  print(\"ID:\" , id[i] , \"MARK:\" , marks[i] , file = result_file)\n",
        "test_file.close()\n",
        "result_file.close()\n",
        "\n",
        "# id er jinish ta thik bhabe ashtese nah. thik korte hobe"
      ],
      "metadata": {
        "id": "SYvMX2btvitx"
      },
      "execution_count": 17,
      "outputs": []
    }
  ]
}