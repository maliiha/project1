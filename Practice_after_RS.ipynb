{
  "nbformat": 4,
  "nbformat_minor": 0,
  "metadata": {
    "colab": {
      "provenance": [],
      "authorship_tag": "ABX9TyPaI0WaH3RlovVVZxHubUvs",
      "include_colab_link": true
    },
    "kernelspec": {
      "name": "python3",
      "display_name": "Python 3"
    },
    "language_info": {
      "name": "python"
    }
  },
  "cells": [
    {
      "cell_type": "markdown",
      "metadata": {
        "id": "view-in-github",
        "colab_type": "text"
      },
      "source": [
        "<a href=\"https://colab.research.google.com/github/maliiha/project1/blob/main/Practice_after_RS.ipynb\" target=\"_parent\"><img src=\"https://colab.research.google.com/assets/colab-badge.svg\" alt=\"Open In Colab\"/></a>"
      ]
    },
    {
      "cell_type": "code",
      "execution_count": null,
      "metadata": {
        "id": "wTk1c3Rpud6K",
        "outputId": "bda3042f-984e-40cd-a2aa-319fb9f14adc",
        "colab": {
          "base_uri": "https://localhost:8080/"
        }
      },
      "outputs": [
        {
          "output_type": "stream",
          "name": "stdout",
          "text": [
            "Enter a number between 1 to 100: 80\n",
            "Not Weird\n"
          ]
        }
      ],
      "source": [
        "n=int(input(\"Enter a number between 1 to 100: \"))\n",
        "if(n%2!=0):\n",
        "  print(\"Weird\")\n",
        "elif(2<=n<=5):\n",
        "  print(\"Not Weird\")\n",
        "elif(6<=n<=20):\n",
        "  print(\"Weird\")\n",
        "else:\n",
        "  print(\"Not Weird\")"
      ]
    },
    {
      "cell_type": "code",
      "source": [
        "a=[10,20,30,40,50,60]\n",
        "i=0\n",
        "while i<len(a):\n",
        "  print(a[i])\n",
        "  i+=1"
      ],
      "metadata": {
        "id": "BK7bNy_5M-No",
        "outputId": "b893e152-b40e-440b-a379-924e5844c874",
        "colab": {
          "base_uri": "https://localhost:8080/"
        }
      },
      "execution_count": null,
      "outputs": [
        {
          "output_type": "stream",
          "name": "stdout",
          "text": [
            "10\n",
            "20\n",
            "30\n",
            "40\n",
            "50\n",
            "60\n"
          ]
        }
      ]
    },
    {
      "cell_type": "markdown",
      "source": [
        "ajaira"
      ],
      "metadata": {
        "id": "RxYUjaJ1ypK4"
      }
    },
    {
      "cell_type": "code",
      "source": [
        "x=int(input(\"How many dollars do you have? \"))\n",
        "result=0\n",
        "roll1=0\n",
        "roll2=0\n",
        "amount=x\n",
        "while x>0:\n",
        "  import random\n",
        "  dice1=random.randint(1,6)\n",
        "  dice2=random.randint(1,6)\n",
        "  roll1+=1\n",
        "  result=dice1+dice2\n",
        "  if(result==7):\n",
        "    x+=4   \n",
        "  else:\n",
        "    x-=1\n",
        "  if(x>amount):\n",
        "    amount=x\n",
        "    roll2=roll1\n",
        "print(\"You are broke after\",{roll1},\"rolls.\")\n",
        "print(\"You should have quit after\",{roll2},\"when you had\",{amount})"
      ],
      "metadata": {
        "colab": {
          "base_uri": "https://localhost:8080/"
        },
        "id": "I6iyxjESymB_",
        "outputId": "3da6af09-d6cd-4622-c1da-dc3589577ff3"
      },
      "execution_count": null,
      "outputs": [
        {
          "output_type": "stream",
          "name": "stdout",
          "text": [
            "How many dollars do you have? 90\n",
            "You are broke after {250} rolls.\n",
            "You should have quit after {0} when you had {90}\n"
          ]
        }
      ]
    },
    {
      "cell_type": "markdown",
      "source": [
        "reversing an array (out of place)"
      ],
      "metadata": {
        "id": "RNvOctw66koS"
      }
    },
    {
      "cell_type": "code",
      "source": [
        "def reverse(source):\n",
        "  arr=[0]*len(source)\n",
        "  i=0\n",
        "  j=len(source)-1\n",
        "  while 0<=j<len(source):\n",
        "    arr[j]=source[i]\n",
        "    j-=1\n",
        "    i+=1\n",
        "  print(arr)\n",
        "source=[10,20,30,40,50]\n",
        "reverse(source)"
      ],
      "metadata": {
        "colab": {
          "base_uri": "https://localhost:8080/"
        },
        "id": "v7NARgFH6kCd",
        "outputId": "d03d69dd-53ca-49bb-9a97-232171068f9e"
      },
      "execution_count": null,
      "outputs": [
        {
          "output_type": "stream",
          "name": "stdout",
          "text": [
            "[50, 40, 30, 20, 10]\n"
          ]
        }
      ]
    },
    {
      "cell_type": "markdown",
      "source": [
        "reversing an array (in place)"
      ],
      "metadata": {
        "id": "r02pRtCa-M39"
      }
    },
    {
      "cell_type": "code",
      "source": [
        "def reverse(source):\n",
        "  i=0\n",
        "  j=len(source)-1\n",
        "  while i<j:\n",
        "    source[i],source[j]=source[j],source[i]\n",
        "    i+=1\n",
        "    j-=1\n",
        "  print(source)\n",
        "source=[10,20,30,40,50]\n",
        "reverse(source)"
      ],
      "metadata": {
        "colab": {
          "base_uri": "https://localhost:8080/"
        },
        "id": "Tq_NaEkM-O5q",
        "outputId": "2267a8a0-f9f3-4552-91c1-214d1c078ff6"
      },
      "execution_count": null,
      "outputs": [
        {
          "output_type": "stream",
          "name": "stdout",
          "text": [
            "[50, 40, 30, 20, 10]\n"
          ]
        }
      ]
    },
    {
      "cell_type": "markdown",
      "source": [
        "right shift by one place"
      ],
      "metadata": {
        "id": "MQnVQ7xHW9Cu"
      }
    },
    {
      "cell_type": "code",
      "source": [
        "def right_shift(source):\n",
        "  i=len(source)-2\n",
        "  while i>=0:\n",
        "    source[i+1]=source[i]\n",
        "    i-=1\n",
        "  source[0]=0\n",
        "  print(source)\n",
        "source=[1,2,3,4]\n",
        "right_shift(source)"
      ],
      "metadata": {
        "colab": {
          "base_uri": "https://localhost:8080/"
        },
        "id": "iR560tJPW8dC",
        "outputId": "3c0198d1-7ee6-41b2-8841-0868d76aa72d"
      },
      "execution_count": null,
      "outputs": [
        {
          "output_type": "stream",
          "name": "stdout",
          "text": [
            "[0, 1, 2, 3]\n"
          ]
        }
      ]
    },
    {
      "cell_type": "markdown",
      "source": [
        "right rotate by one place"
      ],
      "metadata": {
        "id": "GPUJjb-udJ1R"
      }
    },
    {
      "cell_type": "code",
      "source": [
        "def right_rotate(source):\n",
        "  temp=source[len(source)-1]\n",
        "  i=len(source)-2\n",
        "  while i>=0:\n",
        "    source[i+1]=source[i]\n",
        "    i-=1\n",
        "  source[0]=temp\n",
        "  print(source)\n",
        "source=[1,2,3,4]\n",
        "right_rotate(source)"
      ],
      "metadata": {
        "colab": {
          "base_uri": "https://localhost:8080/"
        },
        "id": "HiW74s2CdP-8",
        "outputId": "804cc1bb-2c74-4619-a7dd-3e67cb080647"
      },
      "execution_count": null,
      "outputs": [
        {
          "output_type": "stream",
          "name": "stdout",
          "text": [
            "[4, 1, 2, 3]\n"
          ]
        }
      ]
    },
    {
      "cell_type": "markdown",
      "source": [
        "right rotate by k place"
      ],
      "metadata": {
        "id": "hvW0sLjSgRe0"
      }
    },
    {
      "cell_type": "code",
      "source": [
        "def right_shift(source,k):\n",
        "  for i in range(0,k):\n",
        "    temp=source[len(source)-1]\n",
        "    i=len(source)-2\n",
        "    while i>=0:\n",
        "      source[i+1]=source[i]\n",
        "      i-=1\n",
        "    source[0]=temp\n",
        "  print(source)\n",
        "source=[1,2,3,4]\n",
        "right_shift(source,2)"
      ],
      "metadata": {
        "colab": {
          "base_uri": "https://localhost:8080/"
        },
        "id": "YDEuHxoRgP6n",
        "outputId": "2c42e44b-38ef-4898-d92a-e49d235b04ad"
      },
      "execution_count": null,
      "outputs": [
        {
          "output_type": "stream",
          "name": "stdout",
          "text": [
            "[3, 4, 1, 2]\n"
          ]
        }
      ]
    },
    {
      "cell_type": "markdown",
      "source": [
        "Insertion"
      ],
      "metadata": {
        "id": "j06jfDcskAPW"
      }
    },
    {
      "cell_type": "code",
      "source": [
        "def insertion(source,value,index,size):\n",
        "  if(len(source)==size):\n",
        "    print(\"There's no empty space.\")\n",
        "  elif(index<0 or index>size):\n",
        "    print(\"Index is not valid.\")\n",
        "  else:\n",
        "    i=size\n",
        "    while i>=index:\n",
        "      source[i+1]=source[i]\n",
        "      i-=1\n",
        "    source[index]=value\n",
        "    print(source)\n",
        "source=[10,20,30,40,50]\n",
        "insertion(source,200,5,5)"
      ],
      "metadata": {
        "colab": {
          "base_uri": "https://localhost:8080/"
        },
        "id": "I390o_PBkCuN",
        "outputId": "10071878-10dd-4105-bae5-d2d3c115d0b0"
      },
      "execution_count": null,
      "outputs": [
        {
          "output_type": "stream",
          "name": "stdout",
          "text": [
            "There's no empty space.\n"
          ]
        }
      ]
    },
    {
      "cell_type": "markdown",
      "source": [
        "Deletation"
      ],
      "metadata": {
        "id": "akliU9vL0yIw"
      }
    },
    {
      "cell_type": "code",
      "source": [
        "def deletation(source,index):\n",
        "  count=0\n",
        "  for i in range(len(source)):\n",
        "    if(source[i]!=0):\n",
        "      count+=1\n",
        "  if(count==0):\n",
        "    print(\"No element for deletation.\")\n",
        "  else:\n",
        "    i=index\n",
        "    while i<len(source)-1:\n",
        "      source[i]=source[i+1]\n",
        "      i+=1\n",
        "    print(source)\n",
        "source=[10,20,30,40,50,0,0,0]\n",
        "deletation(source,3)"
      ],
      "metadata": {
        "colab": {
          "base_uri": "https://localhost:8080/"
        },
        "id": "U7pV8yc8015b",
        "outputId": "ec02635a-fc9e-4a7d-9d1c-75e50993b137"
      },
      "execution_count": null,
      "outputs": [
        {
          "output_type": "stream",
          "name": "stdout",
          "text": [
            "[10, 20, 30, 50, 0, 0, 0, 0]\n"
          ]
        }
      ]
    },
    {
      "cell_type": "markdown",
      "source": [
        "Remove all occurrences of a particular element from an array"
      ],
      "metadata": {
        "id": "1vmWoW75gYFV"
      }
    },
    {
      "cell_type": "code",
      "source": [
        "def removeAll( source, size, element):\n",
        "  i=size\n",
        "  while i>=0:\n",
        "    if(source[i]==element):\n",
        "      while i<=size:\n",
        "        source[i]=source[i+1]\n",
        "        i+=1\n",
        "    i-=1\n",
        "  print(source)\n",
        "source=[10,2,30,2,50,2,2,0,0]\n",
        "removeAll(source,7,2)"
      ],
      "metadata": {
        "colab": {
          "base_uri": "https://localhost:8080/"
        },
        "id": "NmEml1sggbMF",
        "outputId": "a61e6da0-3396-43aa-c905-b69c8ce3c778"
      },
      "execution_count": null,
      "outputs": [
        {
          "output_type": "stream",
          "name": "stdout",
          "text": [
            "[10, 30, 50, 0, 0, 0, 0, 0, 0]\n"
          ]
        }
      ]
    },
    {
      "cell_type": "markdown",
      "source": [
        "Splitting an Array"
      ],
      "metadata": {
        "id": "5jSweIEhnwRF"
      }
    },
    {
      "cell_type": "code",
      "source": [
        "def splitting(source):\n",
        "  count1=0\n",
        "  for i in range(0,len(source)-1):\n",
        "    count1+=source[i]\n",
        "    count2=0\n",
        "    for j in range(i+1,len(source)):\n",
        "      count2+=source[j]\n",
        "    if(count1==count2):\n",
        "      result=\"true\"\n",
        "      break\n",
        "    else:\n",
        "      result=\"false\"\n",
        "  print(result)\n",
        "source=[1,1,2,4,1,2,1,1,3]\n",
        "splitting(source)"
      ],
      "metadata": {
        "colab": {
          "base_uri": "https://localhost:8080/"
        },
        "id": "3gKXkCXUboGj",
        "outputId": "5494dbfa-67ba-4ae7-9de4-c46b98a84c6e"
      },
      "execution_count": null,
      "outputs": [
        {
          "output_type": "stream",
          "name": "stdout",
          "text": [
            "true\n"
          ]
        }
      ]
    },
    {
      "cell_type": "markdown",
      "source": [
        "Array series"
      ],
      "metadata": {
        "id": "5jMiw3Hjq-E6"
      }
    },
    {
      "cell_type": "code",
      "source": [
        "def series(n):\n",
        "  arr=[0]*n*n\n",
        "  i=0\n",
        "  while i<n:\n",
        "    index=n*(n-i)\n",
        "    for j in range(1,n-i+1):\n",
        "      arr[index-1]=j\n",
        "      index-=1\n",
        "    i+=1\n",
        "  print(arr)\n",
        "n=int(input(\"Enter an integer Value: \"))\n",
        "series(n)"
      ],
      "metadata": {
        "colab": {
          "base_uri": "https://localhost:8080/"
        },
        "id": "VaQ4PX7V0I6r",
        "outputId": "52997d7b-3041-4308-e31b-132f2956332b"
      },
      "execution_count": null,
      "outputs": [
        {
          "output_type": "stream",
          "name": "stdout",
          "text": [
            "Enter an integer Value: 5\n",
            "[0, 0, 0, 0, 1, 0, 0, 0, 2, 1, 0, 0, 3, 2, 1, 0, 4, 3, 2, 1, 5, 4, 3, 2, 1]\n"
          ]
        }
      ]
    },
    {
      "cell_type": "markdown",
      "source": [
        "Max Bunch Count"
      ],
      "metadata": {
        "id": "5AXO3GQu3MiR"
      }
    },
    {
      "cell_type": "code",
      "source": [
        "def bunch(source):\n",
        "  count1=1\n",
        "  maximum=0\n",
        "  for i in range(0,len(source)-1):\n",
        "    if(source[i]==source[i+1]):\n",
        "      count1+=1\n",
        "      if(maximum>count1):\n",
        "        maximum=maximum\n",
        "      else:\n",
        "        maximum=count1\n",
        "    else:\n",
        "      count1=1\n",
        "  print(maximum)  \n",
        "source=[1,1,2, 2, 1, 1,1,1]\n",
        "bunch(source)"
      ],
      "metadata": {
        "colab": {
          "base_uri": "https://localhost:8080/"
        },
        "id": "meVHWq-w3Oy_",
        "outputId": "7818f1ce-3289-4d78-c062-20d57370ffd8"
      },
      "execution_count": null,
      "outputs": [
        {
          "output_type": "stream",
          "name": "stdout",
          "text": [
            "4\n"
          ]
        }
      ]
    },
    {
      "cell_type": "markdown",
      "source": [
        "Repetition"
      ],
      "metadata": {
        "id": "TqThdDU5OuP-"
      }
    },
    {
      "cell_type": "code",
      "source": [
        "def repitition(source):\n",
        "  arr=[0]*(len(source))\n",
        "  value=\"\"\n",
        "  count=0\n",
        "  for i in range(0,len(source)):\n",
        "    if(str(source[i]) in value):\n",
        "      continue\n",
        "    else:\n",
        "      for j in range(0,len(source)):\n",
        "        if(source[i]==source[j]):\n",
        "          count+=1\n",
        "        arr[i]=count\n",
        "      value+=str(source[i])\n",
        "      count=0\n",
        "  # repitation= False\n",
        "  # for i in range(len(arr)):\n",
        "  #   if(arr[i]>=2):\n",
        "  #     for j in range(i+1,len(arr)):\n",
        "  #       if(arr[i]==arr[j]):\n",
        "  #         repitation = True\n",
        "  # return repitation\n",
        "  repitation=0\n",
        "  for num in range(0,len(arr)):\n",
        "    if(arr[num]>=2):\n",
        "      for count1 in range(num+1,len(arr)):\n",
        "        if(arr[num]==arr[count1]):\n",
        "          repitation+=1\n",
        "  if(repitation>=1):\n",
        "    print(\"True\")\n",
        "  else:\n",
        "    print(\"False\")\n",
        "source=[3,4,6,3,4,7,4,6,8,6,6]\n",
        "repitition(source)"
      ],
      "metadata": {
        "colab": {
          "base_uri": "https://localhost:8080/"
        },
        "id": "_AvSwMkTOv1c",
        "outputId": "4e704221-a928-4a5b-ce82-f9fffa370667"
      },
      "execution_count": null,
      "outputs": [
        {
          "output_type": "stream",
          "name": "stdout",
          "text": [
            "False\n"
          ]
        }
      ]
    },
    {
      "cell_type": "markdown",
      "source": [
        "Converting linear array to circular array"
      ],
      "metadata": {
        "id": "KjlgNZD-3DDM"
      }
    },
    {
      "cell_type": "code",
      "source": [
        "arr=[10,20,30,40,50,0,0,0,0,0,0]\n",
        "ca=[0]*len(arr)\n",
        "index_ca=7\n",
        "size=0\n",
        "for i in range(0,len(arr)):\n",
        "  if(arr[i]!=0):\n",
        "    size+=1\n",
        "for j in range(0,size):\n",
        "  ca[index_ca]=arr[j]\n",
        "  index_ca=(index_ca+1)%len(arr)\n",
        "print(ca)"
      ],
      "metadata": {
        "colab": {
          "base_uri": "https://localhost:8080/"
        },
        "id": "aQE7Pw033PIz",
        "outputId": "de84bdcd-8e02-404a-c2f4-86360fd583c1"
      },
      "execution_count": null,
      "outputs": [
        {
          "output_type": "stream",
          "name": "stdout",
          "text": [
            "[50, 0, 0, 0, 0, 0, 0, 10, 20, 30, 40]\n"
          ]
        }
      ]
    },
    {
      "cell_type": "code",
      "source": [
        "def lintocir(lin,start,size):\n",
        "  c_arr=[0]*len(lin)\n",
        "  index=start\n",
        "  i=0\n",
        "  while i<size:\n",
        "    c_arr[index]=lin[i]\n",
        "    index=(index+1)%len(lin)\n",
        "    i+=1\n",
        "  print(c_arr)\n",
        "lin=[1,2,3,0,0]\n",
        "lintocir(lin,3,3)"
      ],
      "metadata": {
        "id": "eVCoE34zriqQ",
        "outputId": "ce7b4031-a699-4fa4-9409-24fc59b1817b",
        "colab": {
          "base_uri": "https://localhost:8080/"
        }
      },
      "execution_count": null,
      "outputs": [
        {
          "output_type": "stream",
          "name": "stdout",
          "text": [
            "[3, 0, 0, 1, 2]\n"
          ]
        }
      ]
    },
    {
      "cell_type": "markdown",
      "source": [
        "reverse printing a circular array"
      ],
      "metadata": {
        "id": "k_ShmJtrJQOr"
      }
    },
    {
      "cell_type": "code",
      "source": [
        "def reverse(source,start,size):\n",
        "  index=(start+size-1)%len(source)\n",
        "  i=0\n",
        "  while i<size:\n",
        "    print(source[index])\n",
        "    index-=1\n",
        "    if(index<0):\n",
        "      index=len(source)-1\n",
        "    i+=1\n",
        "source=[40,50,0,0,0,0,0,0,10,20,30]\n",
        "reverse(source,8,5)"
      ],
      "metadata": {
        "colab": {
          "base_uri": "https://localhost:8080/"
        },
        "id": "bpaoMFFWRIZa",
        "outputId": "a35cd73f-09bc-4eff-c6c2-338345da8178"
      },
      "execution_count": null,
      "outputs": [
        {
          "output_type": "stream",
          "name": "stdout",
          "text": [
            "50\n",
            "40\n",
            "30\n",
            "20\n",
            "10\n"
          ]
        }
      ]
    },
    {
      "cell_type": "markdown",
      "source": [
        "coverting a circular array to a linear array"
      ],
      "metadata": {
        "id": "rpHCKtGnVKC2"
      }
    },
    {
      "cell_type": "code",
      "source": [
        "def convert(source,start,size):\n",
        "  arr=[0]*len(source)\n",
        "  i=0\n",
        "  while i<size:\n",
        "    arr[i]=source[start]\n",
        "    start=(start+1)%len(source)\n",
        "    i+=1\n",
        "  print(arr)\n",
        "source=[40,50,0,0,0,0,0,0,10,20,30]\n",
        "convert(source,8,5)"
      ],
      "metadata": {
        "colab": {
          "base_uri": "https://localhost:8080/"
        },
        "id": "_-zyJVLkVNC5",
        "outputId": "50b51931-2f84-409a-ec61-a2b8374361a5"
      },
      "execution_count": null,
      "outputs": [
        {
          "output_type": "stream",
          "name": "stdout",
          "text": [
            "[10, 20, 30, 40, 50, 0, 0, 0, 0, 0, 0]\n"
          ]
        }
      ]
    },
    {
      "cell_type": "markdown",
      "source": [
        "resizing a circular array"
      ],
      "metadata": {
        "id": "HI31duB4WVGn"
      }
    },
    {
      "cell_type": "code",
      "source": [
        "def resize(source,start,size):\n",
        "  arr=[0]*(len(source)+2)\n",
        "  index=start\n",
        "  new_index=start\n",
        "  i=0\n",
        "  while i<size:\n",
        "    arr[new_index]=source[index]\n",
        "    index=(index+1)%len(source)\n",
        "    new_index=(new_index+1)%len(arr)\n",
        "    i+=1\n",
        "  print(arr)\n",
        "source=[30,40,50,10,20]\n",
        "resize(source,3,5)"
      ],
      "metadata": {
        "colab": {
          "base_uri": "https://localhost:8080/"
        },
        "id": "reKf36GgWV2U",
        "outputId": "2530c4c6-7af0-4145-f297-51823733daf4"
      },
      "execution_count": null,
      "outputs": [
        {
          "output_type": "stream",
          "name": "stdout",
          "text": [
            "[50, 0, 0, 10, 20, 30, 40]\n"
          ]
        }
      ]
    },
    {
      "cell_type": "markdown",
      "source": [
        "Insertion"
      ],
      "metadata": {
        "id": "kJUXgINc1ZQN"
      }
    },
    {
      "cell_type": "code",
      "source": [
        "def insert(cir,start,size,item):\n",
        "  if(0 not in cir):\n",
        "    new_cir=[0]*(len(cir)+2)\n",
        "    cir_idx=start\n",
        "    new_idx=start\n",
        "    i=0\n",
        "    while i<size:\n",
        "      new_cir[new_idx]=cir[cir_idx]\n",
        "      cir_idx=(cir_idx+1)%len(cir)\n",
        "      new_idx=(new_idx+1)%len(new_cir)\n",
        "      i+=1\n",
        "  last_idx=(start+size-1)%len(new_cir)\n",
        "  new_cir[(last_idx+1)%len(new_cir)]=item\n",
        "  print(new_cir)\n",
        "cir=[4,5,1,2,3]\n",
        "insert(cir,2,5,6)"
      ],
      "metadata": {
        "id": "tVgp32WTtUUd",
        "outputId": "829a2843-8200-4dd1-8e50-301bce96ac25",
        "colab": {
          "base_uri": "https://localhost:8080/"
        }
      },
      "execution_count": null,
      "outputs": [
        {
          "output_type": "stream",
          "name": "stdout",
          "text": [
            "[6, 0, 1, 2, 3, 4, 5]\n"
          ]
        }
      ]
    },
    {
      "cell_type": "markdown",
      "source": [
        "Deletation"
      ],
      "metadata": {
        "id": "WIuuyTYx1a0S"
      }
    },
    {
      "cell_type": "code",
      "source": [
        "def deletation(cir,start,size):\n",
        "  last_idx=(start+size-1)%len(cir)\n",
        "  cir[last_idx]=0\n",
        "  print(cir)\n",
        "cir=[4,5,1,2,3]\n",
        "deletation(cir,2,5)"
      ],
      "metadata": {
        "colab": {
          "base_uri": "https://localhost:8080/"
        },
        "id": "7ZLK4TTK1k_L",
        "outputId": "7b30ab53-f0ae-4aa9-d70e-be8aa45b78cd"
      },
      "execution_count": null,
      "outputs": [
        {
          "output_type": "stream",
          "name": "stdout",
          "text": [
            "[4, 0, 1, 2, 3]\n"
          ]
        }
      ]
    },
    {
      "cell_type": "markdown",
      "source": [
        "Shifting and Insertion"
      ],
      "metadata": {
        "id": "aNo8ggya2fnM"
      }
    },
    {
      "cell_type": "code",
      "source": [
        "def insert(cir,start,size,item,index):\n",
        "  l_idx=(start+size-1)%len(cir)\n",
        "  idx=(l_idx+1)%len(cir)\n",
        "  n_shifts=size-index\n",
        "  for i in range(n_shifts):\n",
        "    cir[idx]=cir[l_idx]\n",
        "    idx=l_idx\n",
        "    l_idx-=1\n",
        "    if(l_idx==-1):\n",
        "      l_idx=len(cir)-1\n",
        "  position=(start+index)%len(cir)\n",
        "  cir[position]=item\n",
        "  size+=1\n",
        "  print(cir)\n",
        "cir=[0,0,1,2,3,4,5]\n",
        "insert(cir,2,5,50,4)"
      ],
      "metadata": {
        "colab": {
          "base_uri": "https://localhost:8080/"
        },
        "id": "Nbz2a_oS2hxF",
        "outputId": "4ac4f2b4-ef13-44dd-bb27-4d46d888e590"
      },
      "execution_count": null,
      "outputs": [
        {
          "output_type": "stream",
          "name": "stdout",
          "text": [
            "[5, 0, 1, 2, 3, 4, 50]\n"
          ]
        }
      ]
    },
    {
      "cell_type": "markdown",
      "source": [
        "Inserting an element using linked list"
      ],
      "metadata": {
        "id": "VpkwEkc-ErzU"
      }
    },
    {
      "cell_type": "code",
      "source": [
        "class Node:\n",
        "  def __init__(self,value):\n",
        "    self.value=value\n",
        "    self.next=None\n",
        "class Linkedlist:\n",
        "  def __init__(self,arr):\n",
        "    self.head=None\n",
        "    if(isinstance(arr,list)):\n",
        "      self.head=Node(arr[0])\n",
        "      head=self.head\n",
        "      for i in range(len(arr)):\n",
        "        new_node=Node(arr[i])\n",
        "        head.next=new_node\n",
        "        head=head.next\n",
        "    elif(isinstance(arr,Node)):\n",
        "      self.head=arr\n",
        "  def countNode(self):\n",
        "    head=self.head\n",
        "    count=0\n",
        "    if(head!=None):\n",
        "      count+=1\n",
        "      head=head.next\n",
        "    else:\n",
        "      return count\n",
        "  def NodeAt(self,idx):\n",
        "    head=self.head\n",
        "    count=0\n",
        "    if(idx>0 and idx<self.countNode()):\n",
        "      while(head!=None):\n",
        "        if(count==idx):\n",
        "          return head\n",
        "        else:\n",
        "          count+=1\n",
        "          head=head.next\n",
        "    else:\n",
        "      return f\"Index invalid.\"\n",
        "  def insert(self,element,idx):\n",
        "    head=self.head\n",
        "    if(idx>0 and idx<self.countNode()):\n",
        "      new_node=Node(element)\n",
        "      if(idx==0):\n",
        "        new_node.next=head\n",
        "        head=new_node\n",
        "      else:\n",
        "        prev=self.NodeAt(idx-1)\n",
        "        new_node.next=prev.next\n",
        "        prev.next=new_node\n",
        "    else:\n",
        "      return f\"Invalid Index.\"\n",
        "    return head\n",
        "arr=[10,20,30,40]\n",
        "l1=Linkedlist(arr)\n",
        "l1.insert(2,50)"
      ],
      "metadata": {
        "id": "3lTfUN3LEvQ9"
      },
      "execution_count": null,
      "outputs": []
    },
    {
      "cell_type": "markdown",
      "source": [
        "# Practice sheet (array)"
      ],
      "metadata": {
        "id": "qk-MWx2kqWcO"
      }
    },
    {
      "cell_type": "markdown",
      "source": [
        "task:01"
      ],
      "metadata": {
        "id": "_qA78Cp-qbl6"
      }
    },
    {
      "cell_type": "code",
      "source": [
        "a=int(input(\"Enter the value of a: \"))\n",
        "b=int(input(\"Enter the value of b: \"))\n",
        "arr1=[0]*a\n",
        "arr2=[0]*b\n",
        "for i in range(a):\n",
        "  arr1[i]=int(input(\"Enter the values of arr1: \"))\n",
        "for j in range(b):\n",
        "  arr2[j]=int(input(\"Enter the values of arr2: \"))\n",
        "count=0\n",
        "if(a<b):\n",
        "  for i in range(a):\n",
        "    if(arr1[i] in arr2):\n",
        "      count+=1\n",
        "else:\n",
        "  for i in range(b):\n",
        "    if(arr2[i] in arr1):\n",
        "      count+=1\n",
        "if(count==a ):\n",
        "  print(b)\n",
        "else:\n",
        "  unmatched=a-count\n",
        "  print(b+unmatched)"
      ],
      "metadata": {
        "id": "9UXEYq9kqYFY",
        "outputId": "b2276aa8-dd55-49c5-ec12-14361d611868",
        "colab": {
          "base_uri": "https://localhost:8080/"
        }
      },
      "execution_count": null,
      "outputs": [
        {
          "output_type": "stream",
          "name": "stdout",
          "text": [
            "Enter the value of a: 5\n",
            "Enter the value of b: 9\n",
            "Enter the values of arr1: 5\n",
            "Enter the values of arr1: 6\n",
            "Enter the values of arr1: 5\n",
            "Enter the values of arr1: 1\n",
            "Enter the values of arr1: 7\n",
            "Enter the values of arr2: 6\n",
            "Enter the values of arr2: 7\n",
            "Enter the values of arr2: 8\n",
            "Enter the values of arr2: 9\n",
            "Enter the values of arr2: 1\n",
            "Enter the values of arr2: 0\n",
            "Enter the values of arr2: 4\n",
            "Enter the values of arr2: 8\n",
            "Enter the values of arr2: 2\n",
            "11\n"
          ]
        }
      ]
    },
    {
      "cell_type": "markdown",
      "source": [
        "# Stack (Practice Sheet)\n",
        " Implement the push, pop and peek functions using an array. \n",
        " "
      ],
      "metadata": {
        "id": "QedT_pG1HrtY"
      }
    },
    {
      "cell_type": "code",
      "source": [
        "class Stack:\n",
        "  stack=[0]*10\n",
        "  size=-1\n",
        "  def push(self,element):\n",
        "    if(self.size==len(self.stack)):\n",
        "      print(\"Stack Overflow\")\n",
        "    else:\n",
        "      self.size+=1\n",
        "      self.stack[self.size]=element\n",
        "  def peek(self):\n",
        "    if(self.size<0):\n",
        "      print(\"Stack is empty.\")\n",
        "    else:\n",
        "      return self.stack[self.size]\n",
        "  def pop(self):\n",
        "    if(self.size<0):\n",
        "      print(\"Stack Underflow.\")\n",
        "    else:\n",
        "      result=self.stack[self.size]\n",
        "      self.size-=1\n",
        "      return result\n",
        "s1=Stack()\n",
        "s1.push(2)\n",
        "print(s1.peek())\n",
        "s1.pop()"
      ],
      "metadata": {
        "colab": {
          "base_uri": "https://localhost:8080/"
        },
        "id": "Q7uApJwLH0xn",
        "outputId": "8644c9f2-ace5-4620-ba18-02e3f1766a59"
      },
      "execution_count": null,
      "outputs": [
        {
          "output_type": "stream",
          "name": "stdout",
          "text": [
            "2\n"
          ]
        },
        {
          "output_type": "execute_result",
          "data": {
            "text/plain": [
              "2"
            ]
          },
          "metadata": {},
          "execution_count": 26
        }
      ]
    },
    {
      "cell_type": "markdown",
      "source": [
        " Implement the push, pop and peek functions using a linked list. "
      ],
      "metadata": {
        "id": "D53SA0c6N2Ia"
      }
    },
    {
      "cell_type": "code",
      "source": [
        "class Node:\n",
        "  def __init__(self,value):\n",
        "    self.value=value\n",
        "    self.next=None\n",
        "class Stack:\n",
        "  head=None\n",
        "  def push(self,value):\n",
        "    if(self.head!=None):                            #There will be no overflow as we can change the length of the linked list whenever we want by creating a new node. HEHE!!!\n",
        "      new=Node(value)\n",
        "      new=self.head\n",
        "      self.head=new\n",
        "    else:\n",
        "      self.head=Node(value)\n",
        "  def peek(self):\n",
        "    if(self.head==None):\n",
        "      return f\"Stack is empty.\"\n",
        "    else:\n",
        "      return self.head.value\n",
        "  def pop(self):\n",
        "    if(self.head==None):\n",
        "      return f\"Stack Underflow.\"\n",
        "    else:\n",
        "      result= self.head.value\n",
        "      temp = self.head\n",
        "      self.head=self.head.next\n",
        "      temp.value=None\n",
        "      temp.next=None\n",
        "      return result \n",
        "s2=Stack()\n",
        "print(s2.peek())\n",
        "print(s2.pop())\n",
        "s2.push(8)\n",
        "print(s2.peek())\n",
        "print(s2.pop())\n",
        "print(s2.peek())"
      ],
      "metadata": {
        "colab": {
          "base_uri": "https://localhost:8080/"
        },
        "id": "JqRU2rwrN78l",
        "outputId": "21a347b5-3c76-46b7-ee2b-7de572d36b63"
      },
      "execution_count": null,
      "outputs": [
        {
          "output_type": "stream",
          "name": "stdout",
          "text": [
            "Stack is empty.\n",
            "Stack Underflow.\n",
            "8\n",
            "8\n",
            "Stack is empty.\n"
          ]
        }
      ]
    },
    {
      "cell_type": "markdown",
      "source": [
        " Reverse a string using stack."
      ],
      "metadata": {
        "id": "pF--XMfrYQhi"
      }
    },
    {
      "cell_type": "code",
      "source": [
        "class Stack:\n",
        "  def __init__(self,string):\n",
        "    self.string=string\n",
        "    self.stack=[None]*len(string)\n",
        "    self.pointer=-1\n",
        "    self.size=0\n",
        "  def push(self,element):\n",
        "    if(self.size==len(self.stack)):\n",
        "      print(\"Stack overflow.\")\n",
        "    else:\n",
        "      self.pointer+=1\n",
        "      self.stack[self.pointer]=element\n",
        "      self.size+=1\n",
        "  def peek(self):\n",
        "    if(self.size==0):\n",
        "      print(\"Stack is empty.\")\n",
        "    else:\n",
        "      return self.stack[self.pointer]\n",
        "  def pop(self):\n",
        "    if(self.size<0):\n",
        "      return f\"Stack Underflow.\"    \n",
        "    else:\n",
        "      result=self.stack[self.pointer]\n",
        "      self.pointer-=1\n",
        "      self.size-=1\n",
        "      return result\n",
        "string=input(\"Enter the string: \")\n",
        "s1=Stack(string)\n",
        "for i in string:\n",
        "  s1.push(i)\n",
        "j=0\n",
        "result=\"\"\n",
        "while j<len(s1.stack):\n",
        "  result+=str(s1.pop())\n",
        "  j+=1\n",
        "print(result)"
      ],
      "metadata": {
        "colab": {
          "base_uri": "https://localhost:8080/"
        },
        "id": "91yeQH_yYUwG",
        "outputId": "f37d2604-a606-4f4d-9278-f0dfcd64fa70"
      },
      "execution_count": null,
      "outputs": [
        {
          "output_type": "stream",
          "name": "stdout",
          "text": [
            "Enter the string: 4\n",
            "4\n"
          ]
        }
      ]
    },
    {
      "cell_type": "markdown",
      "source": [
        "Creating an array queue class"
      ],
      "metadata": {
        "id": "BGpI0gNmxHAH"
      }
    },
    {
      "cell_type": "code",
      "source": [
        "class ArrayQueue:\n",
        "  def __init__(self,length):\n",
        "    self.length=length\n",
        "    self.array=[0]*self.length\n",
        "    self.pointer=-1\n",
        "    self.size=0\n",
        "    self.start=0\n",
        "  def enqueue(self,element):\n",
        "    if(self.size<=self.length):\n",
        "      self.pointer+=1\n",
        "      self.array[self.pointer]=element\n",
        "      self.size+=1\n",
        "    else:\n",
        "      return f\"The array is not empty.\"\n",
        "  def peek(self):\n",
        "    if(self.size==0):\n",
        "      return f\"The array is empty.\"\n",
        "    else:\n",
        "      return self.array[self.start]\n",
        "  def dequeue(self):\n",
        "    if(self.size==0):\n",
        "      return f\"No element in the array.\"\n",
        "    else:\n",
        "      result=self.array[self.start]\n",
        "      self.start=(self.start+1)%self.length\n",
        "      self.size-=1\n",
        "      return result\n",
        "length=int(input(\"Enter the length of the array: \"))\n",
        "a1=ArrayQueue(length)\n",
        "print(\"Top: \",a1.peek())\n",
        "a1.enqueue(6)\n",
        "a1.enqueue(10)\n",
        "print(\"Removed:\", a1.dequeue())\n",
        "print(\"Top: \",a1.peek())\n",
        "a1.enqueue(80)\n",
        "print(\"Top: \",a1.peek())\n",
        "print(\"Removed:\", a1.dequeue())\n",
        "print(\"Removed:\", a1.dequeue())\n",
        "print(\"Top: \",a1.peek())\n",
        "print(\"Removed:\", a1.dequeue())"
      ],
      "metadata": {
        "id": "A7BYpF4zxH0t",
        "colab": {
          "base_uri": "https://localhost:8080/"
        },
        "outputId": "d6cc4588-8509-4782-8cfb-cc9f0c672a81"
      },
      "execution_count": null,
      "outputs": [
        {
          "output_type": "stream",
          "name": "stdout",
          "text": [
            "Enter the length of the array: 6\n",
            "Top:  The array is empty.\n",
            "Removed: 6\n",
            "Top:  10\n",
            "Top:  10\n",
            "Removed: 10\n",
            "Removed: 80\n",
            "Top:  The array is empty.\n",
            "Removed: No element in the array.\n"
          ]
        }
      ]
    },
    {
      "cell_type": "markdown",
      "source": [
        "Creating an list queue class"
      ],
      "metadata": {
        "id": "1n_I1P4RwYC5"
      }
    },
    {
      "cell_type": "code",
      "source": [
        "class Node:\n",
        "  def __init__(self,value):\n",
        "    self.value=value\n",
        "    self.next=next\n",
        "class ListQueue:\n",
        "  head=None\n",
        "  tail=None\n",
        "  def enqueue(self,element):\n",
        "    new=Node(element)\n",
        "    if(self.head==None):\n",
        "      self.head=new\n",
        "      self.tail=new\n",
        "    else:\n",
        "      self.tail.next=new\n",
        "      self.tail=new\n",
        "  def dequeue(self):\n",
        "    temp=self.head\n",
        "    self.head=self.head.next\n",
        "    print(\"Removed: \",temp.value)\n",
        "    temp.next=None\n",
        "    temp.value=None\n",
        "  def peek(self):\n",
        "    return self.head.value\n",
        "l1=ListQueue()\n",
        "l1.enqueue(20)\n",
        "l1.enqueue(0)\n",
        "l1.enqueue(80)\n",
        "l1.enqueue(9)\n",
        "l1.enqueue(100)\n",
        "print(l1.peek())\n",
        "l1.dequeue()\n",
        "l1.dequeue()\n",
        "l1.dequeue()\n",
        "print(l1.peek())\n",
        "l1.dequeue()\n",
        "print(l1.peek())\n",
        "l1.dequeue()"
      ],
      "metadata": {
        "colab": {
          "base_uri": "https://localhost:8080/"
        },
        "id": "G5EtqnVvwKuR",
        "outputId": "a20ed80d-ba79-4af0-c020-60dca9a42640"
      },
      "execution_count": null,
      "outputs": [
        {
          "output_type": "stream",
          "name": "stdout",
          "text": [
            "20\n",
            "Removed:  20\n",
            "Removed:  0\n",
            "Removed:  80\n",
            "9\n",
            "Removed:  9\n",
            "100\n",
            "Removed:  100\n"
          ]
        }
      ]
    },
    {
      "cell_type": "markdown",
      "source": [
        "# Recursion"
      ],
      "metadata": {
        "id": "kohRZ4Af_Xh5"
      }
    },
    {
      "cell_type": "markdown",
      "source": [
        "Length of a string using recursion"
      ],
      "metadata": {
        "id": "mBq0e6va__Pg"
      }
    },
    {
      "cell_type": "code",
      "source": [
        "def length_recursion(string):\n",
        "  if(string==\"\"):\n",
        "    return 0\n",
        "  else:\n",
        "    return 1+length_recursion(string[1:])\n",
        "length_recursion(\"MALIHA\")"
      ],
      "metadata": {
        "colab": {
          "base_uri": "https://localhost:8080/"
        },
        "id": "9iZC98YkAF8t",
        "outputId": "23d309c9-f475-4085-d8fd-5b71af181db3"
      },
      "execution_count": null,
      "outputs": [
        {
          "output_type": "execute_result",
          "data": {
            "text/plain": [
              "6"
            ]
          },
          "metadata": {},
          "execution_count": 31
        }
      ]
    },
    {
      "cell_type": "markdown",
      "source": [
        "Length of a linked list using recursion"
      ],
      "metadata": {
        "id": "QVx6iFtCCItI"
      }
    },
    {
      "cell_type": "code",
      "source": [
        "class Node:\n",
        "  def __init__(self,value,next):\n",
        "    self.value=value\n",
        "    self.next=None\n",
        "class Linkedlist:\n",
        "  def __init__(self,list1):\n",
        "    self.head=Node(list1[0],None)\n",
        "    h=self.head\n",
        "    for i in range(1,len(list1)):\n",
        "      new=Node(list1[i],None)\n",
        "      h.next=new\n",
        "      h=h.next\n",
        "  def length(self,node):\n",
        "    if(node==None):\n",
        "      return 0\n",
        "    else:\n",
        "      return 1+self.length(node.next)\n",
        "list1=[10,20,30,40]\n",
        "s1=Linkedlist(list1)\n",
        "s1.length(s1.head)"
      ],
      "metadata": {
        "colab": {
          "base_uri": "https://localhost:8080/"
        },
        "id": "BZZxu6YQCMBx",
        "outputId": "978dc845-5c0f-45f3-aff5-3c0b094867a6"
      },
      "execution_count": null,
      "outputs": [
        {
          "output_type": "execute_result",
          "data": {
            "text/plain": [
              "4"
            ]
          },
          "metadata": {},
          "execution_count": 32
        }
      ]
    },
    {
      "cell_type": "code",
      "source": [
        "class Node:\n",
        "  def __init__(self,value):\n",
        "    self.value=value\n",
        "    self.next=None\n",
        "class Linkedlist:\n",
        "  def __init__(self,list1):\n",
        "    self.head=Node(list1[0])\n",
        "    self.head.next=None\n",
        "    head=self.head\n",
        "    for i in range(1,len(list1)):\n",
        "      new=Node(list1[i])\n",
        "      new.next=None\n",
        "      head.next=new\n",
        "      head=head.next\n",
        "  def length(self,node):\n",
        "    if(node==None):\n",
        "      return 0\n",
        "    else:\n",
        "      return 1+self.length(node.next)\n",
        "list1=[90,80,70,60,50,40]\n",
        "a1=Linkedlist(list1)\n",
        "a1.length(a1.head)"
      ],
      "metadata": {
        "colab": {
          "base_uri": "https://localhost:8080/"
        },
        "id": "QyXTXkEUCev0",
        "outputId": "52141aa0-091e-40d3-da84-81ab8d915587"
      },
      "execution_count": null,
      "outputs": [
        {
          "output_type": "execute_result",
          "data": {
            "text/plain": [
              "6"
            ]
          },
          "metadata": {},
          "execution_count": 33
        }
      ]
    },
    {
      "cell_type": "markdown",
      "source": [
        "Sum of natural numbers using recursion"
      ],
      "metadata": {
        "id": "wQUkzJx7EFya"
      }
    },
    {
      "cell_type": "code",
      "source": [
        "def natural_number(n):\n",
        "  if(n==0):\n",
        "    return 0\n",
        "  else:\n",
        "    return n+ natural_number(n-1)\n",
        "n=int(input(\"Enter a number: \"))\n",
        "natural_number(n)"
      ],
      "metadata": {
        "colab": {
          "base_uri": "https://localhost:8080/"
        },
        "id": "tOQ6o2OwEvoy",
        "outputId": "6bc90a2b-7487-4074-b0a8-f32c674e12f0"
      },
      "execution_count": null,
      "outputs": [
        {
          "name": "stdout",
          "output_type": "stream",
          "text": [
            "Enter a number: 56\n"
          ]
        },
        {
          "output_type": "execute_result",
          "data": {
            "text/plain": [
              "1596"
            ]
          },
          "metadata": {},
          "execution_count": 34
        }
      ]
    },
    {
      "cell_type": "markdown",
      "source": [
        "Exponentiation"
      ],
      "metadata": {
        "id": "5pIuLBzjG7up"
      }
    },
    {
      "cell_type": "code",
      "source": [
        "def power(n,a):\n",
        "  if(a==1):\n",
        "    return n\n",
        "  else:\n",
        "    return n * power(n,a-1)\n",
        "n=int(input(\"Enter a number: \"))\n",
        "a= int(input(\"Enter the power of the number: \"))\n",
        "power(n,a)"
      ],
      "metadata": {
        "colab": {
          "base_uri": "https://localhost:8080/"
        },
        "id": "jebIqhEMG7KM",
        "outputId": "716e097b-0d4d-45ee-84fa-0d816db709a8"
      },
      "execution_count": null,
      "outputs": [
        {
          "name": "stdout",
          "output_type": "stream",
          "text": [
            "Enter a number: 4\n",
            "Enter the power of the number: 9\n"
          ]
        },
        {
          "output_type": "execute_result",
          "data": {
            "text/plain": [
              "262144"
            ]
          },
          "metadata": {},
          "execution_count": 35
        }
      ]
    },
    {
      "cell_type": "markdown",
      "source": [
        "Binary to Decimal Using Recursion"
      ],
      "metadata": {
        "id": "zUMObdWcIRpT"
      }
    },
    {
      "cell_type": "code",
      "source": [
        "def BintoDec(string, i , decimal):\n",
        "  if(len(string)==i):\n",
        "    return decimal\n",
        "  else:\n",
        "    if(string[i]==\"0\"):\n",
        "      decimal = decimal*2\n",
        "    else:\n",
        "      decimal=decimal*2 + 1\n",
        "    return BintoDec(string,i+1,decimal)\n",
        "string=input(\"Enter a binary value: \")\n",
        "BintoDec(string,0,0)"
      ],
      "metadata": {
        "colab": {
          "base_uri": "https://localhost:8080/"
        },
        "id": "0BmfE35dSj2W",
        "outputId": "edfa0515-b35b-4d13-8bef-0c16260d063c"
      },
      "execution_count": null,
      "outputs": [
        {
          "name": "stdout",
          "output_type": "stream",
          "text": [
            "Enter a binary value: 10\n"
          ]
        },
        {
          "output_type": "execute_result",
          "data": {
            "text/plain": [
              "2"
            ]
          },
          "metadata": {},
          "execution_count": 36
        }
      ]
    },
    {
      "cell_type": "markdown",
      "source": [
        "Sum of Digits using recursion"
      ],
      "metadata": {
        "id": "XTnfSa8BT5hm"
      }
    },
    {
      "cell_type": "code",
      "source": [
        "def sumofdigits(number,i,result):\n",
        "  if(len(number)==i):\n",
        "    return result\n",
        "  else:\n",
        "    result=result+int(number[i])\n",
        "  return sumofdigits(number,i+1,result)\n",
        "number=input(\"Enter a number: \")\n",
        "sumofdigits(number,0,0)"
      ],
      "metadata": {
        "colab": {
          "base_uri": "https://localhost:8080/"
        },
        "id": "rP3YzSf0T9LW",
        "outputId": "0ea48353-f14c-4d40-faa2-27b42e3742c9"
      },
      "execution_count": null,
      "outputs": [
        {
          "name": "stdout",
          "output_type": "stream",
          "text": [
            "Enter a number: 85\n"
          ]
        },
        {
          "output_type": "execute_result",
          "data": {
            "text/plain": [
              "13"
            ]
          },
          "metadata": {},
          "execution_count": 37
        }
      ]
    },
    {
      "cell_type": "markdown",
      "source": [
        "printing the values in reverse order using recursion"
      ],
      "metadata": {
        "id": "UVylS8g0Y0Ie"
      }
    },
    {
      "cell_type": "code",
      "source": [
        "def reverse(number,i,store):\n",
        "  if(i==0):\n",
        "    return int(store)\n",
        "  else:\n",
        "    result=int(number)%10\n",
        "    store+=str(result)\n",
        "  return reverse(int(number)//10,i-1,store)\n",
        "number=input(\"Enter a number: \")\n",
        "store=\"\"\n",
        "reverse(number,len(number),store)"
      ],
      "metadata": {
        "colab": {
          "base_uri": "https://localhost:8080/"
        },
        "id": "2QbNfQ6nY6qc",
        "outputId": "4a9a514c-d186-4d94-e6cb-2db53fbf2806"
      },
      "execution_count": null,
      "outputs": [
        {
          "name": "stdout",
          "output_type": "stream",
          "text": [
            "Enter a number: 5\n"
          ]
        },
        {
          "output_type": "execute_result",
          "data": {
            "text/plain": [
              "5"
            ]
          },
          "metadata": {},
          "execution_count": 38
        }
      ]
    },
    {
      "cell_type": "markdown",
      "source": [
        "factorial using recursion"
      ],
      "metadata": {
        "id": "Q-voaYRFfO09"
      }
    },
    {
      "cell_type": "code",
      "source": [
        "def factorial(n):\n",
        "  if(n==2):\n",
        "    return 2\n",
        "  else:\n",
        "    return n*factorial(n-1)\n",
        "factorial(10)"
      ],
      "metadata": {
        "colab": {
          "base_uri": "https://localhost:8080/"
        },
        "id": "w-zvH48mfRrh",
        "outputId": "a5e01cbb-7cc7-4c7d-bed5-6a0a69658e1e"
      },
      "execution_count": null,
      "outputs": [
        {
          "output_type": "execute_result",
          "data": {
            "text/plain": [
              "3628800"
            ]
          },
          "metadata": {},
          "execution_count": 39
        }
      ]
    },
    {
      "cell_type": "markdown",
      "source": [
        "Bubble sort"
      ],
      "metadata": {
        "id": "83UM76988tzI"
      }
    },
    {
      "cell_type": "code",
      "source": [
        "def bubble_sort(list1):\n",
        "  i=len(list1)-1\n",
        "  while i>=0:\n",
        "    for j in range(i):\n",
        "      if(list1[j]>list1[j+1]):\n",
        "        list1[j+1],list1[j]=list1[j],list1[j+1]\n",
        "    i-=1\n",
        "  return list1\n",
        "list1=[80,50,40,30,20,70]\n",
        "bubble_sort(list1)"
      ],
      "metadata": {
        "colab": {
          "base_uri": "https://localhost:8080/"
        },
        "id": "YQo_2RoS8vkk",
        "outputId": "7d9b5883-f3d4-4153-e7aa-1ee19f93585e"
      },
      "execution_count": null,
      "outputs": [
        {
          "output_type": "execute_result",
          "data": {
            "text/plain": [
              "[20, 30, 40, 50, 70, 80]"
            ]
          },
          "metadata": {},
          "execution_count": 50
        }
      ]
    },
    {
      "cell_type": "markdown",
      "source": [
        "Insertion Sort"
      ],
      "metadata": {
        "id": "9aOnpRdiBTP-"
      }
    },
    {
      "cell_type": "code",
      "source": [
        "def insertion_sort(list1):\n",
        "  for i in range(0,len(list1)):\n",
        "    while list1[i-1] > list1[i] and i>0:\n",
        "      list1[i],list1[i-1]=list1[i-1],list1[i]\n",
        "      i-=1\n",
        "  return list1\n",
        "list1=[80,50,40,30,20,70]\n",
        "insertion_sort(list1)"
      ],
      "metadata": {
        "colab": {
          "base_uri": "https://localhost:8080/"
        },
        "id": "CnzraTbo_ocE",
        "outputId": "de74bcb2-e973-4d67-9ca9-7645ea0cfc68"
      },
      "execution_count": null,
      "outputs": [
        {
          "output_type": "execute_result",
          "data": {
            "text/plain": [
              "[20, 30, 40, 50, 70, 80]"
            ]
          },
          "metadata": {},
          "execution_count": 55
        }
      ]
    },
    {
      "cell_type": "markdown",
      "source": [
        "Selection Sort"
      ],
      "metadata": {
        "id": "4WcZW7LsHggZ"
      }
    },
    {
      "cell_type": "code",
      "source": [
        "def selection_sort(list1):\n",
        "  i=len(list1)-1\n",
        "  while i>=0:\n",
        "    max_idx=i\n",
        "    max=list1[i]\n",
        "    for j in range(0,i):\n",
        "      if(list1[j]>max):\n",
        "        max_idx=j\n",
        "        max=list1[j]\n",
        "    list1[max_idx],list1[i]=list1[i],list1[max_idx]\n",
        "    i-=1\n",
        "  return list1\n",
        "list1=[80,50,40,30,20,70]\n",
        "selection_sort(list1)"
      ],
      "metadata": {
        "colab": {
          "base_uri": "https://localhost:8080/"
        },
        "id": "yaeMQdQsHlDP",
        "outputId": "844b7a5f-9220-435b-fb4b-7aa642e5d810"
      },
      "execution_count": null,
      "outputs": [
        {
          "output_type": "execute_result",
          "data": {
            "text/plain": [
              "[20, 30, 40, 50, 70, 80]"
            ]
          },
          "metadata": {},
          "execution_count": 58
        }
      ]
    },
    {
      "cell_type": "code",
      "source": [
        "def bubble_sort(list1):\n",
        "  i=len(list1)-1\n",
        "  while i>=0:\n",
        "    for j in range(0,i):\n",
        "      if(list1[j]>list1[j+1]):\n",
        "        list1[j+1],list1[j]=list1[j],list1[j+1]\n",
        "    i-=1\n",
        "  return list1\n",
        "bubble_sort([10,50,80,60,30,80])"
      ],
      "metadata": {
        "id": "jLncsp3QXNrq",
        "outputId": "6c05100c-6bc3-4dd0-f60d-4f249e4e65d8",
        "colab": {
          "base_uri": "https://localhost:8080/"
        }
      },
      "execution_count": null,
      "outputs": [
        {
          "output_type": "execute_result",
          "data": {
            "text/plain": [
              "[10, 30, 50, 60, 80, 80]"
            ]
          },
          "metadata": {},
          "execution_count": 60
        }
      ]
    },
    {
      "cell_type": "code",
      "source": [
        "def insertion_sort(list1):\n",
        "  for i in range(1,len(list1)):\n",
        "    while list1[i-1]>list1[i] and i>0:\n",
        "      list1[i-1],list1[i]=list1[i],list1[i-1]\n",
        "      i-=1\n",
        "  return list1\n",
        "insertion_sort([10,50,80,60,30,80])  "
      ],
      "metadata": {
        "id": "5qbH-VJ1YXZW",
        "outputId": "e8defec8-3d09-4a85-e659-a1941e6e9bf8",
        "colab": {
          "base_uri": "https://localhost:8080/"
        }
      },
      "execution_count": null,
      "outputs": [
        {
          "output_type": "execute_result",
          "data": {
            "text/plain": [
              "[10, 30, 50, 60, 80, 80]"
            ]
          },
          "metadata": {},
          "execution_count": 61
        }
      ]
    },
    {
      "cell_type": "code",
      "source": [
        "def selection_sort(list1):\n",
        "  i=len(list1)-1\n",
        "  while(i>=0):\n",
        "    max_idx=i\n",
        "    max=list1[i]\n",
        "    for j in range(0,i):\n",
        "      if(list1[j]>max):\n",
        "        max=list1[j]\n",
        "        max_idx=j\n",
        "    list1[max_idx],list1[i]=list1[i],list1[max_idx]\n",
        "    i-=1\n",
        "  return list1\n",
        "selection_sort([10,50,80,60,30,80]) "
      ],
      "metadata": {
        "id": "TDfqIRMwZTX7",
        "outputId": "cecce393-209d-4745-9ce7-339191922c73",
        "colab": {
          "base_uri": "https://localhost:8080/"
        }
      },
      "execution_count": null,
      "outputs": [
        {
          "output_type": "execute_result",
          "data": {
            "text/plain": [
              "[10, 30, 50, 60, 80, 80]"
            ]
          },
          "metadata": {},
          "execution_count": 62
        }
      ]
    },
    {
      "cell_type": "markdown",
      "source": [
        "Linear search"
      ],
      "metadata": {
        "id": "acTTQLWngohZ"
      }
    },
    {
      "cell_type": "code",
      "source": [
        "def linear_search(list1,number):\n",
        "  for i in range(len(list1)):\n",
        "    if(list1[i]==number):\n",
        "      return i\n",
        "  return -1\n",
        "list1=[10,8,4,7,2]\n",
        "linear_search(list1, 9)"
      ],
      "metadata": {
        "id": "QksQshYKgsdA",
        "outputId": "516b3c58-f09d-4ac0-9325-460912112b85",
        "colab": {
          "base_uri": "https://localhost:8080/"
        }
      },
      "execution_count": null,
      "outputs": [
        {
          "output_type": "execute_result",
          "data": {
            "text/plain": [
              "-1"
            ]
          },
          "metadata": {},
          "execution_count": 66
        }
      ]
    },
    {
      "cell_type": "markdown",
      "source": [
        "factorial"
      ],
      "metadata": {
        "id": "bMNqPdqn_bd7"
      }
    },
    {
      "cell_type": "code",
      "source": [
        "def factorial(n):\n",
        "  if(n==2):\n",
        "    return n\n",
        "  else:\n",
        "    return n * factorial(n-1)\n",
        "n=int(input(\"Enter the number: \"))\n",
        "factorial(n)"
      ],
      "metadata": {
        "id": "yImuyUG2_bB2",
        "outputId": "206e359a-7889-460b-f79b-38c778280cd4",
        "colab": {
          "base_uri": "https://localhost:8080/"
        }
      },
      "execution_count": null,
      "outputs": [
        {
          "name": "stdout",
          "output_type": "stream",
          "text": [
            "Enter the number: 3\n"
          ]
        },
        {
          "output_type": "execute_result",
          "data": {
            "text/plain": [
              "6"
            ]
          },
          "metadata": {},
          "execution_count": 1
        }
      ]
    },
    {
      "cell_type": "markdown",
      "source": [
        "Fibonacci number"
      ],
      "metadata": {
        "id": "q7pf2jGjATxx"
      }
    },
    {
      "cell_type": "code",
      "source": [
        "def fibonacci(n):\n",
        "  if(0<=n<=1):\n",
        "    return n\n",
        "  else:\n",
        "    return fibonacci(n-1) + fibonacci(n-2)\n",
        "n=int(input(\"Enter the number: \"))\n",
        "fibonacci(n)"
      ],
      "metadata": {
        "id": "0iF2q9mFAWWu",
        "outputId": "bcf9754e-e68a-4c4a-fda9-c5681a69986e",
        "colab": {
          "base_uri": "https://localhost:8080/"
        }
      },
      "execution_count": null,
      "outputs": [
        {
          "name": "stdout",
          "output_type": "stream",
          "text": [
            "Enter the number: 8\n"
          ]
        },
        {
          "output_type": "execute_result",
          "data": {
            "text/plain": [
              "21"
            ]
          },
          "metadata": {},
          "execution_count": 4
        }
      ]
    },
    {
      "cell_type": "markdown",
      "source": [
        "Printing all the elements"
      ],
      "metadata": {
        "id": "u92_d11zBTf4"
      }
    },
    {
      "cell_type": "code",
      "source": [
        "def printit(arr,i):\n",
        "  if(i==len(arr)-1):\n",
        "    return arr[i]\n",
        "  else:\n",
        "    print(arr[i],end=\",\")\n",
        "    return printit(arr,i+1)\n",
        "arr=[10,20,30,40,50]\n",
        "printit(arr,0)"
      ],
      "metadata": {
        "id": "-ir2JkYRBaFZ",
        "outputId": "e84c0ded-2040-4882-bd43-2b5c22898896",
        "colab": {
          "base_uri": "https://localhost:8080/"
        }
      },
      "execution_count": null,
      "outputs": [
        {
          "output_type": "stream",
          "name": "stdout",
          "text": [
            "10,20,30,40,"
          ]
        },
        {
          "output_type": "execute_result",
          "data": {
            "text/plain": [
              "50"
            ]
          },
          "metadata": {},
          "execution_count": 5
        }
      ]
    },
    {
      "cell_type": "markdown",
      "source": [
        "Power"
      ],
      "metadata": {
        "id": "bo9-oB5RCNsw"
      }
    },
    {
      "cell_type": "code",
      "source": [
        "def powerN(base,n):\n",
        "  if(n==1):\n",
        "    return base\n",
        "  else:\n",
        "    return base * powerN(base,n-1)\n",
        "base=int(input(\"Enter the base: \"))\n",
        "n=int(input(\"Enter the power: \"))\n",
        "powerN(base,n)"
      ],
      "metadata": {
        "id": "np3Zkgo6CXtm",
        "outputId": "b09c5021-467d-4f96-e170-663b1e5e1d73",
        "colab": {
          "base_uri": "https://localhost:8080/"
        }
      },
      "execution_count": null,
      "outputs": [
        {
          "name": "stdout",
          "output_type": "stream",
          "text": [
            "Enter the base: 3\n",
            "Enter the power: 3\n"
          ]
        },
        {
          "output_type": "execute_result",
          "data": {
            "text/plain": [
              "27"
            ]
          },
          "metadata": {},
          "execution_count": 8
        }
      ]
    },
    {
      "cell_type": "markdown",
      "source": [
        "Decimal to Binary"
      ],
      "metadata": {
        "id": "9QWXSA_lC_7Y"
      }
    },
    {
      "cell_type": "code",
      "source": [
        "def dectobin(decimal):\n",
        "  if(decimal==0):\n",
        "    return 0\n",
        "  else:\n",
        "    return int(str(decimal//2) + str(decimal%2))\n",
        "decimal=int(input(\"Enter the number: \"))\n",
        "dectobin(decimal)"
      ],
      "metadata": {
        "id": "qOwuKLJoktMG",
        "outputId": "ed46c039-cc86-4dfd-9f29-8aa009a8255f",
        "colab": {
          "base_uri": "https://localhost:8080/"
        }
      },
      "execution_count": null,
      "outputs": [
        {
          "name": "stdout",
          "output_type": "stream",
          "text": [
            "Enter the number: 3\n"
          ]
        },
        {
          "output_type": "execute_result",
          "data": {
            "text/plain": [
              "11"
            ]
          },
          "metadata": {},
          "execution_count": 37
        }
      ]
    },
    {
      "cell_type": "markdown",
      "source": [
        "Adding everything in list by linked list"
      ],
      "metadata": {
        "id": "GVKFGR0ZmHLy"
      }
    },
    {
      "cell_type": "code",
      "source": [
        "class Node:\n",
        "  def __init__(self,value):\n",
        "    self.value=value\n",
        "    self.next=next\n",
        "class Linkedlist:\n",
        "  def __init__(self,list1):\n",
        "    self.head=Node(list1[0])\n",
        "    self.next=None\n",
        "    head=self.head\n",
        "    for i in range(1,len(list1)):\n",
        "      new=Node(list1[i])\n",
        "      new.next=None\n",
        "      head.next=new\n",
        "      head=head.next\n",
        "def adder(head):\n",
        "  if(head==None):\n",
        "    return 0\n",
        "  else:\n",
        "    return head.value + adder(head.next)\n",
        "list1=[10,20,30,40,50]\n",
        "l1=Linkedlist(list1)\n",
        "adder(l1.head)"
      ],
      "metadata": {
        "id": "Ed_Xf-69mbn7",
        "outputId": "64c785db-ee81-4b32-c173-5f756c06af07",
        "colab": {
          "base_uri": "https://localhost:8080/"
        }
      },
      "execution_count": null,
      "outputs": [
        {
          "output_type": "execute_result",
          "data": {
            "text/plain": [
              "150"
            ]
          },
          "metadata": {},
          "execution_count": 39
        }
      ]
    },
    {
      "cell_type": "markdown",
      "source": [
        "Reversing everything in list by linked list"
      ],
      "metadata": {
        "id": "lV_OarCrpyUU"
      }
    },
    {
      "cell_type": "code",
      "source": [
        "class Node:\n",
        "  def __init__(self,value):\n",
        "    self.value=value\n",
        "    self.next=None\n",
        "class Linkedlist:\n",
        "  def __init__(self,list1):\n",
        "    self.head=Node(list1[0])\n",
        "    self.next=None\n",
        "    head=self.head\n",
        "    for i in range(1,len(list1)):\n",
        "      new=Node(list1[i])\n",
        "      new.next=None\n",
        "      head.next=new\n",
        "      head=head.next\n",
        "def reverse(head):\n",
        "  if(head==None):\n",
        "    return 0\n",
        "  else:\n",
        "    reverse(head.next)\n",
        "    print(head.value)\n",
        "list1=[10,20,30,40]\n",
        "l1=Linkedlist(list1)\n",
        "reverse(l1.head)"
      ],
      "metadata": {
        "id": "qTq3X-gFp08F",
        "outputId": "4b621b9e-ad66-468d-e4bf-4c60f68b7458",
        "colab": {
          "base_uri": "https://localhost:8080/"
        }
      },
      "execution_count": null,
      "outputs": [
        {
          "output_type": "stream",
          "name": "stdout",
          "text": [
            "40\n",
            "30\n",
            "20\n",
            "10\n"
          ]
        }
      ]
    },
    {
      "cell_type": "markdown",
      "source": [
        "Builder"
      ],
      "metadata": {
        "id": "O_VkYIIaONjB"
      }
    },
    {
      "cell_type": "code",
      "source": [
        "def hocBuilder(height): \n",
        "  if(height==0):\n",
        "    print(\"The house can't be built.\")\n",
        "  elif(height==1):\n",
        "    return 8\n",
        "  else:\n",
        "    return 5 + hocBuilder(height-1)\n",
        "height=int(input(\"Enter the height: \"))\n",
        "hocBuilder(height)"
      ],
      "metadata": {
        "id": "jNu_W2bVOQtE",
        "outputId": "5b0c10c8-369a-49fe-f86b-64c139cc0b84",
        "colab": {
          "base_uri": "https://localhost:8080/"
        }
      },
      "execution_count": 6,
      "outputs": [
        {
          "name": "stdout",
          "output_type": "stream",
          "text": [
            "Enter the height: 2\n"
          ]
        },
        {
          "output_type": "execute_result",
          "data": {
            "text/plain": [
              "13"
            ]
          },
          "metadata": {},
          "execution_count": 6
        }
      ]
    },
    {
      "cell_type": "markdown",
      "source": [
        "Pattern"
      ],
      "metadata": {
        "id": "CUZrmIyXO3ql"
      }
    },
    {
      "cell_type": "code",
      "source": [
        "def pattern()"
      ],
      "metadata": {
        "id": "W_JJT30DO3SF"
      },
      "execution_count": null,
      "outputs": []
    },
    {
      "cell_type": "code",
      "source": [
        "def pera(x,y):\n",
        "    if x == y+1:\n",
        "\n",
        "        return\n",
        "\n",
        "    else:\n",
        "        print(x, end=' ')\n",
        "        pera(x+1,y)\n",
        "def shape (i,j):\n",
        "    if i==j+1:\n",
        "        return\n",
        "    else:\n",
        "        pera(1,i)\n",
        "        print()\n",
        "        shape(i+1,j)\n",
        "shape(1,5)"
      ],
      "metadata": {
        "id": "kRIo-n_BO-pm",
        "outputId": "33f3473d-37b0-411a-ac13-364e05a275b2",
        "colab": {
          "base_uri": "https://localhost:8080/"
        }
      },
      "execution_count": 8,
      "outputs": [
        {
          "output_type": "stream",
          "name": "stdout",
          "text": [
            "1 \n",
            "1 2 \n",
            "1 2 3 \n",
            "1 2 3 4 \n",
            "1 2 3 4 5 \n"
          ]
        }
      ]
    }
  ]
}