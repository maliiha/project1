{
  "nbformat": 4,
  "nbformat_minor": 0,
  "metadata": {
    "colab": {
      "provenance": [],
      "authorship_tag": "ABX9TyO9Ur5YO3VznGEmKrm2U9lD",
      "include_colab_link": true
    },
    "kernelspec": {
      "name": "python3",
      "display_name": "Python 3"
    },
    "language_info": {
      "name": "python"
    }
  },
  "cells": [
    {
      "cell_type": "markdown",
      "metadata": {
        "id": "view-in-github",
        "colab_type": "text"
      },
      "source": [
        "<a href=\"https://colab.research.google.com/github/maliiha/project1/blob/main/Practice_after_RS.ipynb\" target=\"_parent\"><img src=\"https://colab.research.google.com/assets/colab-badge.svg\" alt=\"Open In Colab\"/></a>"
      ]
    },
    {
      "cell_type": "code",
      "execution_count": null,
      "metadata": {
        "id": "wTk1c3Rpud6K",
        "outputId": "f48832f9-27a7-48e3-90cd-6c0268beeb3a",
        "colab": {
          "base_uri": "https://localhost:8080/"
        }
      },
      "outputs": [
        {
          "output_type": "stream",
          "name": "stdout",
          "text": [
            "Enter a number between 1 to 100: 24\n",
            "Not Weird\n"
          ]
        }
      ],
      "source": [
        "n=int(input(\"Enter a number between 1 to 100: \"))\n",
        "if(n%2!=0):\n",
        "  print(\"Weird\")\n",
        "elif(2<=n<=5):\n",
        "  print(\"Not Weird\")\n",
        "elif(6<=n<=20):\n",
        "  print(\"Weird\")\n",
        "else:\n",
        "  print(\"Not Weird\")"
      ]
    },
    {
      "cell_type": "code",
      "source": [
        "a=[10,20,30,40,50,60]\n",
        "i=0\n",
        "while i<len(a):\n",
        "  print(a[i])\n",
        "  i+=1"
      ],
      "metadata": {
        "id": "BK7bNy_5M-No",
        "outputId": "4c9b2430-942e-40ea-ca4e-9a33bd7b6362",
        "colab": {
          "base_uri": "https://localhost:8080/"
        }
      },
      "execution_count": null,
      "outputs": [
        {
          "output_type": "stream",
          "name": "stdout",
          "text": [
            "10\n",
            "20\n",
            "30\n",
            "40\n",
            "50\n",
            "60\n"
          ]
        }
      ]
    },
    {
      "cell_type": "markdown",
      "source": [
        "ajaira"
      ],
      "metadata": {
        "id": "RxYUjaJ1ypK4"
      }
    },
    {
      "cell_type": "code",
      "source": [
        "x=int(input(\"How many dollars do you have? \"))\n",
        "result=0\n",
        "roll1=0\n",
        "roll2=0\n",
        "amount=x\n",
        "while x>0:\n",
        "  import random\n",
        "  dice1=random.randint(1,6)\n",
        "  dice2=random.randint(1,6)\n",
        "  roll1+=1\n",
        "  result=dice1+dice2\n",
        "  if(result==7):\n",
        "    x+=4   \n",
        "  else:\n",
        "    x-=1\n",
        "  if(x>amount):\n",
        "    amount=x\n",
        "    roll2=roll1\n",
        "print(\"You are broke after\",{roll1},\"rolls.\")\n",
        "print(\"You should have quit after\",{roll2},\"when you had\",{amount})"
      ],
      "metadata": {
        "id": "I6iyxjESymB_",
        "outputId": "dcc53009-6abf-4359-8d27-ffa342bf3999",
        "colab": {
          "base_uri": "https://localhost:8080/"
        }
      },
      "execution_count": 75,
      "outputs": [
        {
          "output_type": "stream",
          "name": "stdout",
          "text": [
            "How many dollars do you have? 50\n",
            "You are broke after {355} rolls.\n",
            "You should have quit after {14} when you had {61}\n"
          ]
        }
      ]
    }
  ]
}